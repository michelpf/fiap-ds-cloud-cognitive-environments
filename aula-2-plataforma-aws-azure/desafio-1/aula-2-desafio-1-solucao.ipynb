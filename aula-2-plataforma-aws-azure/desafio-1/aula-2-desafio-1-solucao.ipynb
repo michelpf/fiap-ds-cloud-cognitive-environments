{
  "cells": [
    {
      "cell_type": "markdown",
      "metadata": {
        "id": "fz9cVDZ2zRdM"
      },
      "source": [
        "## Desafio 1\n",
        "\n",
        "Utilizando o dataset disponibilizado no repositório da aula, referente a atributos que podem determinar se um funcionário deixará a empresa, treine diferentes modelos com o Azure Machine Learning Studio para atividades de Auto ML, com a finalidade de alcançar taxa AUC no mínimo de 85%.\n",
        "\n",
        "Não utilizem algoritmos de Deep Learning.\n",
        "\n",
        "No término, implemente um endpoint de aplicação Web e consuma a partir de um notebook."
      ]
    },
    {
      "cell_type": "code",
      "execution_count": 6,
      "metadata": {
        "collapsed": true,
        "id": "xJc3OczlzRdW"
      },
      "outputs": [],
      "source": [
        "import requests\n",
        "import json"
      ]
    },
    {
      "cell_type": "code",
      "source": [
        "data = {\n",
        "  \"Inputs\": {\n",
        "    \"data\": [\n",
        "      {\n",
        "        \"Education\": \"Masters\",\n",
        "        \"JoiningYear\": 2016,\n",
        "        \"City\": \"Pune\",\n",
        "        \"PaymentTier\": 1,\n",
        "        \"Age\": 35,\n",
        "        \"Gender\": \"Male\",\n",
        "        \"EverBenched\": True,\n",
        "        \"ExperienceInCurrentDomain\": 5\n",
        "      }\n",
        "    ]\n",
        "  },\n",
        "  \"GlobalParameters\": {\n",
        "    \"method\": \"predict\"\n",
        "  }\n",
        "}"
      ],
      "metadata": {
        "id": "8sxLqRd72SIg"
      },
      "execution_count": 7,
      "outputs": []
    },
    {
      "cell_type": "code",
      "execution_count": 8,
      "metadata": {
        "collapsed": true,
        "id": "C6i46sxRzRda",
        "colab": {
          "base_uri": "https://localhost:8080/",
          "height": 52
        },
        "outputId": "0018468d-c7b4-4d39-9566-0b17112ef362"
      },
      "outputs": [
        {
          "output_type": "execute_result",
          "data": {
            "text/plain": [
              "'{\"Inputs\": {\"data\": [{\"Education\": \"Masters\", \"JoiningYear\": 2016, \"City\": \"Pune\", \"PaymentTier\": 1, \"Age\": 35, \"Gender\": \"Male\", \"EverBenched\": true, \"ExperienceInCurrentDomain\": 5}]}, \"GlobalParameters\": {\"method\": \"predict\"}}'"
            ],
            "application/vnd.google.colaboratory.intrinsic+json": {
              "type": "string"
            }
          },
          "metadata": {},
          "execution_count": 8
        }
      ],
      "source": [
        "data = json.dumps(data)\n",
        "data"
      ]
    },
    {
      "cell_type": "code",
      "execution_count": 9,
      "metadata": {
        "collapsed": true,
        "id": "U5ASEkw9zRdb"
      },
      "outputs": [],
      "source": [
        "url = \"http://0e77c59b-c79d-46a5-ab06-35fb068f2d42.southcentralus.azurecontainer.io/score\"\n",
        "\n",
        "api_key = \"3RdYsbvfa2TZcVKWYawBEBdI2b1UMdMO\""
      ]
    },
    {
      "cell_type": "code",
      "execution_count": 10,
      "metadata": {
        "collapsed": true,
        "id": "wovCDR_1zRdc"
      },
      "outputs": [],
      "source": [
        "headers = {'Content-Type':'application/json', 'Authorization':('Bearer '+ api_key)}\n",
        "\n",
        "result = requests.post(url=url, headers=headers, data=data)"
      ]
    },
    {
      "cell_type": "code",
      "execution_count": 11,
      "metadata": {
        "id": "MM86IKOuzRde",
        "outputId": "bb234578-65d7-4856-af15-48df43da2f3c",
        "colab": {
          "base_uri": "https://localhost:8080/"
        }
      },
      "outputs": [
        {
          "output_type": "execute_result",
          "data": {
            "text/plain": [
              "(<Response [200]>, '{\"Results\": [0]}')"
            ]
          },
          "metadata": {},
          "execution_count": 11
        }
      ],
      "source": [
        "result, result.text"
      ]
    },
    {
      "cell_type": "code",
      "source": [],
      "metadata": {
        "id": "0uJWXktA2m9L"
      },
      "execution_count": null,
      "outputs": []
    }
  ],
  "metadata": {
    "kernelspec": {
      "display_name": "Python 3",
      "language": "python",
      "name": "python3"
    },
    "language_info": {
      "codemirror_mode": {
        "name": "ipython",
        "version": 3
      },
      "file_extension": ".py",
      "mimetype": "text/x-python",
      "name": "python",
      "nbconvert_exporter": "python",
      "pygments_lexer": "ipython3",
      "version": "3.6.2"
    },
    "colab": {
      "provenance": []
    }
  },
  "nbformat": 4,
  "nbformat_minor": 0
}