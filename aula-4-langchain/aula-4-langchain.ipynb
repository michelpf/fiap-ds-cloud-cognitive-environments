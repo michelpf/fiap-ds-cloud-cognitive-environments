{
  "cells": [
    {
      "cell_type": "markdown",
      "metadata": {
        "id": "1DOIAO0FM9Js"
      },
      "source": [
        "# Cloud Cognitive Environments\n",
        "Aplicações com modelos LLM"
      ]
    },
    {
      "cell_type": "markdown",
      "metadata": {
        "id": "nSN6nGEFOP0-"
      },
      "source": [
        "## Requerimentos\n",
        "\n",
        "* Langchain\n",
        "* OpenAI\n",
        "* Pandas\n",
        "* Python Display\n",
        "* DocArray\n",
        "* Wikipedia\n",
        "* XML to Dict"
      ]
    },
    {
      "cell_type": "code",
      "execution_count": null,
      "metadata": {
        "id": "Elj8jNRMwgp9"
      },
      "outputs": [],
      "source": [
        "# Apagar pasta do repositório\n",
        "# Faça somente isso se não tenha clonado antes\n",
        "!rm -rf fiap-ds-cloud-cognitive-environments"
      ]
    },
    {
      "cell_type": "code",
      "execution_count": 1,
      "metadata": {
        "colab": {
          "base_uri": "https://localhost:8080/"
        },
        "id": "RK_HRx7Hwg11",
        "outputId": "2f2a49cc-58ef-4a89-e754-ca48ceb2d07f"
      },
      "outputs": [
        {
          "name": "stdout",
          "output_type": "stream",
          "text": [
            "Cloning into 'fiap-ds-cloud-cognitive-environments'...\n",
            "remote: Enumerating objects: 241, done.\u001b[K\n",
            "remote: Counting objects: 100% (69/69), done.\u001b[K\n",
            "remote: Compressing objects: 100% (53/53), done.\u001b[K\n",
            "remote: Total 241 (delta 26), reused 52 (delta 16), pack-reused 172\u001b[K\n",
            "Receiving objects: 100% (241/241), 186.80 MiB | 12.93 MiB/s, done.\n",
            "Resolving deltas: 100% (77/77), done.\n",
            "Updating files: 100% (62/62), done.\n"
          ]
        }
      ],
      "source": [
        "# Clonar o repositório da aula\n",
        "!git clone https://github.com/michelpf/fiap-ds-cloud-cognitive-environments"
      ]
    },
    {
      "cell_type": "code",
      "execution_count": 85,
      "metadata": {
        "colab": {
          "base_uri": "https://localhost:8080/"
        },
        "id": "wa_WC3wXwjDa",
        "outputId": "cd6a6ed8-c401-4b91-a77d-5fac662cbba0"
      },
      "outputs": [
        {
          "name": "stdout",
          "output_type": "stream",
          "text": [
            "/content/fiap-ds-cloud-cognitive-environments/aula-4-langchain\n"
          ]
        }
      ],
      "source": [
        "%cd fiap-ds-cloud-cognitive-environments/aula-4-langchain/"
      ]
    },
    {
      "cell_type": "code",
      "execution_count": 68,
      "metadata": {
        "colab": {
          "base_uri": "https://localhost:8080/"
        },
        "id": "wVBU0-JUOUeP",
        "outputId": "6761f1c2-ad5f-4111-e934-439ab62a933b"
      },
      "outputs": [
        {
          "name": "stdout",
          "output_type": "stream",
          "text": [
            "Requirement already satisfied: openai in /usr/local/lib/python3.10/dist-packages (1.35.3)\n",
            "Collecting langchain-community\n",
            "  Downloading langchain_community-0.2.5-py3-none-any.whl (2.2 MB)\n",
            "\u001b[2K     \u001b[90m━━━━━━━━━━━━━━━━━━━━━━━━━━━━━━━━━━━━━━━━\u001b[0m \u001b[32m2.2/2.2 MB\u001b[0m \u001b[31m10.6 MB/s\u001b[0m eta \u001b[36m0:00:00\u001b[0m\n",
            "\u001b[?25hRequirement already satisfied: langchain-core in /usr/local/lib/python3.10/dist-packages (0.2.9)\n",
            "Requirement already satisfied: langchain in /usr/local/lib/python3.10/dist-packages (0.2.5)\n",
            "Requirement already satisfied: tiktoken in /usr/local/lib/python3.10/dist-packages (0.7.0)\n",
            "Requirement already satisfied: docarray in /usr/local/lib/python3.10/dist-packages (0.40.0)\n",
            "Requirement already satisfied: wikipedia in /usr/local/lib/python3.10/dist-packages (1.4.0)\n",
            "Requirement already satisfied: xmltodict in /usr/local/lib/python3.10/dist-packages (0.13.0)\n",
            "Requirement already satisfied: langchain-openai in /usr/local/lib/python3.10/dist-packages (0.1.9)\n",
            "Requirement already satisfied: chromadb in /usr/local/lib/python3.10/dist-packages (0.5.3)\n",
            "Requirement already satisfied: anyio<5,>=3.5.0 in /usr/local/lib/python3.10/dist-packages (from openai) (3.7.1)\n",
            "Requirement already satisfied: distro<2,>=1.7.0 in /usr/lib/python3/dist-packages (from openai) (1.7.0)\n",
            "Requirement already satisfied: httpx<1,>=0.23.0 in /usr/local/lib/python3.10/dist-packages (from openai) (0.27.0)\n",
            "Requirement already satisfied: pydantic<3,>=1.9.0 in /usr/local/lib/python3.10/dist-packages (from openai) (2.7.4)\n",
            "Requirement already satisfied: sniffio in /usr/local/lib/python3.10/dist-packages (from openai) (1.3.1)\n",
            "Requirement already satisfied: tqdm>4 in /usr/local/lib/python3.10/dist-packages (from openai) (4.66.4)\n",
            "Requirement already satisfied: typing-extensions<5,>=4.7 in /usr/local/lib/python3.10/dist-packages (from openai) (4.12.2)\n",
            "Requirement already satisfied: PyYAML>=5.3 in /usr/local/lib/python3.10/dist-packages (from langchain-community) (6.0.1)\n",
            "Requirement already satisfied: SQLAlchemy<3,>=1.4 in /usr/local/lib/python3.10/dist-packages (from langchain-community) (2.0.30)\n",
            "Requirement already satisfied: aiohttp<4.0.0,>=3.8.3 in /usr/local/lib/python3.10/dist-packages (from langchain-community) (3.9.5)\n",
            "Collecting dataclasses-json<0.7,>=0.5.7 (from langchain-community)\n",
            "  Downloading dataclasses_json-0.6.7-py3-none-any.whl (28 kB)\n",
            "Requirement already satisfied: langsmith<0.2.0,>=0.1.0 in /usr/local/lib/python3.10/dist-packages (from langchain-community) (0.1.81)\n",
            "Requirement already satisfied: numpy<2,>=1 in /usr/local/lib/python3.10/dist-packages (from langchain-community) (1.25.2)\n",
            "Requirement already satisfied: requests<3,>=2 in /usr/local/lib/python3.10/dist-packages (from langchain-community) (2.31.0)\n",
            "Requirement already satisfied: tenacity<9.0.0,>=8.1.0 in /usr/local/lib/python3.10/dist-packages (from langchain-community) (8.4.1)\n",
            "Requirement already satisfied: jsonpatch<2.0,>=1.33 in /usr/local/lib/python3.10/dist-packages (from langchain-core) (1.33)\n",
            "Requirement already satisfied: packaging<25,>=23.2 in /usr/local/lib/python3.10/dist-packages (from langchain-core) (24.1)\n",
            "Requirement already satisfied: async-timeout<5.0.0,>=4.0.0 in /usr/local/lib/python3.10/dist-packages (from langchain) (4.0.3)\n",
            "Requirement already satisfied: langchain-text-splitters<0.3.0,>=0.2.0 in /usr/local/lib/python3.10/dist-packages (from langchain) (0.2.1)\n",
            "Requirement already satisfied: regex>=2022.1.18 in /usr/local/lib/python3.10/dist-packages (from tiktoken) (2024.5.15)\n",
            "Requirement already satisfied: orjson>=3.8.2 in /usr/local/lib/python3.10/dist-packages (from docarray) (3.10.5)\n",
            "Requirement already satisfied: rich>=13.1.0 in /usr/local/lib/python3.10/dist-packages (from docarray) (13.7.1)\n",
            "Requirement already satisfied: types-requests>=2.28.11.6 in /usr/local/lib/python3.10/dist-packages (from docarray) (2.32.0.20240622)\n",
            "Requirement already satisfied: typing-inspect>=0.8.0 in /usr/local/lib/python3.10/dist-packages (from docarray) (0.9.0)\n",
            "Requirement already satisfied: beautifulsoup4 in /usr/local/lib/python3.10/dist-packages (from wikipedia) (4.12.3)\n",
            "Requirement already satisfied: build>=1.0.3 in /usr/local/lib/python3.10/dist-packages (from chromadb) (1.2.1)\n",
            "Requirement already satisfied: chroma-hnswlib==0.7.3 in /usr/local/lib/python3.10/dist-packages (from chromadb) (0.7.3)\n",
            "Requirement already satisfied: fastapi>=0.95.2 in /usr/local/lib/python3.10/dist-packages (from chromadb) (0.111.0)\n",
            "Requirement already satisfied: uvicorn[standard]>=0.18.3 in /usr/local/lib/python3.10/dist-packages (from chromadb) (0.30.1)\n",
            "Requirement already satisfied: posthog>=2.4.0 in /usr/local/lib/python3.10/dist-packages (from chromadb) (3.5.0)\n",
            "Requirement already satisfied: onnxruntime>=1.14.1 in /usr/local/lib/python3.10/dist-packages (from chromadb) (1.18.0)\n",
            "Requirement already satisfied: opentelemetry-api>=1.2.0 in /usr/local/lib/python3.10/dist-packages (from chromadb) (1.25.0)\n",
            "Requirement already satisfied: opentelemetry-exporter-otlp-proto-grpc>=1.2.0 in /usr/local/lib/python3.10/dist-packages (from chromadb) (1.25.0)\n",
            "Requirement already satisfied: opentelemetry-instrumentation-fastapi>=0.41b0 in /usr/local/lib/python3.10/dist-packages (from chromadb) (0.46b0)\n",
            "Requirement already satisfied: opentelemetry-sdk>=1.2.0 in /usr/local/lib/python3.10/dist-packages (from chromadb) (1.25.0)\n",
            "Requirement already satisfied: tokenizers>=0.13.2 in /usr/local/lib/python3.10/dist-packages (from chromadb) (0.19.1)\n",
            "Requirement already satisfied: pypika>=0.48.9 in /usr/local/lib/python3.10/dist-packages (from chromadb) (0.48.9)\n",
            "Requirement already satisfied: overrides>=7.3.1 in /usr/local/lib/python3.10/dist-packages (from chromadb) (7.7.0)\n",
            "Requirement already satisfied: importlib-resources in /usr/local/lib/python3.10/dist-packages (from chromadb) (6.4.0)\n",
            "Requirement already satisfied: grpcio>=1.58.0 in /usr/local/lib/python3.10/dist-packages (from chromadb) (1.64.1)\n",
            "Requirement already satisfied: bcrypt>=4.0.1 in /usr/local/lib/python3.10/dist-packages (from chromadb) (4.1.3)\n",
            "Requirement already satisfied: typer>=0.9.0 in /usr/local/lib/python3.10/dist-packages (from chromadb) (0.12.3)\n",
            "Requirement already satisfied: kubernetes>=28.1.0 in /usr/local/lib/python3.10/dist-packages (from chromadb) (30.1.0)\n",
            "Requirement already satisfied: mmh3>=4.0.1 in /usr/local/lib/python3.10/dist-packages (from chromadb) (4.1.0)\n",
            "Requirement already satisfied: aiosignal>=1.1.2 in /usr/local/lib/python3.10/dist-packages (from aiohttp<4.0.0,>=3.8.3->langchain-community) (1.3.1)\n",
            "Requirement already satisfied: attrs>=17.3.0 in /usr/local/lib/python3.10/dist-packages (from aiohttp<4.0.0,>=3.8.3->langchain-community) (23.2.0)\n",
            "Requirement already satisfied: frozenlist>=1.1.1 in /usr/local/lib/python3.10/dist-packages (from aiohttp<4.0.0,>=3.8.3->langchain-community) (1.4.1)\n",
            "Requirement already satisfied: multidict<7.0,>=4.5 in /usr/local/lib/python3.10/dist-packages (from aiohttp<4.0.0,>=3.8.3->langchain-community) (6.0.5)\n",
            "Requirement already satisfied: yarl<2.0,>=1.0 in /usr/local/lib/python3.10/dist-packages (from aiohttp<4.0.0,>=3.8.3->langchain-community) (1.9.4)\n",
            "Requirement already satisfied: idna>=2.8 in /usr/local/lib/python3.10/dist-packages (from anyio<5,>=3.5.0->openai) (3.7)\n",
            "Requirement already satisfied: exceptiongroup in /usr/local/lib/python3.10/dist-packages (from anyio<5,>=3.5.0->openai) (1.2.1)\n",
            "Requirement already satisfied: pyproject_hooks in /usr/local/lib/python3.10/dist-packages (from build>=1.0.3->chromadb) (1.1.0)\n",
            "Requirement already satisfied: tomli>=1.1.0 in /usr/local/lib/python3.10/dist-packages (from build>=1.0.3->chromadb) (2.0.1)\n",
            "Collecting marshmallow<4.0.0,>=3.18.0 (from dataclasses-json<0.7,>=0.5.7->langchain-community)\n",
            "  Downloading marshmallow-3.21.3-py3-none-any.whl (49 kB)\n",
            "\u001b[2K     \u001b[90m━━━━━━━━━━━━━━━━━━━━━━━━━━━━━━━━━━━━━━━━\u001b[0m \u001b[32m49.2/49.2 kB\u001b[0m \u001b[31m5.5 MB/s\u001b[0m eta \u001b[36m0:00:00\u001b[0m\n",
            "\u001b[?25hRequirement already satisfied: starlette<0.38.0,>=0.37.2 in /usr/local/lib/python3.10/dist-packages (from fastapi>=0.95.2->chromadb) (0.37.2)\n",
            "Requirement already satisfied: fastapi-cli>=0.0.2 in /usr/local/lib/python3.10/dist-packages (from fastapi>=0.95.2->chromadb) (0.0.4)\n",
            "Requirement already satisfied: jinja2>=2.11.2 in /usr/local/lib/python3.10/dist-packages (from fastapi>=0.95.2->chromadb) (3.1.4)\n",
            "Requirement already satisfied: python-multipart>=0.0.7 in /usr/local/lib/python3.10/dist-packages (from fastapi>=0.95.2->chromadb) (0.0.9)\n",
            "Requirement already satisfied: ujson!=4.0.2,!=4.1.0,!=4.2.0,!=4.3.0,!=5.0.0,!=5.1.0,>=4.0.1 in /usr/local/lib/python3.10/dist-packages (from fastapi>=0.95.2->chromadb) (5.10.0)\n",
            "Requirement already satisfied: email_validator>=2.0.0 in /usr/local/lib/python3.10/dist-packages (from fastapi>=0.95.2->chromadb) (2.2.0)\n",
            "Requirement already satisfied: certifi in /usr/local/lib/python3.10/dist-packages (from httpx<1,>=0.23.0->openai) (2024.6.2)\n",
            "Requirement already satisfied: httpcore==1.* in /usr/local/lib/python3.10/dist-packages (from httpx<1,>=0.23.0->openai) (1.0.5)\n",
            "Requirement already satisfied: h11<0.15,>=0.13 in /usr/local/lib/python3.10/dist-packages (from httpcore==1.*->httpx<1,>=0.23.0->openai) (0.14.0)\n",
            "Requirement already satisfied: jsonpointer>=1.9 in /usr/local/lib/python3.10/dist-packages (from jsonpatch<2.0,>=1.33->langchain-core) (3.0.0)\n",
            "Requirement already satisfied: six>=1.9.0 in /usr/local/lib/python3.10/dist-packages (from kubernetes>=28.1.0->chromadb) (1.16.0)\n",
            "Requirement already satisfied: python-dateutil>=2.5.3 in /usr/local/lib/python3.10/dist-packages (from kubernetes>=28.1.0->chromadb) (2.8.2)\n",
            "Requirement already satisfied: google-auth>=1.0.1 in /usr/local/lib/python3.10/dist-packages (from kubernetes>=28.1.0->chromadb) (2.27.0)\n",
            "Requirement already satisfied: websocket-client!=0.40.0,!=0.41.*,!=0.42.*,>=0.32.0 in /usr/local/lib/python3.10/dist-packages (from kubernetes>=28.1.0->chromadb) (1.8.0)\n",
            "Requirement already satisfied: requests-oauthlib in /usr/local/lib/python3.10/dist-packages (from kubernetes>=28.1.0->chromadb) (1.3.1)\n",
            "Requirement already satisfied: oauthlib>=3.2.2 in /usr/local/lib/python3.10/dist-packages (from kubernetes>=28.1.0->chromadb) (3.2.2)\n",
            "Requirement already satisfied: urllib3>=1.24.2 in /usr/local/lib/python3.10/dist-packages (from kubernetes>=28.1.0->chromadb) (2.0.7)\n",
            "Requirement already satisfied: coloredlogs in /usr/local/lib/python3.10/dist-packages (from onnxruntime>=1.14.1->chromadb) (15.0.1)\n",
            "Requirement already satisfied: flatbuffers in /usr/local/lib/python3.10/dist-packages (from onnxruntime>=1.14.1->chromadb) (24.3.25)\n",
            "Requirement already satisfied: protobuf in /usr/local/lib/python3.10/dist-packages (from onnxruntime>=1.14.1->chromadb) (3.20.3)\n",
            "Requirement already satisfied: sympy in /usr/local/lib/python3.10/dist-packages (from onnxruntime>=1.14.1->chromadb) (1.12.1)\n",
            "Requirement already satisfied: deprecated>=1.2.6 in /usr/local/lib/python3.10/dist-packages (from opentelemetry-api>=1.2.0->chromadb) (1.2.14)\n",
            "Requirement already satisfied: importlib-metadata<=7.1,>=6.0 in /usr/local/lib/python3.10/dist-packages (from opentelemetry-api>=1.2.0->chromadb) (7.1.0)\n",
            "Requirement already satisfied: googleapis-common-protos~=1.52 in /usr/local/lib/python3.10/dist-packages (from opentelemetry-exporter-otlp-proto-grpc>=1.2.0->chromadb) (1.63.1)\n",
            "Requirement already satisfied: opentelemetry-exporter-otlp-proto-common==1.25.0 in /usr/local/lib/python3.10/dist-packages (from opentelemetry-exporter-otlp-proto-grpc>=1.2.0->chromadb) (1.25.0)\n",
            "Requirement already satisfied: opentelemetry-proto==1.25.0 in /usr/local/lib/python3.10/dist-packages (from opentelemetry-exporter-otlp-proto-grpc>=1.2.0->chromadb) (1.25.0)\n",
            "Requirement already satisfied: opentelemetry-instrumentation-asgi==0.46b0 in /usr/local/lib/python3.10/dist-packages (from opentelemetry-instrumentation-fastapi>=0.41b0->chromadb) (0.46b0)\n",
            "Requirement already satisfied: opentelemetry-instrumentation==0.46b0 in /usr/local/lib/python3.10/dist-packages (from opentelemetry-instrumentation-fastapi>=0.41b0->chromadb) (0.46b0)\n",
            "Requirement already satisfied: opentelemetry-semantic-conventions==0.46b0 in /usr/local/lib/python3.10/dist-packages (from opentelemetry-instrumentation-fastapi>=0.41b0->chromadb) (0.46b0)\n",
            "Requirement already satisfied: opentelemetry-util-http==0.46b0 in /usr/local/lib/python3.10/dist-packages (from opentelemetry-instrumentation-fastapi>=0.41b0->chromadb) (0.46b0)\n",
            "Requirement already satisfied: setuptools>=16.0 in /usr/local/lib/python3.10/dist-packages (from opentelemetry-instrumentation==0.46b0->opentelemetry-instrumentation-fastapi>=0.41b0->chromadb) (67.7.2)\n",
            "Requirement already satisfied: wrapt<2.0.0,>=1.0.0 in /usr/local/lib/python3.10/dist-packages (from opentelemetry-instrumentation==0.46b0->opentelemetry-instrumentation-fastapi>=0.41b0->chromadb) (1.14.1)\n",
            "Requirement already satisfied: asgiref~=3.0 in /usr/local/lib/python3.10/dist-packages (from opentelemetry-instrumentation-asgi==0.46b0->opentelemetry-instrumentation-fastapi>=0.41b0->chromadb) (3.8.1)\n",
            "Requirement already satisfied: monotonic>=1.5 in /usr/local/lib/python3.10/dist-packages (from posthog>=2.4.0->chromadb) (1.6)\n",
            "Requirement already satisfied: backoff>=1.10.0 in /usr/local/lib/python3.10/dist-packages (from posthog>=2.4.0->chromadb) (2.2.1)\n",
            "Requirement already satisfied: annotated-types>=0.4.0 in /usr/local/lib/python3.10/dist-packages (from pydantic<3,>=1.9.0->openai) (0.7.0)\n",
            "Requirement already satisfied: pydantic-core==2.18.4 in /usr/local/lib/python3.10/dist-packages (from pydantic<3,>=1.9.0->openai) (2.18.4)\n",
            "Requirement already satisfied: charset-normalizer<4,>=2 in /usr/local/lib/python3.10/dist-packages (from requests<3,>=2->langchain-community) (3.3.2)\n",
            "Requirement already satisfied: markdown-it-py>=2.2.0 in /usr/local/lib/python3.10/dist-packages (from rich>=13.1.0->docarray) (3.0.0)\n",
            "Requirement already satisfied: pygments<3.0.0,>=2.13.0 in /usr/local/lib/python3.10/dist-packages (from rich>=13.1.0->docarray) (2.16.1)\n",
            "Requirement already satisfied: greenlet!=0.4.17 in /usr/local/lib/python3.10/dist-packages (from SQLAlchemy<3,>=1.4->langchain-community) (3.0.3)\n",
            "Requirement already satisfied: huggingface-hub<1.0,>=0.16.4 in /usr/local/lib/python3.10/dist-packages (from tokenizers>=0.13.2->chromadb) (0.23.4)\n",
            "Requirement already satisfied: click>=8.0.0 in /usr/local/lib/python3.10/dist-packages (from typer>=0.9.0->chromadb) (8.1.7)\n",
            "Requirement already satisfied: shellingham>=1.3.0 in /usr/local/lib/python3.10/dist-packages (from typer>=0.9.0->chromadb) (1.5.4)\n",
            "Requirement already satisfied: mypy-extensions>=0.3.0 in /usr/local/lib/python3.10/dist-packages (from typing-inspect>=0.8.0->docarray) (1.0.0)\n",
            "Requirement already satisfied: httptools>=0.5.0 in /usr/local/lib/python3.10/dist-packages (from uvicorn[standard]>=0.18.3->chromadb) (0.6.1)\n",
            "Requirement already satisfied: python-dotenv>=0.13 in /usr/local/lib/python3.10/dist-packages (from uvicorn[standard]>=0.18.3->chromadb) (1.0.1)\n",
            "Requirement already satisfied: uvloop!=0.15.0,!=0.15.1,>=0.14.0 in /usr/local/lib/python3.10/dist-packages (from uvicorn[standard]>=0.18.3->chromadb) (0.19.0)\n",
            "Requirement already satisfied: watchfiles>=0.13 in /usr/local/lib/python3.10/dist-packages (from uvicorn[standard]>=0.18.3->chromadb) (0.22.0)\n",
            "Requirement already satisfied: websockets>=10.4 in /usr/local/lib/python3.10/dist-packages (from uvicorn[standard]>=0.18.3->chromadb) (12.0)\n",
            "Requirement already satisfied: soupsieve>1.2 in /usr/local/lib/python3.10/dist-packages (from beautifulsoup4->wikipedia) (2.5)\n",
            "Requirement already satisfied: dnspython>=2.0.0 in /usr/local/lib/python3.10/dist-packages (from email_validator>=2.0.0->fastapi>=0.95.2->chromadb) (2.6.1)\n",
            "Requirement already satisfied: cachetools<6.0,>=2.0.0 in /usr/local/lib/python3.10/dist-packages (from google-auth>=1.0.1->kubernetes>=28.1.0->chromadb) (5.3.3)\n",
            "Requirement already satisfied: pyasn1-modules>=0.2.1 in /usr/local/lib/python3.10/dist-packages (from google-auth>=1.0.1->kubernetes>=28.1.0->chromadb) (0.4.0)\n",
            "Requirement already satisfied: rsa<5,>=3.1.4 in /usr/local/lib/python3.10/dist-packages (from google-auth>=1.0.1->kubernetes>=28.1.0->chromadb) (4.9)\n",
            "Requirement already satisfied: filelock in /usr/local/lib/python3.10/dist-packages (from huggingface-hub<1.0,>=0.16.4->tokenizers>=0.13.2->chromadb) (3.15.1)\n",
            "Requirement already satisfied: fsspec>=2023.5.0 in /usr/local/lib/python3.10/dist-packages (from huggingface-hub<1.0,>=0.16.4->tokenizers>=0.13.2->chromadb) (2023.6.0)\n",
            "Requirement already satisfied: zipp>=0.5 in /usr/local/lib/python3.10/dist-packages (from importlib-metadata<=7.1,>=6.0->opentelemetry-api>=1.2.0->chromadb) (3.19.2)\n",
            "Requirement already satisfied: MarkupSafe>=2.0 in /usr/local/lib/python3.10/dist-packages (from jinja2>=2.11.2->fastapi>=0.95.2->chromadb) (2.1.5)\n",
            "Requirement already satisfied: mdurl~=0.1 in /usr/local/lib/python3.10/dist-packages (from markdown-it-py>=2.2.0->rich>=13.1.0->docarray) (0.1.2)\n",
            "Requirement already satisfied: humanfriendly>=9.1 in /usr/local/lib/python3.10/dist-packages (from coloredlogs->onnxruntime>=1.14.1->chromadb) (10.0)\n",
            "Requirement already satisfied: mpmath<1.4.0,>=1.1.0 in /usr/local/lib/python3.10/dist-packages (from sympy->onnxruntime>=1.14.1->chromadb) (1.3.0)\n",
            "Requirement already satisfied: pyasn1<0.7.0,>=0.4.6 in /usr/local/lib/python3.10/dist-packages (from pyasn1-modules>=0.2.1->google-auth>=1.0.1->kubernetes>=28.1.0->chromadb) (0.6.0)\n",
            "Installing collected packages: marshmallow, dataclasses-json, langchain-community\n",
            "Successfully installed dataclasses-json-0.6.7 langchain-community-0.2.5 marshmallow-3.21.3\n"
          ]
        }
      ],
      "source": [
        "!pip install openai langchain-community langchain-core langchain tiktoken docarray wikipedia xmltodict langchain-openai chromadb"
      ]
    },
    {
      "cell_type": "code",
      "execution_count": 4,
      "metadata": {
        "id": "tTUcVshkNC3a"
      },
      "outputs": [],
      "source": [
        "import os\n",
        "from openai import OpenAI\n",
        "import langchain\n",
        "from IPython.display import display, Markdown as display_markdown\n",
        "import json\n",
        "import pandas as pd"
      ]
    },
    {
      "cell_type": "markdown",
      "metadata": {
        "id": "OvjQBB7JpSZV"
      },
      "source": [
        "# Modelos de base"
      ]
    },
    {
      "cell_type": "markdown",
      "metadata": {
        "id": "MsoCMkkDpSZW"
      },
      "source": [
        "## OpenAI\n",
        "\n",
        "Inscreva-se no [site](www.openai.com) para obter uma chave de API. No registro você terá 30 dias de uso gratuito.\n",
        "Para experimentações pequenas o custo é baixo. Avalie com cuidado ao lançar uma aplicação em produção para incluir limites máximos de gastos."
      ]
    },
    {
      "cell_type": "code",
      "execution_count": 5,
      "metadata": {
        "id": "GBOPJ5xHpSZW"
      },
      "outputs": [],
      "source": [
        "os.environ[\"OPENAI_API_KEY\"] = \"chave\""
      ]
    },
    {
      "cell_type": "markdown",
      "metadata": {
        "id": "zxXyxVc2pSZX"
      },
      "source": [
        "Utilizaremos o modelo fundacional do ChatGPT 3.5 é ```gpt-3.5-turbo``` conforme [documentação](https://platform.openai.com/docs/models/gpt-4). Sempre revise a documentação pois os modelos podem se tornar obsoletos para a entrada de outros mais novos."
      ]
    },
    {
      "cell_type": "markdown",
      "metadata": {
        "id": "-0vbY_b3pSZX"
      },
      "source": [
        "## Chat Completion\n",
        "\n",
        "Permite criar prompts que conversam com o modelo selecionado. Por meio de roles definidas, podemos criar um prompt mais completo, especificando:\n",
        "\n",
        "1. ```System```: papel de sistema, ajuda na formatação do tipo de resposta e de como o modelo deve se comportar. Definimos com esse papel aspectos de entrada e saída.\n",
        "2. ```User```: papel de usuário, neste caso é a informação desejada pelo usuário, que vai seguir as regras definidas no papel anteriormente definido.\n",
        "2. ```Assistant```: papel de assistente virtual (próprio modelo). Neste caso serve para definir um aspecto de memória."
      ]
    },
    {
      "cell_type": "code",
      "execution_count": 6,
      "metadata": {
        "id": "-W3smf74sqVm"
      },
      "outputs": [],
      "source": [
        "client = OpenAI(\n",
        "    api_key=os.environ.get(\"OPENAI_API_KEY\"),\n",
        ")"
      ]
    },
    {
      "cell_type": "code",
      "execution_count": 7,
      "metadata": {
        "id": "7jRR5Yg6pSZX"
      },
      "outputs": [],
      "source": [
        "model = \"gpt-3.5-turbo\""
      ]
    },
    {
      "cell_type": "code",
      "execution_count": 8,
      "metadata": {
        "id": "zkZRqY7zpSZY"
      },
      "outputs": [],
      "source": [
        "messages=[\n",
        "        {\"role\": \"system\", \"content\": \"Você é um professor de visão computacional que leciona para crianças de até 10 anos.\"},\n",
        "        {\"role\": \"user\", \"content\": \"Como funciona um detector de bordas de Canny, de forma bem resumida?\"},\n",
        "        {\"role\": \"system\", \"content\": \"O resultado precisa ser formatado como Markdown.\"}\n",
        "    ]"
      ]
    },
    {
      "cell_type": "code",
      "execution_count": 9,
      "metadata": {
        "colab": {
          "base_uri": "https://localhost:8080/"
        },
        "id": "sAhC8mg4pSZY",
        "outputId": "de50722d-7617-4e31-c349-05a40853a3e4"
      },
      "outputs": [
        {
          "data": {
            "text/plain": [
              "ChatCompletion(id='chatcmpl-9d4ew6i1bxtf6pW3nIEGiUia2Foog', choices=[Choice(finish_reason='stop', index=0, logprobs=None, message=ChatCompletionMessage(content='Um detector de bordas de Canny funciona em 5 passos principais:\\n\\n1. **Suavização da imagem**: Reduz o ruído na imagem aplicando um filtro gaussiano.\\n2. **Cálculo do gradiente**: Calcula a intensidade do gradiente da imagem para encontrar a direção das mudanças de intensidade.\\n3. **Supressão de não-máximos**: Identifica os pixels que representam bordas reais.\\n4. **Limiarização dupla**: Define dois limiares para determinar quais bordas são fortes e quais são fracas.\\n5. **Rastreamento de bordas por histerese**: Finaliza a detecção de bordas, conectando pixels fortes e eliminando pixels fracos que não estão conectados a bordas fortes.', role='assistant', function_call=None, tool_calls=None))], created=1719099730, model='gpt-3.5-turbo-0125', object='chat.completion', service_tier=None, system_fingerprint=None, usage=CompletionUsage(completion_tokens=177, prompt_tokens=64, total_tokens=241))"
            ]
          },
          "execution_count": 9,
          "metadata": {},
          "output_type": "execute_result"
        }
      ],
      "source": [
        "response = client.chat.completions.create(\n",
        "    model=model,\n",
        "    messages=messages,\n",
        "    temperature=0,\n",
        ")\n",
        "response"
      ]
    },
    {
      "cell_type": "code",
      "execution_count": 10,
      "metadata": {
        "colab": {
          "base_uri": "https://localhost:8080/",
          "height": 122
        },
        "id": "Cn77FZKgtHOG",
        "outputId": "8972e70a-bc98-48dd-e86c-62d8116aa6d8"
      },
      "outputs": [
        {
          "data": {
            "application/vnd.google.colaboratory.intrinsic+json": {
              "type": "string"
            },
            "text/plain": [
              "'Um detector de bordas de Canny funciona em 5 passos principais:\\n\\n1. **Suavização da imagem**: Reduz o ruído na imagem aplicando um filtro gaussiano.\\n2. **Cálculo do gradiente**: Calcula a intensidade do gradiente da imagem para encontrar a direção das mudanças de intensidade.\\n3. **Supressão de não-máximos**: Identifica os pixels que representam bordas reais.\\n4. **Limiarização dupla**: Define dois limiares para determinar quais bordas são fortes e quais são fracas.\\n5. **Rastreamento de bordas por histerese**: Finaliza a detecção de bordas, conectando pixels fortes e eliminando pixels fracos que não estão conectados a bordas fortes.'"
            ]
          },
          "execution_count": 10,
          "metadata": {},
          "output_type": "execute_result"
        }
      ],
      "source": [
        "response.choices[0].message.content"
      ]
    },
    {
      "cell_type": "code",
      "execution_count": 11,
      "metadata": {
        "colab": {
          "base_uri": "https://localhost:8080/",
          "height": 172
        },
        "id": "4WpVE5FUpSZZ",
        "outputId": "8f6c2052-d12c-4e1b-8868-9fb8b7184a0f"
      },
      "outputs": [
        {
          "data": {
            "text/markdown": [
              "Um detector de bordas de Canny funciona em 5 passos principais:\n",
              "\n",
              "1. **Suavização da imagem**: Reduz o ruído na imagem aplicando um filtro gaussiano.\n",
              "2. **Cálculo do gradiente**: Calcula a intensidade do gradiente da imagem para encontrar a direção das mudanças de intensidade.\n",
              "3. **Supressão de não-máximos**: Identifica os pixels que representam bordas reais.\n",
              "4. **Limiarização dupla**: Define dois limiares para determinar quais bordas são fortes e quais são fracas.\n",
              "5. **Rastreamento de bordas por histerese**: Finaliza a detecção de bordas, conectando pixels fortes e eliminando pixels fracos que não estão conectados a bordas fortes."
            ],
            "text/plain": [
              "<IPython.core.display.Markdown object>"
            ]
          },
          "execution_count": 11,
          "metadata": {},
          "output_type": "execute_result"
        }
      ],
      "source": [
        "display_markdown(response.choices[0].message.content)"
      ]
    },
    {
      "cell_type": "code",
      "execution_count": 12,
      "metadata": {
        "id": "msKqv7COpSZZ"
      },
      "outputs": [],
      "source": [
        "messages=[\n",
        "        {\"role\": \"system\", \"content\": \"Você é um sistema que extrai 2 informações de um texto, primeiro se a frase for um elogio deverá armazenar is_compliment=True\"},\n",
        "        {\"role\": \"system\", \"content\": \"Indique qual o elogio em uma variável compliment, por exemplo em 'A pessoa é bonita', is_compliment=True e compliment='bonita'. \"},\n",
        "        {\"role\": \"user\", \"content\": \"Os carros elétricos são incríveis.\"},\n",
        "        {\"role\": \"system\", \"content\": \"O resultado precisa ser formatado como JSON.\"}\n",
        "    ]"
      ]
    },
    {
      "cell_type": "code",
      "execution_count": 13,
      "metadata": {
        "colab": {
          "base_uri": "https://localhost:8080/"
        },
        "id": "laS2GtncpSZZ",
        "outputId": "e15d6593-aa1a-47f1-f2dd-3a3b6ac8c858"
      },
      "outputs": [
        {
          "data": {
            "text/plain": [
              "ChatCompletion(id='chatcmpl-9d4f9swB7exB8Ofb6NyO3MR43rKIl', choices=[Choice(finish_reason='stop', index=0, logprobs=None, message=ChatCompletionMessage(content='{\\n    \"is_compliment\": true,\\n    \"compliment\": \"incríveis\"\\n}', role='assistant', function_call=None, tool_calls=None))], created=1719099743, model='gpt-3.5-turbo-0125', object='chat.completion', service_tier=None, system_fingerprint=None, usage=CompletionUsage(completion_tokens=21, prompt_tokens=106, total_tokens=127))"
            ]
          },
          "execution_count": 13,
          "metadata": {},
          "output_type": "execute_result"
        }
      ],
      "source": [
        "response = client.chat.completions.create(\n",
        "    model=model,\n",
        "    messages=messages,\n",
        "    temperature=0,\n",
        ")\n",
        "response"
      ]
    },
    {
      "cell_type": "code",
      "execution_count": 14,
      "metadata": {
        "colab": {
          "base_uri": "https://localhost:8080/",
          "height": 36
        },
        "id": "sCrp5kPFpSZa",
        "outputId": "63cf363b-519b-40de-f0a8-4efc87861ca1"
      },
      "outputs": [
        {
          "data": {
            "application/vnd.google.colaboratory.intrinsic+json": {
              "type": "string"
            },
            "text/plain": [
              "'{\\n    \"is_compliment\": true,\\n    \"compliment\": \"incríveis\"\\n}'"
            ]
          },
          "execution_count": 14,
          "metadata": {},
          "output_type": "execute_result"
        }
      ],
      "source": [
        "response.choices[0].message.content"
      ]
    },
    {
      "cell_type": "code",
      "execution_count": 15,
      "metadata": {
        "colab": {
          "base_uri": "https://localhost:8080/"
        },
        "id": "Z2uzN-xVpSZa",
        "outputId": "a16b9497-af2a-4258-d3c3-bcd57a21fbfc"
      },
      "outputs": [
        {
          "data": {
            "text/plain": [
              "{'is_compliment': True, 'compliment': 'incríveis'}"
            ]
          },
          "execution_count": 15,
          "metadata": {},
          "output_type": "execute_result"
        }
      ],
      "source": [
        "result = json.loads(response.choices[0].message.content)\n",
        "result"
      ]
    },
    {
      "cell_type": "markdown",
      "metadata": {
        "id": "uvv8_BoMNLlx"
      },
      "source": [
        "# Langchain"
      ]
    },
    {
      "cell_type": "markdown",
      "metadata": {
        "id": "xlo8cQW1ytQk"
      },
      "source": [
        "É um framework com foco em integrar diferentes _foundationals model_, dentre eles o GPT (da OpenAI), Bard (do Google), WatsonX (da IBM) e outros mais. cada modelo e plataformas tem algumas particularidades, mas há um bom espaço para abstrações. É nesse nicho que o framework faz o seu papel de utilizar componentes e serviços comum a todos os modelos como encadeamento de ações, memória, acesso e dados externos e utilização de agentes."
      ]
    },
    {
      "cell_type": "code",
      "execution_count": 16,
      "metadata": {
        "id": "pfnFTqDCNM24"
      },
      "outputs": [],
      "source": [
        "from langchain_openai import ChatOpenAI"
      ]
    },
    {
      "cell_type": "markdown",
      "metadata": {
        "id": "vKU3gD0MpSZa"
      },
      "source": [
        "## Templates de prompt"
      ]
    },
    {
      "cell_type": "markdown",
      "metadata": {
        "id": "9wS8cBcbpSZb"
      },
      "source": [
        "Templates ajudam a criar uma forma padronizada sempre que for utilizado um determindo prompt para atividades repetitivas. Por exemplo, traduções, resumos, modificações de tom, etc.\n",
        "\n",
        "Utilizaremos nos templates parâmetros que são inseridos dentro dos prompts que trazem os dados que são dinâmicos, enquanto parte do prompt continua constante."
      ]
    },
    {
      "cell_type": "markdown",
      "metadata": {
        "id": "ZwcjrAESpSZb"
      },
      "source": [
        "A _temperatura_ do chat é o grau de criatividade dado a conversão. Quanto menor, menor menos criativo e randômico ele será, em tese diminui as possibilidades de alucinações, embora os resultados podem ficar mais simples.\n",
        "\n",
        "Vamos manter zero para extrair o máximo de informação útil, com o mínimo de ruídos."
      ]
    },
    {
      "cell_type": "code",
      "execution_count": 17,
      "metadata": {
        "colab": {
          "base_uri": "https://localhost:8080/"
        },
        "id": "5YmZskfKpSZb",
        "outputId": "573a5961-436b-4b64-cc3d-8541a5441259"
      },
      "outputs": [
        {
          "data": {
            "text/plain": [
              "ChatOpenAI(client=<openai.resources.chat.completions.Completions object at 0x79719ac3bb80>, async_client=<openai.resources.chat.completions.AsyncCompletions object at 0x79719ac552d0>, temperature=0.0, openai_api_key=SecretStr('**********'), openai_proxy='')"
            ]
          },
          "execution_count": 17,
          "metadata": {},
          "output_type": "execute_result"
        }
      ],
      "source": [
        "openai_chat = ChatOpenAI(temperature=0.0, model=model)\n",
        "openai_chat"
      ]
    },
    {
      "cell_type": "markdown",
      "metadata": {
        "id": "QEsky76kpSZb"
      },
      "source": [
        "Vamos criar prompts para analisar comentários de clientes de modo a toda avaliação seja excluído palavras de ofensa."
      ]
    },
    {
      "cell_type": "code",
      "execution_count": 18,
      "metadata": {
        "id": "7GSwsZ65pSZb"
      },
      "outputs": [],
      "source": [
        "style = \"\"\"\n",
        "Tom calmo, sintético e respeitoso, sem incluir nenhuma ofensa ou algo parecido.\n",
        "\"\"\""
      ]
    },
    {
      "cell_type": "code",
      "execution_count": 19,
      "metadata": {
        "id": "0dedVnO6pSZe"
      },
      "outputs": [],
      "source": [
        "template_string = \"\"\"\n",
        "Analise a revisão de cliente para que sejam resumidas em no máximo 300 caracteres.\n",
        "Utilize o seguinte estilo {style}.\n",
        "A revisão é a seguinte: {customer_review}\n",
        "\"\"\""
      ]
    },
    {
      "cell_type": "code",
      "execution_count": 20,
      "metadata": {
        "id": "fjIO6IK2pSZe"
      },
      "outputs": [],
      "source": [
        "from langchain.prompts import ChatPromptTemplate\n",
        "\n",
        "prompt_template = ChatPromptTemplate.from_template(template_string)"
      ]
    },
    {
      "cell_type": "code",
      "execution_count": 21,
      "metadata": {
        "colab": {
          "base_uri": "https://localhost:8080/"
        },
        "id": "6InwqtOwpSZf",
        "outputId": "b709e31f-6b41-44a2-a8e6-3b39107f51e6"
      },
      "outputs": [
        {
          "data": {
            "text/plain": [
              "PromptTemplate(input_variables=['customer_review', 'style'], template='\\nAnalise a revisão de cliente para que sejam resumidas em no máximo 300 caracteres.\\nUtilize o seguinte estilo {style}.\\nA revisão é a seguinte: {customer_review}\\n')"
            ]
          },
          "execution_count": 21,
          "metadata": {},
          "output_type": "execute_result"
        }
      ],
      "source": [
        "prompt_template.messages[0].prompt"
      ]
    },
    {
      "cell_type": "code",
      "execution_count": 22,
      "metadata": {
        "colab": {
          "base_uri": "https://localhost:8080/"
        },
        "id": "AHInW9r7pSZf",
        "outputId": "2ea5c192-03e6-45a8-cef6-d3a985a5334b"
      },
      "outputs": [
        {
          "data": {
            "text/plain": [
              "['customer_review', 'style']"
            ]
          },
          "execution_count": 22,
          "metadata": {},
          "output_type": "execute_result"
        }
      ],
      "source": [
        "prompt_template.messages[0].prompt.input_variables"
      ]
    },
    {
      "cell_type": "code",
      "execution_count": 23,
      "metadata": {
        "id": "OS24vq1JpSZf"
      },
      "outputs": [],
      "source": [
        "customer_review = \"\"\"\n",
        "Comprei um brinquedo que não presta! Utilizei todas as instruções\n",
        "mas não funcionada nada! Que droga!\n",
        "Se soubesse que fosse assim não teria comprado nessa loja ruim!!!\n",
        "\"\"\""
      ]
    },
    {
      "cell_type": "code",
      "execution_count": 24,
      "metadata": {
        "id": "vpfzVYC4pSZg"
      },
      "outputs": [],
      "source": [
        "customer_messages = prompt_template.format_messages(\n",
        "                    style=style,\n",
        "                    customer_review=customer_review)"
      ]
    },
    {
      "cell_type": "markdown",
      "metadata": {
        "id": "Zqbs2vQ9pSZg"
      },
      "source": [
        "Analisando o resultado com a avaliação de exemplo."
      ]
    },
    {
      "cell_type": "code",
      "execution_count": 25,
      "metadata": {
        "colab": {
          "base_uri": "https://localhost:8080/"
        },
        "id": "klpOOsSDpSZg",
        "outputId": "46a931f8-28f2-47ec-f90b-94c55fab95ef"
      },
      "outputs": [
        {
          "data": {
            "text/plain": [
              "[HumanMessage(content='\\nAnalise a revisão de cliente para que sejam resumidas em no máximo 300 caracteres.\\nUtilize o seguinte estilo \\nTom calmo, sintético e respeitoso, sem incluir nenhuma ofensa ou algo parecido.\\n.\\nA revisão é a seguinte: \\nComprei um brinquedo que não presta! Utilizei todas as instruções\\nmas não funcionada nada! Que droga!\\nSe soubesse que fosse assim não teria comprado nessa loja ruim!!!\\n\\n')]"
            ]
          },
          "execution_count": 25,
          "metadata": {},
          "output_type": "execute_result"
        }
      ],
      "source": [
        "customer_messages"
      ]
    },
    {
      "cell_type": "code",
      "execution_count": 26,
      "metadata": {
        "id": "o_yHXu9ZpSZh"
      },
      "outputs": [],
      "source": [
        "customer_response = openai_chat.invoke(customer_messages)"
      ]
    },
    {
      "cell_type": "code",
      "execution_count": 27,
      "metadata": {
        "colab": {
          "base_uri": "https://localhost:8080/",
          "height": 53
        },
        "id": "Gnk7tEoHpSZh",
        "outputId": "5494c328-52d9-4c61-9c33-b08567257be4"
      },
      "outputs": [
        {
          "data": {
            "application/vnd.google.colaboratory.intrinsic+json": {
              "type": "string"
            },
            "text/plain": [
              "'Revisão: O brinquedo comprado não funcionou mesmo seguindo as instruções. Fiquei insatisfeito com a qualidade do produto e não compraria novamente nessa loja.'"
            ]
          },
          "execution_count": 27,
          "metadata": {},
          "output_type": "execute_result"
        }
      ],
      "source": [
        "customer_response.content"
      ]
    },
    {
      "cell_type": "markdown",
      "metadata": {
        "id": "ILi0aHgQpSZh"
      },
      "source": [
        "Vamos obter uma base de revisões de clientes em sites de comércio eletrônico.\n",
        "Com esta base vamos sintetizar as reclamações para padronizar análises, removendo palavras e expressões que impactariam muito pouco na avaliação como um todo."
      ]
    },
    {
      "cell_type": "code",
      "execution_count": 28,
      "metadata": {
        "colab": {
          "base_uri": "https://localhost:8080/"
        },
        "id": "iJsqQ6USpSZh",
        "outputId": "34dfc69f-2dbc-4042-d97c-93e137524421"
      },
      "outputs": [
        {
          "name": "stdout",
          "output_type": "stream",
          "text": [
            "Cloning into 'dataset-customer-evaluations'...\n",
            "remote: Enumerating objects: 11, done.\u001b[K\n",
            "remote: Counting objects: 100% (11/11), done.\u001b[K\n",
            "remote: Compressing objects: 100% (10/10), done.\u001b[K\n",
            "remote: Total 11 (delta 1), reused 7 (delta 0), pack-reused 0\u001b[K\n",
            "Receiving objects: 100% (11/11), 2.52 MiB | 4.41 MiB/s, done.\n",
            "Resolving deltas: 100% (1/1), done.\n"
          ]
        }
      ],
      "source": [
        "!git clone https://github.com/michelpf/dataset-customer-evaluations"
      ]
    },
    {
      "cell_type": "code",
      "execution_count": 29,
      "metadata": {
        "colab": {
          "base_uri": "https://localhost:8080/",
          "height": 310
        },
        "id": "5ldCpIdNpSZv",
        "outputId": "ea3a3d6e-a3d0-4f9b-96c7-aec2f87670e0"
      },
      "outputs": [
        {
          "data": {
            "application/vnd.google.colaboratory.intrinsic+json": {
              "summary": "{\n  \"name\": \"df\",\n  \"rows\": 9815,\n  \"fields\": [\n    {\n      \"column\": \"Search Query\",\n      \"properties\": {\n        \"dtype\": \"category\",\n        \"num_unique_values\": 41,\n        \"samples\": [\n          \"tenis\",\n          \"maquina de cafe expresso\",\n          \"caixa de som portatil\"\n        ],\n        \"semantic_type\": \"\",\n        \"description\": \"\"\n      }\n    },\n    {\n      \"column\": \"Product Title\",\n      \"properties\": {\n        \"dtype\": \"category\",\n        \"num_unique_values\": 908,\n        \"samples\": [\n          \"Zerodeko 4 bandejas empilh\\u00e1veis para joias, arm\\u00e1rio, gaveta, organizador de joias, bandejas de exibi\\u00e7\\u00e3o para c\\u00f4moda, brincos, pulseiras, colares, an\\u00e9is\",\n          \"Ferro A Vapor S\\u00e9rie 5000 Philips Walita Preto 1470W - DST5040/85, 127V\",\n          \"Redragon Mouse para jogos M711 Cobra com 16,8 milh\\u00f5es de cores RGB retroiluminadas, 10.000 DPI ajust\\u00e1vel, ader\\u00eancia confort\\u00e1vel, 7 bot\\u00f5es program\\u00e1veis, branco\"\n        ],\n        \"semantic_type\": \"\",\n        \"description\": \"\"\n      }\n    },\n    {\n      \"column\": \"Link\",\n      \"properties\": {\n        \"dtype\": \"category\",\n        \"num_unique_values\": 909,\n        \"samples\": [\n          \"https://www.amazon.com.br/dp/B09ZY98T71\",\n          \"https://www.amazon.com.br/dp/B09GHL35B3\",\n          \"https://www.amazon.com.br/dp/B07ZCHKMNL\"\n        ],\n        \"semantic_type\": \"\",\n        \"description\": \"\"\n      }\n    },\n    {\n      \"column\": \"Review\",\n      \"properties\": {\n        \"dtype\": \"string\",\n        \"num_unique_values\": 7668,\n        \"samples\": [\n          \"\\u00d3timo custo beneficio.Ideal para usar em ambientes pequenosNecess\\u00e1rio substituir o microfone por outro de melhor qualidades\",\n          \"Estou h\\u00e1 dois meses utilizando o produto, at\\u00e9 agora tem sido uma excelente experi\\u00eancia, o recurso de mudan\\u00e7a de dispositivo funciona perfeitamente, comprei at\\u00e9 um mouse pad da mesma marca para melhorar ainda mais o uso.\",\n          \"Excelente qualidade, n\\u00e3o faz barulho e pra carregar \\u00e9 \\u00f3timo.\"\n        ],\n        \"semantic_type\": \"\",\n        \"description\": \"\"\n      }\n    }\n  ]\n}",
              "type": "dataframe",
              "variable_name": "df"
            },
            "text/html": [
              "\n",
              "  <div id=\"df-ed938454-f728-48ef-8537-9aeba4bf0ef2\" class=\"colab-df-container\">\n",
              "    <div>\n",
              "<style scoped>\n",
              "    .dataframe tbody tr th:only-of-type {\n",
              "        vertical-align: middle;\n",
              "    }\n",
              "\n",
              "    .dataframe tbody tr th {\n",
              "        vertical-align: top;\n",
              "    }\n",
              "\n",
              "    .dataframe thead th {\n",
              "        text-align: right;\n",
              "    }\n",
              "</style>\n",
              "<table border=\"1\" class=\"dataframe\">\n",
              "  <thead>\n",
              "    <tr style=\"text-align: right;\">\n",
              "      <th></th>\n",
              "      <th>Search Query</th>\n",
              "      <th>Product Title</th>\n",
              "      <th>Link</th>\n",
              "      <th>Review</th>\n",
              "    </tr>\n",
              "  </thead>\n",
              "  <tbody>\n",
              "    <tr>\n",
              "      <th>0</th>\n",
              "      <td>smartphone</td>\n",
              "      <td>Smartphone Xiaomi Note 12 4G 128GB 6GB Ram (VE...</td>\n",
              "      <td>https://www.amazon.com.br/dp/B0BZ7RJDHD</td>\n",
              "      <td>Com a necessidade de comprar um celular custo ...</td>\n",
              "    </tr>\n",
              "    <tr>\n",
              "      <th>1</th>\n",
              "      <td>smartphone</td>\n",
              "      <td>Smartphone Xiaomi Note 12 4G 128GB 6GB Ram (VE...</td>\n",
              "      <td>https://www.amazon.com.br/dp/B0BZ7RJDHD</td>\n",
              "      <td>Minha experiência de 10 dias de uso com o Xiao...</td>\n",
              "    </tr>\n",
              "    <tr>\n",
              "      <th>2</th>\n",
              "      <td>smartphone</td>\n",
              "      <td>Smartphone Xiaomi Note 12 4G 128GB 6GB Ram (VE...</td>\n",
              "      <td>https://www.amazon.com.br/dp/B0BZ7RJDHD</td>\n",
              "      <td>Smartphone de qualidade como já esperava, boas...</td>\n",
              "    </tr>\n",
              "    <tr>\n",
              "      <th>3</th>\n",
              "      <td>smartphone</td>\n",
              "      <td>Smartphone Xiaomi Note 12 4G 128GB 6GB Ram (VE...</td>\n",
              "      <td>https://www.amazon.com.br/dp/B0BZ7RJDHD</td>\n",
              "      <td>atendeu mto minhas expectativas. Antes  eu usa...</td>\n",
              "    </tr>\n",
              "    <tr>\n",
              "      <th>4</th>\n",
              "      <td>smartphone</td>\n",
              "      <td>Smartphone Xiaomi Note 12 4G 128GB 6GB Ram (VE...</td>\n",
              "      <td>https://www.amazon.com.br/dp/B0BZ7RJDHD</td>\n",
              "      <td>Gostei muito do celular, tem resposta rápida e...</td>\n",
              "    </tr>\n",
              "  </tbody>\n",
              "</table>\n",
              "</div>\n",
              "    <div class=\"colab-df-buttons\">\n",
              "\n",
              "  <div class=\"colab-df-container\">\n",
              "    <button class=\"colab-df-convert\" onclick=\"convertToInteractive('df-ed938454-f728-48ef-8537-9aeba4bf0ef2')\"\n",
              "            title=\"Convert this dataframe to an interactive table.\"\n",
              "            style=\"display:none;\">\n",
              "\n",
              "  <svg xmlns=\"http://www.w3.org/2000/svg\" height=\"24px\" viewBox=\"0 -960 960 960\">\n",
              "    <path d=\"M120-120v-720h720v720H120Zm60-500h600v-160H180v160Zm220 220h160v-160H400v160Zm0 220h160v-160H400v160ZM180-400h160v-160H180v160Zm440 0h160v-160H620v160ZM180-180h160v-160H180v160Zm440 0h160v-160H620v160Z\"/>\n",
              "  </svg>\n",
              "    </button>\n",
              "\n",
              "  <style>\n",
              "    .colab-df-container {\n",
              "      display:flex;\n",
              "      gap: 12px;\n",
              "    }\n",
              "\n",
              "    .colab-df-convert {\n",
              "      background-color: #E8F0FE;\n",
              "      border: none;\n",
              "      border-radius: 50%;\n",
              "      cursor: pointer;\n",
              "      display: none;\n",
              "      fill: #1967D2;\n",
              "      height: 32px;\n",
              "      padding: 0 0 0 0;\n",
              "      width: 32px;\n",
              "    }\n",
              "\n",
              "    .colab-df-convert:hover {\n",
              "      background-color: #E2EBFA;\n",
              "      box-shadow: 0px 1px 2px rgba(60, 64, 67, 0.3), 0px 1px 3px 1px rgba(60, 64, 67, 0.15);\n",
              "      fill: #174EA6;\n",
              "    }\n",
              "\n",
              "    .colab-df-buttons div {\n",
              "      margin-bottom: 4px;\n",
              "    }\n",
              "\n",
              "    [theme=dark] .colab-df-convert {\n",
              "      background-color: #3B4455;\n",
              "      fill: #D2E3FC;\n",
              "    }\n",
              "\n",
              "    [theme=dark] .colab-df-convert:hover {\n",
              "      background-color: #434B5C;\n",
              "      box-shadow: 0px 1px 3px 1px rgba(0, 0, 0, 0.15);\n",
              "      filter: drop-shadow(0px 1px 2px rgba(0, 0, 0, 0.3));\n",
              "      fill: #FFFFFF;\n",
              "    }\n",
              "  </style>\n",
              "\n",
              "    <script>\n",
              "      const buttonEl =\n",
              "        document.querySelector('#df-ed938454-f728-48ef-8537-9aeba4bf0ef2 button.colab-df-convert');\n",
              "      buttonEl.style.display =\n",
              "        google.colab.kernel.accessAllowed ? 'block' : 'none';\n",
              "\n",
              "      async function convertToInteractive(key) {\n",
              "        const element = document.querySelector('#df-ed938454-f728-48ef-8537-9aeba4bf0ef2');\n",
              "        const dataTable =\n",
              "          await google.colab.kernel.invokeFunction('convertToInteractive',\n",
              "                                                    [key], {});\n",
              "        if (!dataTable) return;\n",
              "\n",
              "        const docLinkHtml = 'Like what you see? Visit the ' +\n",
              "          '<a target=\"_blank\" href=https://colab.research.google.com/notebooks/data_table.ipynb>data table notebook</a>'\n",
              "          + ' to learn more about interactive tables.';\n",
              "        element.innerHTML = '';\n",
              "        dataTable['output_type'] = 'display_data';\n",
              "        await google.colab.output.renderOutput(dataTable, element);\n",
              "        const docLink = document.createElement('div');\n",
              "        docLink.innerHTML = docLinkHtml;\n",
              "        element.appendChild(docLink);\n",
              "      }\n",
              "    </script>\n",
              "  </div>\n",
              "\n",
              "\n",
              "<div id=\"df-3e746687-16e6-47f7-b3ce-ddfb7985f56c\">\n",
              "  <button class=\"colab-df-quickchart\" onclick=\"quickchart('df-3e746687-16e6-47f7-b3ce-ddfb7985f56c')\"\n",
              "            title=\"Suggest charts\"\n",
              "            style=\"display:none;\">\n",
              "\n",
              "<svg xmlns=\"http://www.w3.org/2000/svg\" height=\"24px\"viewBox=\"0 0 24 24\"\n",
              "     width=\"24px\">\n",
              "    <g>\n",
              "        <path d=\"M19 3H5c-1.1 0-2 .9-2 2v14c0 1.1.9 2 2 2h14c1.1 0 2-.9 2-2V5c0-1.1-.9-2-2-2zM9 17H7v-7h2v7zm4 0h-2V7h2v10zm4 0h-2v-4h2v4z\"/>\n",
              "    </g>\n",
              "</svg>\n",
              "  </button>\n",
              "\n",
              "<style>\n",
              "  .colab-df-quickchart {\n",
              "      --bg-color: #E8F0FE;\n",
              "      --fill-color: #1967D2;\n",
              "      --hover-bg-color: #E2EBFA;\n",
              "      --hover-fill-color: #174EA6;\n",
              "      --disabled-fill-color: #AAA;\n",
              "      --disabled-bg-color: #DDD;\n",
              "  }\n",
              "\n",
              "  [theme=dark] .colab-df-quickchart {\n",
              "      --bg-color: #3B4455;\n",
              "      --fill-color: #D2E3FC;\n",
              "      --hover-bg-color: #434B5C;\n",
              "      --hover-fill-color: #FFFFFF;\n",
              "      --disabled-bg-color: #3B4455;\n",
              "      --disabled-fill-color: #666;\n",
              "  }\n",
              "\n",
              "  .colab-df-quickchart {\n",
              "    background-color: var(--bg-color);\n",
              "    border: none;\n",
              "    border-radius: 50%;\n",
              "    cursor: pointer;\n",
              "    display: none;\n",
              "    fill: var(--fill-color);\n",
              "    height: 32px;\n",
              "    padding: 0;\n",
              "    width: 32px;\n",
              "  }\n",
              "\n",
              "  .colab-df-quickchart:hover {\n",
              "    background-color: var(--hover-bg-color);\n",
              "    box-shadow: 0 1px 2px rgba(60, 64, 67, 0.3), 0 1px 3px 1px rgba(60, 64, 67, 0.15);\n",
              "    fill: var(--button-hover-fill-color);\n",
              "  }\n",
              "\n",
              "  .colab-df-quickchart-complete:disabled,\n",
              "  .colab-df-quickchart-complete:disabled:hover {\n",
              "    background-color: var(--disabled-bg-color);\n",
              "    fill: var(--disabled-fill-color);\n",
              "    box-shadow: none;\n",
              "  }\n",
              "\n",
              "  .colab-df-spinner {\n",
              "    border: 2px solid var(--fill-color);\n",
              "    border-color: transparent;\n",
              "    border-bottom-color: var(--fill-color);\n",
              "    animation:\n",
              "      spin 1s steps(1) infinite;\n",
              "  }\n",
              "\n",
              "  @keyframes spin {\n",
              "    0% {\n",
              "      border-color: transparent;\n",
              "      border-bottom-color: var(--fill-color);\n",
              "      border-left-color: var(--fill-color);\n",
              "    }\n",
              "    20% {\n",
              "      border-color: transparent;\n",
              "      border-left-color: var(--fill-color);\n",
              "      border-top-color: var(--fill-color);\n",
              "    }\n",
              "    30% {\n",
              "      border-color: transparent;\n",
              "      border-left-color: var(--fill-color);\n",
              "      border-top-color: var(--fill-color);\n",
              "      border-right-color: var(--fill-color);\n",
              "    }\n",
              "    40% {\n",
              "      border-color: transparent;\n",
              "      border-right-color: var(--fill-color);\n",
              "      border-top-color: var(--fill-color);\n",
              "    }\n",
              "    60% {\n",
              "      border-color: transparent;\n",
              "      border-right-color: var(--fill-color);\n",
              "    }\n",
              "    80% {\n",
              "      border-color: transparent;\n",
              "      border-right-color: var(--fill-color);\n",
              "      border-bottom-color: var(--fill-color);\n",
              "    }\n",
              "    90% {\n",
              "      border-color: transparent;\n",
              "      border-bottom-color: var(--fill-color);\n",
              "    }\n",
              "  }\n",
              "</style>\n",
              "\n",
              "  <script>\n",
              "    async function quickchart(key) {\n",
              "      const quickchartButtonEl =\n",
              "        document.querySelector('#' + key + ' button');\n",
              "      quickchartButtonEl.disabled = true;  // To prevent multiple clicks.\n",
              "      quickchartButtonEl.classList.add('colab-df-spinner');\n",
              "      try {\n",
              "        const charts = await google.colab.kernel.invokeFunction(\n",
              "            'suggestCharts', [key], {});\n",
              "      } catch (error) {\n",
              "        console.error('Error during call to suggestCharts:', error);\n",
              "      }\n",
              "      quickchartButtonEl.classList.remove('colab-df-spinner');\n",
              "      quickchartButtonEl.classList.add('colab-df-quickchart-complete');\n",
              "    }\n",
              "    (() => {\n",
              "      let quickchartButtonEl =\n",
              "        document.querySelector('#df-3e746687-16e6-47f7-b3ce-ddfb7985f56c button');\n",
              "      quickchartButtonEl.style.display =\n",
              "        google.colab.kernel.accessAllowed ? 'block' : 'none';\n",
              "    })();\n",
              "  </script>\n",
              "</div>\n",
              "\n",
              "    </div>\n",
              "  </div>\n"
            ],
            "text/plain": [
              "  Search Query                                      Product Title  \\\n",
              "0   smartphone  Smartphone Xiaomi Note 12 4G 128GB 6GB Ram (VE...   \n",
              "1   smartphone  Smartphone Xiaomi Note 12 4G 128GB 6GB Ram (VE...   \n",
              "2   smartphone  Smartphone Xiaomi Note 12 4G 128GB 6GB Ram (VE...   \n",
              "3   smartphone  Smartphone Xiaomi Note 12 4G 128GB 6GB Ram (VE...   \n",
              "4   smartphone  Smartphone Xiaomi Note 12 4G 128GB 6GB Ram (VE...   \n",
              "\n",
              "                                      Link  \\\n",
              "0  https://www.amazon.com.br/dp/B0BZ7RJDHD   \n",
              "1  https://www.amazon.com.br/dp/B0BZ7RJDHD   \n",
              "2  https://www.amazon.com.br/dp/B0BZ7RJDHD   \n",
              "3  https://www.amazon.com.br/dp/B0BZ7RJDHD   \n",
              "4  https://www.amazon.com.br/dp/B0BZ7RJDHD   \n",
              "\n",
              "                                              Review  \n",
              "0  Com a necessidade de comprar um celular custo ...  \n",
              "1  Minha experiência de 10 dias de uso com o Xiao...  \n",
              "2  Smartphone de qualidade como já esperava, boas...  \n",
              "3  atendeu mto minhas expectativas. Antes  eu usa...  \n",
              "4  Gostei muito do celular, tem resposta rápida e...  "
            ]
          },
          "execution_count": 29,
          "metadata": {},
          "output_type": "execute_result"
        }
      ],
      "source": [
        "df = pd.read_csv(\"dataset-customer-evaluations/dataset/am_scrape_final.csv\")\n",
        "df.head()"
      ]
    },
    {
      "cell_type": "markdown",
      "metadata": {
        "id": "np9S3VPXpSZw"
      },
      "source": [
        "Note que as revisões podem ser extensas, mas não necessáriamente contém informações relevantes em todas as frases."
      ]
    },
    {
      "cell_type": "code",
      "execution_count": 30,
      "metadata": {
        "colab": {
          "base_uri": "https://localhost:8080/",
          "height": 174
        },
        "id": "3tHoRoj5pSZw",
        "outputId": "b94add0d-bf56-4507-8602-92421836282f"
      },
      "outputs": [
        {
          "data": {
            "application/vnd.google.colaboratory.intrinsic+json": {
              "type": "string"
            },
            "text/plain": [
              "'Com a necessidade de comprar um celular custo benefício comecei pesquisando os modelos que mais vendem no mercado e me deparei com os líderes de sempre: Samsung, Motorola...Apple não é custo-benefício aqui no Brasil.Eu já tive smartphones dessas marcas supracitadas, mas nunca da Xiaomi.Por conseguinte, analisei vários vídeos e tinham varias opções (não cabem ser citadas agora) que entregavam uma boa qualidade de apenas algumas características, porém o conjunto completo deixava sempre a desejar.Partindo da premissa que eu saí de um celular no seguinte estado:-Marca: Samsung-Modelo: Gran prime-Ano de lançamento: 2015-Armazenamento: apenas 8gb de memória interna.Considerando também o valor do mercado atual dos Smartphones: CATASTRÓFICO.Associo que a escolha da marca condiz com o meu objetivo:- Precisava de uma boa tela ( essa tela é a melhor do mercado para esses celulares de entrada).- Tinha a necessidade de uma boa bateria ( essa faz jus à marca, sem contar com o carregamento ultra rápido que eles ainda oferecem).- Buscava uma boa câmera ( não tira as melhores fotos do mercado, mas nenhum dos celulares dessa categoria vem com as mesmas funções dos top de linha).- Visava um celular que não travasse ( esse tem 6gb de memória ram, roda até os jogos mais pesados da play story como: Call Of Duty, Genshin Impact, bem como já cheguei até a jogar um pouco de The Legend of Neverland, não roda com os gráficos no máximo sem leg, pois essa não é uma das propostas da faixa de preço desse aparelho, mas dá pra jogar todos os jogos tranquilamente em modo mais light).Portanto, a aquisição desse aparelho está suprindo minhas necessidades e veio melhor do que eu pensava.Já fiz até a aquisição de outro para uma amiga.Comprem sem medo e boa sorte com o produto.'"
            ]
          },
          "execution_count": 30,
          "metadata": {},
          "output_type": "execute_result"
        }
      ],
      "source": [
        "df.iloc[0][\"Review\"]"
      ]
    },
    {
      "cell_type": "code",
      "execution_count": 31,
      "metadata": {
        "id": "B5Jz78SVpSZw"
      },
      "outputs": [],
      "source": [
        "customer_messages = prompt_template.format_messages(\n",
        "                    style=style,\n",
        "                    customer_review=df.iloc[0][\"Review\"])\n",
        "\n",
        "customer_response = openai_chat.invoke(customer_messages)"
      ]
    },
    {
      "cell_type": "code",
      "execution_count": 32,
      "metadata": {
        "colab": {
          "base_uri": "https://localhost:8080/",
          "height": 53
        },
        "id": "Qf7BrSkGpSZw",
        "outputId": "43e8ba9e-3567-42a6-8ef7-c635b1a7bafa"
      },
      "outputs": [
        {
          "data": {
            "application/vnd.google.colaboratory.intrinsic+json": {
              "type": "string"
            },
            "text/plain": [
              "'Revisão positiva sobre a Xiaomi, destacando a qualidade da tela, bateria, câmera e desempenho do aparelho. Recomenda a compra sem medo, pois atendeu às necessidades do cliente e superou suas expectativas.'"
            ]
          },
          "execution_count": 32,
          "metadata": {},
          "output_type": "execute_result"
        }
      ],
      "source": [
        "customer_response.content"
      ]
    },
    {
      "cell_type": "code",
      "execution_count": 33,
      "metadata": {
        "colab": {
          "base_uri": "https://localhost:8080/",
          "height": 157
        },
        "id": "Fc-AW9TPpSZw",
        "outputId": "bb12c9ae-6d2b-4661-82fd-51c54d2a1889"
      },
      "outputs": [
        {
          "data": {
            "application/vnd.google.colaboratory.intrinsic+json": {
              "type": "string"
            },
            "text/plain": [
              "'Gente, é barato e muito bom mesmo; pelo menos até o momento rs. Comprei com 6 g RAM e estou amando, o bicho tá parecendo um foguete de rápido kkkkk.  Estou usando há um mês e meio; o verde é lindo 😍, e uma das coisas que mais me chamou atenção até o momento, é a durabilidade da bateria. Castiguei ele com aplicativos que consomem muita energia e a bateria aguentou 20 horas numa boa, coloquei para carregar pq iria sair e não queria levar o carregador, mas dura muuuuuito, o meu anterior (Zenfone, que tbm é muito bom, a bateria não aguentava 10 horas ou menos). Para carregar, também é mega rápido. E como utilizo o celular na maior parte do tempo para trabalho, consigo visualizar diversos documentos na gigante tela dele rs. Enfim ... até o momento, só elogios para o aparelho, vale a pena comprar.Obs* apenas demora par reiniciar, se estiver com pressa, ferrou! Mas considero isso um inconveniente bobo rs.'"
            ]
          },
          "execution_count": 33,
          "metadata": {},
          "output_type": "execute_result"
        }
      ],
      "source": [
        "df.iloc[5][\"Review\"]"
      ]
    },
    {
      "cell_type": "markdown",
      "metadata": {
        "id": "AE2T9nFnpSZw"
      },
      "source": [
        "Passando no prompt para resumir e também remover eventuais expressões e agressões."
      ]
    },
    {
      "cell_type": "code",
      "execution_count": 34,
      "metadata": {
        "colab": {
          "base_uri": "https://localhost:8080/",
          "height": 53
        },
        "id": "Tu2jEKVXpSZx",
        "outputId": "5289936e-2549-48d2-d04f-7b6d9d528f3b"
      },
      "outputs": [
        {
          "data": {
            "application/vnd.google.colaboratory.intrinsic+json": {
              "type": "string"
            },
            "text/plain": [
              "'Excelente custo-benefício, desempenho rápido e bateria duradoura. Tela grande e carregamento rápido. Único ponto negativo é a demora para reiniciar. Recomendo a compra.'"
            ]
          },
          "execution_count": 34,
          "metadata": {},
          "output_type": "execute_result"
        }
      ],
      "source": [
        "customer_messages = prompt_template.format_messages(\n",
        "                    style=style,\n",
        "                    customer_review=df.iloc[5][\"Review\"])\n",
        "\n",
        "customer_response = openai_chat.invoke(customer_messages)\n",
        "customer_response.content"
      ]
    },
    {
      "cell_type": "markdown",
      "metadata": {
        "id": "nC5BH4VyNYjo"
      },
      "source": [
        "## Memória e contexto"
      ]
    },
    {
      "cell_type": "markdown",
      "metadata": {
        "id": "bJX8AQ8kUADA"
      },
      "source": [
        "Adiciona um efeito de contexto sobre as conversas realizadas, tornando a conversa (modelo chat) mais integrado podendo controlar a janela de memória em cada interação.\n",
        "\n",
        "A memória sempre é passada ao modelo de LLM, portanto existem técnicas que tornam essa passagem mais inteligente, como a limitação de posições, tokens ou até mesmo o uso de sumários."
      ]
    },
    {
      "cell_type": "code",
      "execution_count": 35,
      "metadata": {
        "id": "-9CtVeuVNZ5G"
      },
      "outputs": [],
      "source": [
        "from langchain.chains import ConversationChain\n",
        "from langchain.memory import ConversationBufferMemory"
      ]
    },
    {
      "cell_type": "code",
      "execution_count": 36,
      "metadata": {
        "id": "1MgGyIop_nXd"
      },
      "outputs": [],
      "source": [
        "model = \"gpt-3.5-turbo\""
      ]
    },
    {
      "cell_type": "markdown",
      "metadata": {
        "id": "1dM6WHRgUaIk"
      },
      "source": [
        "Conversação com memória simples."
      ]
    },
    {
      "cell_type": "code",
      "execution_count": 37,
      "metadata": {
        "id": "fSz-XX6p_ggQ"
      },
      "outputs": [],
      "source": [
        "chat_openai = ChatOpenAI(temperature=0.0, model=model)\n",
        "\n",
        "memory = ConversationBufferMemory()\n",
        "\n",
        "conversation = ConversationChain(llm = chat_openai, memory = memory, verbose=True)"
      ]
    },
    {
      "cell_type": "code",
      "execution_count": 38,
      "metadata": {
        "colab": {
          "base_uri": "https://localhost:8080/",
          "height": 264
        },
        "id": "zQIvQ97c_gim",
        "outputId": "a2c3ce2e-742a-4b4a-80d6-e3a7dc0e0dd2"
      },
      "outputs": [
        {
          "name": "stdout",
          "output_type": "stream",
          "text": [
            "\n",
            "\n",
            "\u001b[1m> Entering new ConversationChain chain...\u001b[0m\n",
            "Prompt after formatting:\n",
            "\u001b[32;1m\u001b[1;3mThe following is a friendly conversation between a human and an AI. The AI is talkative and provides lots of specific details from its context. If the AI does not know the answer to a question, it truthfully says it does not know.\n",
            "\n",
            "Current conversation:\n",
            "\n",
            "Human: Olá, meu nome é Michel e sou o professor na FIAP\n",
            "AI:\u001b[0m\n",
            "\n",
            "\u001b[1m> Finished chain.\u001b[0m\n"
          ]
        },
        {
          "data": {
            "application/vnd.google.colaboratory.intrinsic+json": {
              "type": "string"
            },
            "text/plain": [
              "'Olá Michel! É um prazer conhecê-lo. Como posso ajudá-lo hoje?'"
            ]
          },
          "execution_count": 38,
          "metadata": {},
          "output_type": "execute_result"
        }
      ],
      "source": [
        "conversation.predict(input=\"Olá, meu nome é Michel e sou o professor na FIAP\")"
      ]
    },
    {
      "cell_type": "code",
      "execution_count": 39,
      "metadata": {
        "colab": {
          "base_uri": "https://localhost:8080/",
          "height": 316
        },
        "id": "Vj0hCk0HAPwd",
        "outputId": "621ed4ad-b930-468b-d88e-3b6ee66b2e45"
      },
      "outputs": [
        {
          "name": "stdout",
          "output_type": "stream",
          "text": [
            "\n",
            "\n",
            "\u001b[1m> Entering new ConversationChain chain...\u001b[0m\n",
            "Prompt after formatting:\n",
            "\u001b[32;1m\u001b[1;3mThe following is a friendly conversation between a human and an AI. The AI is talkative and provides lots of specific details from its context. If the AI does not know the answer to a question, it truthfully says it does not know.\n",
            "\n",
            "Current conversation:\n",
            "Human: Olá, meu nome é Michel e sou o professor na FIAP\n",
            "AI: Olá Michel! É um prazer conhecê-lo. Como posso ajudá-lo hoje?\n",
            "Human: Você conhece a FIAP?\n",
            "AI:\u001b[0m\n",
            "\n",
            "\u001b[1m> Finished chain.\u001b[0m\n"
          ]
        },
        {
          "data": {
            "application/vnd.google.colaboratory.intrinsic+json": {
              "type": "string"
            },
            "text/plain": [
              "'Sim, a FIAP é uma instituição de ensino superior localizada em São Paulo, Brasil. Ela oferece cursos de graduação e pós-graduação nas áreas de tecnologia da informação, administração, engenharia, entre outras. A FIAP também é conhecida por sua forte conexão com o mercado de trabalho e por promover eventos e hackathons para seus alunos.'"
            ]
          },
          "execution_count": 39,
          "metadata": {},
          "output_type": "execute_result"
        }
      ],
      "source": [
        "conversation.predict(input=\"Você conhece a FIAP?\")"
      ]
    },
    {
      "cell_type": "code",
      "execution_count": 40,
      "metadata": {
        "colab": {
          "base_uri": "https://localhost:8080/",
          "height": 351
        },
        "id": "6AXe9TQAAVwS",
        "outputId": "715125b5-daa5-4ff8-89a8-f7a99e2e130d"
      },
      "outputs": [
        {
          "name": "stdout",
          "output_type": "stream",
          "text": [
            "\n",
            "\n",
            "\u001b[1m> Entering new ConversationChain chain...\u001b[0m\n",
            "Prompt after formatting:\n",
            "\u001b[32;1m\u001b[1;3mThe following is a friendly conversation between a human and an AI. The AI is talkative and provides lots of specific details from its context. If the AI does not know the answer to a question, it truthfully says it does not know.\n",
            "\n",
            "Current conversation:\n",
            "Human: Olá, meu nome é Michel e sou o professor na FIAP\n",
            "AI: Olá Michel! É um prazer conhecê-lo. Como posso ajudá-lo hoje?\n",
            "Human: Você conhece a FIAP?\n",
            "AI: Sim, a FIAP é uma instituição de ensino superior localizada em São Paulo, Brasil. Ela oferece cursos de graduação e pós-graduação nas áreas de tecnologia da informação, administração, engenharia, entre outras. A FIAP também é conhecida por sua forte conexão com o mercado de trabalho e por promover eventos e hackathons para seus alunos.\n",
            "Human: Qual é o meu nome e onde eu trabalho?\n",
            "AI:\u001b[0m\n",
            "\n",
            "\u001b[1m> Finished chain.\u001b[0m\n"
          ]
        },
        {
          "data": {
            "application/vnd.google.colaboratory.intrinsic+json": {
              "type": "string"
            },
            "text/plain": [
              "'Seu nome é Michel e você trabalha como professor na FIAP. Como professor, você provavelmente leciona disciplinas relacionadas à tecnologia da informação, administração ou engenharia, dependendo da sua área de especialização. Como posso ajudá-lo mais hoje, Michel?'"
            ]
          },
          "execution_count": 40,
          "metadata": {},
          "output_type": "execute_result"
        }
      ],
      "source": [
        "conversation.predict(input=\"Qual é o meu nome e onde eu trabalho?\")"
      ]
    },
    {
      "cell_type": "code",
      "execution_count": 41,
      "metadata": {
        "colab": {
          "base_uri": "https://localhost:8080/"
        },
        "id": "D7JZ1WkOAauY",
        "outputId": "c963a9cb-e29b-4444-831f-614a3f20e913"
      },
      "outputs": [
        {
          "name": "stdout",
          "output_type": "stream",
          "text": [
            "Human: Olá, meu nome é Michel e sou o professor na FIAP\n",
            "AI: Olá Michel! É um prazer conhecê-lo. Como posso ajudá-lo hoje?\n",
            "Human: Você conhece a FIAP?\n",
            "AI: Sim, a FIAP é uma instituição de ensino superior localizada em São Paulo, Brasil. Ela oferece cursos de graduação e pós-graduação nas áreas de tecnologia da informação, administração, engenharia, entre outras. A FIAP também é conhecida por sua forte conexão com o mercado de trabalho e por promover eventos e hackathons para seus alunos.\n",
            "Human: Qual é o meu nome e onde eu trabalho?\n",
            "AI: Seu nome é Michel e você trabalha como professor na FIAP. Como professor, você provavelmente leciona disciplinas relacionadas à tecnologia da informação, administração ou engenharia, dependendo da sua área de especialização. Como posso ajudá-lo mais hoje, Michel?\n"
          ]
        }
      ],
      "source": [
        "print(memory.buffer)"
      ]
    },
    {
      "cell_type": "code",
      "execution_count": 42,
      "metadata": {
        "colab": {
          "base_uri": "https://localhost:8080/"
        },
        "id": "g3IZoKeo_gk6",
        "outputId": "79e01e56-0a05-425c-9df3-b9a214a25a1f"
      },
      "outputs": [
        {
          "data": {
            "text/plain": [
              "{'history': 'Human: Olá, meu nome é Michel e sou o professor na FIAP\\nAI: Olá Michel! É um prazer conhecê-lo. Como posso ajudá-lo hoje?\\nHuman: Você conhece a FIAP?\\nAI: Sim, a FIAP é uma instituição de ensino superior localizada em São Paulo, Brasil. Ela oferece cursos de graduação e pós-graduação nas áreas de tecnologia da informação, administração, engenharia, entre outras. A FIAP também é conhecida por sua forte conexão com o mercado de trabalho e por promover eventos e hackathons para seus alunos.\\nHuman: Qual é o meu nome e onde eu trabalho?\\nAI: Seu nome é Michel e você trabalha como professor na FIAP. Como professor, você provavelmente leciona disciplinas relacionadas à tecnologia da informação, administração ou engenharia, dependendo da sua área de especialização. Como posso ajudá-lo mais hoje, Michel?'}"
            ]
          },
          "execution_count": 42,
          "metadata": {},
          "output_type": "execute_result"
        }
      ],
      "source": [
        "memory.load_memory_variables({})"
      ]
    },
    {
      "cell_type": "code",
      "execution_count": 43,
      "metadata": {
        "id": "_QvPWqVz_gnN"
      },
      "outputs": [],
      "source": [
        "memory.save_context({\"input\": \"Eu tenho dois filhos, uma de 10 anos e um de 6 anos.\"},\n",
        "                    {\"output\": \"Legal, então você tem um casal.\"})"
      ]
    },
    {
      "cell_type": "code",
      "execution_count": 44,
      "metadata": {
        "colab": {
          "base_uri": "https://localhost:8080/"
        },
        "id": "3o59T1xnBE9_",
        "outputId": "87135b0f-4a9b-453f-9294-76f651f7e365"
      },
      "outputs": [
        {
          "data": {
            "text/plain": [
              "{'history': 'Human: Olá, meu nome é Michel e sou o professor na FIAP\\nAI: Olá Michel! É um prazer conhecê-lo. Como posso ajudá-lo hoje?\\nHuman: Você conhece a FIAP?\\nAI: Sim, a FIAP é uma instituição de ensino superior localizada em São Paulo, Brasil. Ela oferece cursos de graduação e pós-graduação nas áreas de tecnologia da informação, administração, engenharia, entre outras. A FIAP também é conhecida por sua forte conexão com o mercado de trabalho e por promover eventos e hackathons para seus alunos.\\nHuman: Qual é o meu nome e onde eu trabalho?\\nAI: Seu nome é Michel e você trabalha como professor na FIAP. Como professor, você provavelmente leciona disciplinas relacionadas à tecnologia da informação, administração ou engenharia, dependendo da sua área de especialização. Como posso ajudá-lo mais hoje, Michel?\\nHuman: Eu tenho dois filhos, uma de 10 anos e um de 6 anos.\\nAI: Legal, então você tem um casal.'}"
            ]
          },
          "execution_count": 44,
          "metadata": {},
          "output_type": "execute_result"
        }
      ],
      "source": [
        "memory.load_memory_variables({})"
      ]
    },
    {
      "cell_type": "code",
      "execution_count": 45,
      "metadata": {
        "colab": {
          "base_uri": "https://localhost:8080/",
          "height": 403
        },
        "id": "i6qG77wKBFAt",
        "outputId": "990feab4-ea4b-4ace-cee7-ffbd3bfbb120"
      },
      "outputs": [
        {
          "name": "stdout",
          "output_type": "stream",
          "text": [
            "\n",
            "\n",
            "\u001b[1m> Entering new ConversationChain chain...\u001b[0m\n",
            "Prompt after formatting:\n",
            "\u001b[32;1m\u001b[1;3mThe following is a friendly conversation between a human and an AI. The AI is talkative and provides lots of specific details from its context. If the AI does not know the answer to a question, it truthfully says it does not know.\n",
            "\n",
            "Current conversation:\n",
            "Human: Olá, meu nome é Michel e sou o professor na FIAP\n",
            "AI: Olá Michel! É um prazer conhecê-lo. Como posso ajudá-lo hoje?\n",
            "Human: Você conhece a FIAP?\n",
            "AI: Sim, a FIAP é uma instituição de ensino superior localizada em São Paulo, Brasil. Ela oferece cursos de graduação e pós-graduação nas áreas de tecnologia da informação, administração, engenharia, entre outras. A FIAP também é conhecida por sua forte conexão com o mercado de trabalho e por promover eventos e hackathons para seus alunos.\n",
            "Human: Qual é o meu nome e onde eu trabalho?\n",
            "AI: Seu nome é Michel e você trabalha como professor na FIAP. Como professor, você provavelmente leciona disciplinas relacionadas à tecnologia da informação, administração ou engenharia, dependendo da sua área de especialização. Como posso ajudá-lo mais hoje, Michel?\n",
            "Human: Eu tenho dois filhos, uma de 10 anos e um de 6 anos.\n",
            "AI: Legal, então você tem um casal.\n",
            "Human: Em que ano meus filhos nasceram, sabendo que estamos em 2023?\n",
            "AI:\u001b[0m\n",
            "\n",
            "\u001b[1m> Finished chain.\u001b[0m\n"
          ]
        },
        {
          "data": {
            "application/vnd.google.colaboratory.intrinsic+json": {
              "type": "string"
            },
            "text/plain": [
              "'Se estamos em 2023, sua filha de 10 anos nasceu em 2013 e seu filho de 6 anos nasceu em 2017. Como posso ajudá-lo mais hoje, Michel?'"
            ]
          },
          "execution_count": 45,
          "metadata": {},
          "output_type": "execute_result"
        }
      ],
      "source": [
        "conversation.predict(input=\"Em que ano meus filhos nasceram, sabendo que estamos em 2023?\")"
      ]
    },
    {
      "cell_type": "code",
      "execution_count": 46,
      "metadata": {
        "id": "Il6VNB9OBgRy"
      },
      "outputs": [],
      "source": [
        "from langchain.memory import ConversationBufferWindowMemory"
      ]
    },
    {
      "cell_type": "markdown",
      "metadata": {
        "id": "xM8Y1nIZUfB5"
      },
      "source": [
        "Adicionando limitação de entradas (valor k)."
      ]
    },
    {
      "cell_type": "code",
      "execution_count": 47,
      "metadata": {
        "id": "zdVl12KgBgdQ"
      },
      "outputs": [],
      "source": [
        "memory_limited = ConversationBufferWindowMemory(k=1)"
      ]
    },
    {
      "cell_type": "code",
      "execution_count": 48,
      "metadata": {
        "id": "FoagJ6PtBgko"
      },
      "outputs": [],
      "source": [
        "memory_limited.save_context({\"input\": \"Estudei Engenharia Elétrica na FEI em São Bernardo do Campo.\"},\n",
        "                    {\"output\": \"Muito bom! É uma faculdade reconhecida nesta área.\"})\n",
        "\n",
        "memory_limited.save_context({\"input\": \"Eu nasci na cidade de São Paulo.\"},\n",
        "                    {\"output\": \"Legal!\"})"
      ]
    },
    {
      "cell_type": "code",
      "execution_count": 49,
      "metadata": {
        "colab": {
          "base_uri": "https://localhost:8080/"
        },
        "id": "zNGQvSlRCC-5",
        "outputId": "64961267-38d2-4940-e681-298e28898766"
      },
      "outputs": [
        {
          "data": {
            "text/plain": [
              "{'history': 'Human: Eu nasci na cidade de São Paulo.\\nAI: Legal!'}"
            ]
          },
          "execution_count": 49,
          "metadata": {},
          "output_type": "execute_result"
        }
      ],
      "source": [
        "memory_limited.load_memory_variables({})"
      ]
    },
    {
      "cell_type": "code",
      "execution_count": 50,
      "metadata": {
        "id": "mFca_NQ9CRXZ"
      },
      "outputs": [],
      "source": [
        "conversation = ConversationChain(llm = chat_openai, memory = memory_limited, verbose=True)"
      ]
    },
    {
      "cell_type": "code",
      "execution_count": 51,
      "metadata": {
        "colab": {
          "base_uri": "https://localhost:8080/",
          "height": 281
        },
        "id": "cPhxmXjRCUEX",
        "outputId": "bd4594e4-db47-4fab-e57a-a8f874be4d0d"
      },
      "outputs": [
        {
          "name": "stdout",
          "output_type": "stream",
          "text": [
            "\n",
            "\n",
            "\u001b[1m> Entering new ConversationChain chain...\u001b[0m\n",
            "Prompt after formatting:\n",
            "\u001b[32;1m\u001b[1;3mThe following is a friendly conversation between a human and an AI. The AI is talkative and provides lots of specific details from its context. If the AI does not know the answer to a question, it truthfully says it does not know.\n",
            "\n",
            "Current conversation:\n",
            "Human: Eu nasci na cidade de São Paulo.\n",
            "AI: Legal!\n",
            "Human: Onde eu me estudei?\n",
            "AI:\u001b[0m\n",
            "\n",
            "\u001b[1m> Finished chain.\u001b[0m\n"
          ]
        },
        {
          "data": {
            "application/vnd.google.colaboratory.intrinsic+json": {
              "type": "string"
            },
            "text/plain": [
              "'Desculpe, eu não sei onde você estudou. Posso te ajudar com mais alguma coisa?'"
            ]
          },
          "execution_count": 51,
          "metadata": {},
          "output_type": "execute_result"
        }
      ],
      "source": [
        "conversation.predict(input=\"Onde eu me estudei?\")"
      ]
    },
    {
      "cell_type": "code",
      "execution_count": 52,
      "metadata": {
        "colab": {
          "base_uri": "https://localhost:8080/",
          "height": 281
        },
        "id": "7JqnJAnoCUHT",
        "outputId": "e714ddbd-1ac5-442a-ad47-60c4f1eaffb7"
      },
      "outputs": [
        {
          "name": "stdout",
          "output_type": "stream",
          "text": [
            "\n",
            "\n",
            "\u001b[1m> Entering new ConversationChain chain...\u001b[0m\n",
            "Prompt after formatting:\n",
            "\u001b[32;1m\u001b[1;3mThe following is a friendly conversation between a human and an AI. The AI is talkative and provides lots of specific details from its context. If the AI does not know the answer to a question, it truthfully says it does not know.\n",
            "\n",
            "Current conversation:\n",
            "Human: Onde eu me estudei?\n",
            "AI: Desculpe, eu não sei onde você estudou. Posso te ajudar com mais alguma coisa?\n",
            "Human: Onde eu nasci?\n",
            "AI:\u001b[0m\n",
            "\n",
            "\u001b[1m> Finished chain.\u001b[0m\n"
          ]
        },
        {
          "data": {
            "application/vnd.google.colaboratory.intrinsic+json": {
              "type": "string"
            },
            "text/plain": [
              "'Você nasceu na cidade de São Paulo, Brasil. Posso te ajudar com mais alguma informação?'"
            ]
          },
          "execution_count": 52,
          "metadata": {},
          "output_type": "execute_result"
        }
      ],
      "source": [
        "conversation.predict(input=\"Onde eu nasci?\")"
      ]
    },
    {
      "cell_type": "code",
      "execution_count": 53,
      "metadata": {
        "id": "-N573MCRCy1I"
      },
      "outputs": [],
      "source": [
        "from langchain.memory import ConversationTokenBufferMemory"
      ]
    },
    {
      "cell_type": "markdown",
      "metadata": {
        "id": "7P-mUyJyUiO6"
      },
      "source": [
        "Adicioando limitação por tokens."
      ]
    },
    {
      "cell_type": "code",
      "execution_count": 54,
      "metadata": {
        "id": "RvJGreyZCy4x"
      },
      "outputs": [],
      "source": [
        "memory_limited = ConversationTokenBufferMemory(llm=chat_openai, max_token_limit=10)"
      ]
    },
    {
      "cell_type": "code",
      "execution_count": 55,
      "metadata": {
        "id": "98zc3YnJCy7V"
      },
      "outputs": [],
      "source": [
        "memory_limited.save_context({\"input\": \"Estudei Engenharia Elétrica na FEI em São Bernardo do Campo.\"},\n",
        "                    {\"output\": \"Muito bom! É uma faculdade reconhecida nesta área.\"})\n",
        "\n",
        "memory_limited.save_context({\"input\": \"Eu nasci na cidade de São Paulo.\"},\n",
        "                    {\"output\": \"Legal!\"})"
      ]
    },
    {
      "cell_type": "code",
      "execution_count": 56,
      "metadata": {
        "colab": {
          "base_uri": "https://localhost:8080/"
        },
        "id": "7vRuyI1gCy9_",
        "outputId": "c8688b93-8fe8-4d26-ef83-258d4dc60977"
      },
      "outputs": [
        {
          "data": {
            "text/plain": [
              "{'history': 'AI: Legal!'}"
            ]
          },
          "execution_count": 56,
          "metadata": {},
          "output_type": "execute_result"
        }
      ],
      "source": [
        "memory_limited.load_memory_variables({})"
      ]
    },
    {
      "cell_type": "markdown",
      "metadata": {
        "id": "hs3bKUt2UlQa"
      },
      "source": [
        "Utilizando sumarização para carregar a memória. Esta funcionalidade utilizada o próprio LLM para gerar o resumo e o carrega como efeito de memória."
      ]
    },
    {
      "cell_type": "code",
      "execution_count": 57,
      "metadata": {
        "id": "xZ8UOYvODV0F"
      },
      "outputs": [],
      "source": [
        "from langchain.memory import ConversationSummaryBufferMemory"
      ]
    },
    {
      "cell_type": "code",
      "execution_count": 58,
      "metadata": {
        "id": "NOEujFNLDV2h"
      },
      "outputs": [],
      "source": [
        "memory_limited = ConversationSummaryBufferMemory(llm=chat_openai, max_token_limit=100)"
      ]
    },
    {
      "cell_type": "code",
      "execution_count": 59,
      "metadata": {
        "id": "rZKWJ6vZDV5U"
      },
      "outputs": [],
      "source": [
        "memory_limited.save_context(\n",
        "    {\"input\": \"Estudei Engenharia Elétrica na FEI em São Bernardo do Campo, referência na área e que formou muitos profissionais.\"},\n",
        "    {\"output\": \"Muito bom! É uma faculdade reconhecida nesta área.\"})\n",
        "\n",
        "memory_limited.save_context(\n",
        "    {\"input\": \"Eu nasci na cidade de São Paulo, capital do Estado. Esta cidade é uma das maiores do Brasil.\\\n",
        "    Nesta cidadade as pessoas costumam ir ao trabalho utilizando transporte público.\\\n",
        "    O transporte público mais preferido é o metrô, seguido do trem e do ônibus.\\\n",
        "    Muitas pessoas optam por ir de carro, mas as restrições como o rodízio de veículos tornam a necessidade \\\n",
        "    de ter mais de um carro ou ir de transporte público em algum dia da semana.\"},\n",
        "    {\"output\": \"Legal!\"})"
      ]
    },
    {
      "cell_type": "code",
      "execution_count": 60,
      "metadata": {
        "colab": {
          "base_uri": "https://localhost:8080/"
        },
        "id": "-iYl0lFzEnqR",
        "outputId": "daa6d737-31f7-4a3b-bf83-ed281ad305f9"
      },
      "outputs": [
        {
          "data": {
            "text/plain": [
              "{'history': 'System: O humano compartilha que estudou Engenharia Elétrica na FEI em São Bernardo do Campo, uma faculdade de referência na área. O AI elogia a faculdade. O humano então fala sobre ter nascido em São Paulo, uma das maiores cidades do Brasil, onde as pessoas costumam usar transporte público para ir ao trabalho, sendo o metrô a opção mais popular, seguido pelo trem e ônibus. Muitas pessoas também optam por ir de carro, mas as restrições como o rodízio de veículos tornam necessário ter mais de um carro ou usar transporte público em algum dia da semana.\\nAI: Legal!'}"
            ]
          },
          "execution_count": 60,
          "metadata": {},
          "output_type": "execute_result"
        }
      ],
      "source": [
        "memory_limited.load_memory_variables({})"
      ]
    },
    {
      "cell_type": "code",
      "execution_count": 61,
      "metadata": {
        "id": "dGiEacjAErZy"
      },
      "outputs": [],
      "source": [
        "conversation = ConversationChain(\n",
        "    llm=chat_openai,\n",
        "    memory = memory_limited,\n",
        "    verbose=True\n",
        ")"
      ]
    },
    {
      "cell_type": "code",
      "execution_count": 62,
      "metadata": {
        "colab": {
          "base_uri": "https://localhost:8080/",
          "height": 281
        },
        "id": "cT9qdmsTE8M9",
        "outputId": "7abf65ad-5a21-4af2-b2d8-13f154d835e7"
      },
      "outputs": [
        {
          "name": "stdout",
          "output_type": "stream",
          "text": [
            "\n",
            "\n",
            "\u001b[1m> Entering new ConversationChain chain...\u001b[0m\n",
            "Prompt after formatting:\n",
            "\u001b[32;1m\u001b[1;3mThe following is a friendly conversation between a human and an AI. The AI is talkative and provides lots of specific details from its context. If the AI does not know the answer to a question, it truthfully says it does not know.\n",
            "\n",
            "Current conversation:\n",
            "System: O humano compartilha que estudou Engenharia Elétrica na FEI em São Bernardo do Campo, uma faculdade de referência na área. O AI elogia a faculdade. O humano então fala sobre ter nascido em São Paulo, uma das maiores cidades do Brasil, onde as pessoas costumam usar transporte público para ir ao trabalho, sendo o metrô a opção mais popular, seguido pelo trem e ônibus. Muitas pessoas também optam por ir de carro, mas as restrições como o rodízio de veículos tornam necessário ter mais de um carro ou usar transporte público em algum dia da semana.\n",
            "AI: Legal!\n",
            "Human: Onde eu me formei?\n",
            "AI:\u001b[0m\n",
            "\n",
            "\u001b[1m> Finished chain.\u001b[0m\n"
          ]
        },
        {
          "data": {
            "application/vnd.google.colaboratory.intrinsic+json": {
              "type": "string"
            },
            "text/plain": [
              "'Você se formou na FEI em Engenharia Elétrica. Parabéns pela conquista!'"
            ]
          },
          "execution_count": 62,
          "metadata": {},
          "output_type": "execute_result"
        }
      ],
      "source": [
        "conversation.predict(input=\"Onde eu me formei?\")"
      ]
    },
    {
      "cell_type": "code",
      "execution_count": 63,
      "metadata": {
        "colab": {
          "base_uri": "https://localhost:8080/"
        },
        "id": "9nmb04RncVSg",
        "outputId": "5604a28d-e1c3-43eb-f6b6-d56b49b5d0e2"
      },
      "outputs": [
        {
          "data": {
            "text/plain": [
              "[AIMessage(content='Legal!'),\n",
              " HumanMessage(content='Onde eu me formei?'),\n",
              " AIMessage(content='Você se formou na FEI em Engenharia Elétrica. Parabéns pela conquista!')]"
            ]
          },
          "execution_count": 63,
          "metadata": {},
          "output_type": "execute_result"
        }
      ],
      "source": [
        "memory_limited.chat_memory.messages"
      ]
    },
    {
      "cell_type": "markdown",
      "metadata": {
        "id": "sZSjdlyRNaXB"
      },
      "source": [
        "##Dados externos com word embeddings\n",
        "\n",
        "O framework permite criar embeddings a partir de arquivos externos para tornar mais leve a quantidade de dados que é enviado aos LLMs.\n",
        "\n",
        "Com este técnica, suponha que tenhamos um livro com 1000 páginas, mas somente 1 página é necessária para as análises, os embeddings ajudarão a separar a parte de interesse off-line e enviará somente a página para o modelo de LLM."
      ]
    },
    {
      "cell_type": "markdown",
      "metadata": {
        "id": "chr5o7GaXE24"
      },
      "source": [
        "Vamos utilizar o mesmo dataset de avaliações de clientes."
      ]
    },
    {
      "cell_type": "code",
      "execution_count": 64,
      "metadata": {
        "colab": {
          "base_uri": "https://localhost:8080/"
        },
        "id": "4F6Zl4hjNkUk",
        "outputId": "7be05511-2709-4b2a-ac03-12ac944bfe4f"
      },
      "outputs": [
        {
          "name": "stdout",
          "output_type": "stream",
          "text": [
            "fatal: destination path 'dataset-customer-evaluations' already exists and is not an empty directory.\n"
          ]
        }
      ],
      "source": [
        "!git clone https://github.com/michelpf/dataset-customer-evaluations"
      ]
    },
    {
      "cell_type": "markdown",
      "metadata": {
        "id": "4whELFncXHz_"
      },
      "source": [
        "Neste caso, vamos utilizar os dados do Mercado Livre."
      ]
    },
    {
      "cell_type": "code",
      "execution_count": 65,
      "metadata": {
        "colab": {
          "base_uri": "https://localhost:8080/",
          "height": 293
        },
        "id": "5Kz2LuRkNpOH",
        "outputId": "53ee6fdc-6ccb-489a-c5e9-ec65dc909bb9"
      },
      "outputs": [
        {
          "data": {
            "application/vnd.google.colaboratory.intrinsic+json": {
              "summary": "{\n  \"name\": \"df\",\n  \"rows\": 59934,\n  \"fields\": [\n    {\n      \"column\": \"Pesquisa\",\n      \"properties\": {\n        \"dtype\": \"category\",\n        \"num_unique_values\": 43,\n        \"samples\": [\n          \"sapatos sociais masculinos\",\n          \"air fryer\",\n          \"aspirador\"\n        ],\n        \"semantic_type\": \"\",\n        \"description\": \"\"\n      }\n    },\n    {\n      \"column\": \"Titulo\",\n      \"properties\": {\n        \"dtype\": \"category\",\n        \"num_unique_values\": 896,\n        \"samples\": [\n          \"Camiseta Masculina Camisas Slim Voker 100% Algod\\u00e3o Atacado\",\n          \"Cadeira Girat\\u00f3ria Secret\\u00e1ria Escrit\\u00f3rio Ergon\\u00f4mica Bestchair\",\n          \"Kit Bolsa Feminina 4 Pe\\u00e7as Sacola Saco Promo\\u00e7ao\"\n        ],\n        \"semantic_type\": \"\",\n        \"description\": \"\"\n      }\n    },\n    {\n      \"column\": \"Link\",\n      \"properties\": {\n        \"dtype\": \"category\",\n        \"num_unique_values\": 941,\n        \"samples\": [\n          \"https://produto.mercadolivre.com.br/MLB-2987182379-fritadeira-oven-fryer-3-em-1-ofrt780-12-litros-preta-oster-_JM#position=42&search_layout=stack&type=item&tracking_id=aa906bc9-0c18-41ca-941a-03deb95dfbf4\",\n          \"https://produto.mercadolivre.com.br/MLB-3204644105-kit-2-prs-tnis-jet-wave-masculino-caminhada-ginastica-34-43-_JM#position=42&search_layout=grid&type=item&tracking_id=61c2d369-775f-43bd-bab7-74daa6adcd37\",\n          \"https://produto.mercadolivre.com.br/MLB-3092402854-umidificador-de-ar-aromatizador-purificador-portatil-led-rgb-_JM#position=3&search_layout=stack&type=item&tracking_id=bdb321f4-2876-4263-b812-95dc9825f4f6\"\n        ],\n        \"semantic_type\": \"\",\n        \"description\": \"\"\n      }\n    },\n    {\n      \"column\": \"Comentario\",\n      \"properties\": {\n        \"dtype\": \"string\",\n        \"num_unique_values\": 52357,\n        \"samples\": [\n          \"Legal n\\u00e9.\",\n          \"\\u00d3timo produto, silencioso e macio!.\",\n          \"Faz muito barulho ao digitar. N\\u00e3o \\u00e9 macio.\"\n        ],\n        \"semantic_type\": \"\",\n        \"description\": \"\"\n      }\n    }\n  ]\n}",
              "type": "dataframe",
              "variable_name": "df"
            },
            "text/html": [
              "\n",
              "  <div id=\"df-c5da957c-df8e-4abb-8bfe-5039236fccae\" class=\"colab-df-container\">\n",
              "    <div>\n",
              "<style scoped>\n",
              "    .dataframe tbody tr th:only-of-type {\n",
              "        vertical-align: middle;\n",
              "    }\n",
              "\n",
              "    .dataframe tbody tr th {\n",
              "        vertical-align: top;\n",
              "    }\n",
              "\n",
              "    .dataframe thead th {\n",
              "        text-align: right;\n",
              "    }\n",
              "</style>\n",
              "<table border=\"1\" class=\"dataframe\">\n",
              "  <thead>\n",
              "    <tr style=\"text-align: right;\">\n",
              "      <th></th>\n",
              "      <th>Pesquisa</th>\n",
              "      <th>Titulo</th>\n",
              "      <th>Link</th>\n",
              "      <th>Comentario</th>\n",
              "    </tr>\n",
              "  </thead>\n",
              "  <tbody>\n",
              "    <tr>\n",
              "      <th>0</th>\n",
              "      <td>smartphone</td>\n",
              "      <td>Smartphone Samsung Galaxy A14 Dual 6.6 128gb P...</td>\n",
              "      <td>https://produto.mercadolivre.com.br/MLB-331518...</td>\n",
              "      <td>A foto fica amarelada quando eu vou fotografar...</td>\n",
              "    </tr>\n",
              "    <tr>\n",
              "      <th>1</th>\n",
              "      <td>smartphone</td>\n",
              "      <td>Smartphone Samsung Galaxy A14 Dual 6.6 128gb P...</td>\n",
              "      <td>https://produto.mercadolivre.com.br/MLB-331518...</td>\n",
              "      <td>👏🏼👏🏼👏🏼👏🏼👏🏼👏🏼.</td>\n",
              "    </tr>\n",
              "    <tr>\n",
              "      <th>2</th>\n",
              "      <td>smartphone</td>\n",
              "      <td>Smartphone Samsung Galaxy A14 Dual 6.6 128gb P...</td>\n",
              "      <td>https://produto.mercadolivre.com.br/MLB-331518...</td>\n",
              "      <td>Muito bom.</td>\n",
              "    </tr>\n",
              "    <tr>\n",
              "      <th>3</th>\n",
              "      <td>smartphone</td>\n",
              "      <td>Smartphone Samsung Galaxy A14 Dual 6.6 128gb P...</td>\n",
              "      <td>https://produto.mercadolivre.com.br/MLB-331518...</td>\n",
              "      <td>Produto muito bom dei de presente pra meu filh...</td>\n",
              "    </tr>\n",
              "    <tr>\n",
              "      <th>4</th>\n",
              "      <td>smartphone</td>\n",
              "      <td>Smartphone Samsung Galaxy A14 Dual 6.6 128gb P...</td>\n",
              "      <td>https://produto.mercadolivre.com.br/MLB-331518...</td>\n",
              "      <td>Recomendo.</td>\n",
              "    </tr>\n",
              "  </tbody>\n",
              "</table>\n",
              "</div>\n",
              "    <div class=\"colab-df-buttons\">\n",
              "\n",
              "  <div class=\"colab-df-container\">\n",
              "    <button class=\"colab-df-convert\" onclick=\"convertToInteractive('df-c5da957c-df8e-4abb-8bfe-5039236fccae')\"\n",
              "            title=\"Convert this dataframe to an interactive table.\"\n",
              "            style=\"display:none;\">\n",
              "\n",
              "  <svg xmlns=\"http://www.w3.org/2000/svg\" height=\"24px\" viewBox=\"0 -960 960 960\">\n",
              "    <path d=\"M120-120v-720h720v720H120Zm60-500h600v-160H180v160Zm220 220h160v-160H400v160Zm0 220h160v-160H400v160ZM180-400h160v-160H180v160Zm440 0h160v-160H620v160ZM180-180h160v-160H180v160Zm440 0h160v-160H620v160Z\"/>\n",
              "  </svg>\n",
              "    </button>\n",
              "\n",
              "  <style>\n",
              "    .colab-df-container {\n",
              "      display:flex;\n",
              "      gap: 12px;\n",
              "    }\n",
              "\n",
              "    .colab-df-convert {\n",
              "      background-color: #E8F0FE;\n",
              "      border: none;\n",
              "      border-radius: 50%;\n",
              "      cursor: pointer;\n",
              "      display: none;\n",
              "      fill: #1967D2;\n",
              "      height: 32px;\n",
              "      padding: 0 0 0 0;\n",
              "      width: 32px;\n",
              "    }\n",
              "\n",
              "    .colab-df-convert:hover {\n",
              "      background-color: #E2EBFA;\n",
              "      box-shadow: 0px 1px 2px rgba(60, 64, 67, 0.3), 0px 1px 3px 1px rgba(60, 64, 67, 0.15);\n",
              "      fill: #174EA6;\n",
              "    }\n",
              "\n",
              "    .colab-df-buttons div {\n",
              "      margin-bottom: 4px;\n",
              "    }\n",
              "\n",
              "    [theme=dark] .colab-df-convert {\n",
              "      background-color: #3B4455;\n",
              "      fill: #D2E3FC;\n",
              "    }\n",
              "\n",
              "    [theme=dark] .colab-df-convert:hover {\n",
              "      background-color: #434B5C;\n",
              "      box-shadow: 0px 1px 3px 1px rgba(0, 0, 0, 0.15);\n",
              "      filter: drop-shadow(0px 1px 2px rgba(0, 0, 0, 0.3));\n",
              "      fill: #FFFFFF;\n",
              "    }\n",
              "  </style>\n",
              "\n",
              "    <script>\n",
              "      const buttonEl =\n",
              "        document.querySelector('#df-c5da957c-df8e-4abb-8bfe-5039236fccae button.colab-df-convert');\n",
              "      buttonEl.style.display =\n",
              "        google.colab.kernel.accessAllowed ? 'block' : 'none';\n",
              "\n",
              "      async function convertToInteractive(key) {\n",
              "        const element = document.querySelector('#df-c5da957c-df8e-4abb-8bfe-5039236fccae');\n",
              "        const dataTable =\n",
              "          await google.colab.kernel.invokeFunction('convertToInteractive',\n",
              "                                                    [key], {});\n",
              "        if (!dataTable) return;\n",
              "\n",
              "        const docLinkHtml = 'Like what you see? Visit the ' +\n",
              "          '<a target=\"_blank\" href=https://colab.research.google.com/notebooks/data_table.ipynb>data table notebook</a>'\n",
              "          + ' to learn more about interactive tables.';\n",
              "        element.innerHTML = '';\n",
              "        dataTable['output_type'] = 'display_data';\n",
              "        await google.colab.output.renderOutput(dataTable, element);\n",
              "        const docLink = document.createElement('div');\n",
              "        docLink.innerHTML = docLinkHtml;\n",
              "        element.appendChild(docLink);\n",
              "      }\n",
              "    </script>\n",
              "  </div>\n",
              "\n",
              "\n",
              "<div id=\"df-c9803c71-eede-4088-9d13-4a407755e424\">\n",
              "  <button class=\"colab-df-quickchart\" onclick=\"quickchart('df-c9803c71-eede-4088-9d13-4a407755e424')\"\n",
              "            title=\"Suggest charts\"\n",
              "            style=\"display:none;\">\n",
              "\n",
              "<svg xmlns=\"http://www.w3.org/2000/svg\" height=\"24px\"viewBox=\"0 0 24 24\"\n",
              "     width=\"24px\">\n",
              "    <g>\n",
              "        <path d=\"M19 3H5c-1.1 0-2 .9-2 2v14c0 1.1.9 2 2 2h14c1.1 0 2-.9 2-2V5c0-1.1-.9-2-2-2zM9 17H7v-7h2v7zm4 0h-2V7h2v10zm4 0h-2v-4h2v4z\"/>\n",
              "    </g>\n",
              "</svg>\n",
              "  </button>\n",
              "\n",
              "<style>\n",
              "  .colab-df-quickchart {\n",
              "      --bg-color: #E8F0FE;\n",
              "      --fill-color: #1967D2;\n",
              "      --hover-bg-color: #E2EBFA;\n",
              "      --hover-fill-color: #174EA6;\n",
              "      --disabled-fill-color: #AAA;\n",
              "      --disabled-bg-color: #DDD;\n",
              "  }\n",
              "\n",
              "  [theme=dark] .colab-df-quickchart {\n",
              "      --bg-color: #3B4455;\n",
              "      --fill-color: #D2E3FC;\n",
              "      --hover-bg-color: #434B5C;\n",
              "      --hover-fill-color: #FFFFFF;\n",
              "      --disabled-bg-color: #3B4455;\n",
              "      --disabled-fill-color: #666;\n",
              "  }\n",
              "\n",
              "  .colab-df-quickchart {\n",
              "    background-color: var(--bg-color);\n",
              "    border: none;\n",
              "    border-radius: 50%;\n",
              "    cursor: pointer;\n",
              "    display: none;\n",
              "    fill: var(--fill-color);\n",
              "    height: 32px;\n",
              "    padding: 0;\n",
              "    width: 32px;\n",
              "  }\n",
              "\n",
              "  .colab-df-quickchart:hover {\n",
              "    background-color: var(--hover-bg-color);\n",
              "    box-shadow: 0 1px 2px rgba(60, 64, 67, 0.3), 0 1px 3px 1px rgba(60, 64, 67, 0.15);\n",
              "    fill: var(--button-hover-fill-color);\n",
              "  }\n",
              "\n",
              "  .colab-df-quickchart-complete:disabled,\n",
              "  .colab-df-quickchart-complete:disabled:hover {\n",
              "    background-color: var(--disabled-bg-color);\n",
              "    fill: var(--disabled-fill-color);\n",
              "    box-shadow: none;\n",
              "  }\n",
              "\n",
              "  .colab-df-spinner {\n",
              "    border: 2px solid var(--fill-color);\n",
              "    border-color: transparent;\n",
              "    border-bottom-color: var(--fill-color);\n",
              "    animation:\n",
              "      spin 1s steps(1) infinite;\n",
              "  }\n",
              "\n",
              "  @keyframes spin {\n",
              "    0% {\n",
              "      border-color: transparent;\n",
              "      border-bottom-color: var(--fill-color);\n",
              "      border-left-color: var(--fill-color);\n",
              "    }\n",
              "    20% {\n",
              "      border-color: transparent;\n",
              "      border-left-color: var(--fill-color);\n",
              "      border-top-color: var(--fill-color);\n",
              "    }\n",
              "    30% {\n",
              "      border-color: transparent;\n",
              "      border-left-color: var(--fill-color);\n",
              "      border-top-color: var(--fill-color);\n",
              "      border-right-color: var(--fill-color);\n",
              "    }\n",
              "    40% {\n",
              "      border-color: transparent;\n",
              "      border-right-color: var(--fill-color);\n",
              "      border-top-color: var(--fill-color);\n",
              "    }\n",
              "    60% {\n",
              "      border-color: transparent;\n",
              "      border-right-color: var(--fill-color);\n",
              "    }\n",
              "    80% {\n",
              "      border-color: transparent;\n",
              "      border-right-color: var(--fill-color);\n",
              "      border-bottom-color: var(--fill-color);\n",
              "    }\n",
              "    90% {\n",
              "      border-color: transparent;\n",
              "      border-bottom-color: var(--fill-color);\n",
              "    }\n",
              "  }\n",
              "</style>\n",
              "\n",
              "  <script>\n",
              "    async function quickchart(key) {\n",
              "      const quickchartButtonEl =\n",
              "        document.querySelector('#' + key + ' button');\n",
              "      quickchartButtonEl.disabled = true;  // To prevent multiple clicks.\n",
              "      quickchartButtonEl.classList.add('colab-df-spinner');\n",
              "      try {\n",
              "        const charts = await google.colab.kernel.invokeFunction(\n",
              "            'suggestCharts', [key], {});\n",
              "      } catch (error) {\n",
              "        console.error('Error during call to suggestCharts:', error);\n",
              "      }\n",
              "      quickchartButtonEl.classList.remove('colab-df-spinner');\n",
              "      quickchartButtonEl.classList.add('colab-df-quickchart-complete');\n",
              "    }\n",
              "    (() => {\n",
              "      let quickchartButtonEl =\n",
              "        document.querySelector('#df-c9803c71-eede-4088-9d13-4a407755e424 button');\n",
              "      quickchartButtonEl.style.display =\n",
              "        google.colab.kernel.accessAllowed ? 'block' : 'none';\n",
              "    })();\n",
              "  </script>\n",
              "</div>\n",
              "\n",
              "    </div>\n",
              "  </div>\n"
            ],
            "text/plain": [
              "     Pesquisa                                             Titulo  \\\n",
              "0  smartphone  Smartphone Samsung Galaxy A14 Dual 6.6 128gb P...   \n",
              "1  smartphone  Smartphone Samsung Galaxy A14 Dual 6.6 128gb P...   \n",
              "2  smartphone  Smartphone Samsung Galaxy A14 Dual 6.6 128gb P...   \n",
              "3  smartphone  Smartphone Samsung Galaxy A14 Dual 6.6 128gb P...   \n",
              "4  smartphone  Smartphone Samsung Galaxy A14 Dual 6.6 128gb P...   \n",
              "\n",
              "                                                Link  \\\n",
              "0  https://produto.mercadolivre.com.br/MLB-331518...   \n",
              "1  https://produto.mercadolivre.com.br/MLB-331518...   \n",
              "2  https://produto.mercadolivre.com.br/MLB-331518...   \n",
              "3  https://produto.mercadolivre.com.br/MLB-331518...   \n",
              "4  https://produto.mercadolivre.com.br/MLB-331518...   \n",
              "\n",
              "                                          Comentario  \n",
              "0  A foto fica amarelada quando eu vou fotografar...  \n",
              "1                                      👏🏼👏🏼👏🏼👏🏼👏🏼👏🏼.  \n",
              "2                                         Muito bom.  \n",
              "3  Produto muito bom dei de presente pra meu filh...  \n",
              "4                                         Recomendo.  "
            ]
          },
          "execution_count": 65,
          "metadata": {},
          "output_type": "execute_result"
        }
      ],
      "source": [
        "df = pd.read_csv(\"dataset-customer-evaluations/dataset/ml_scrape_final.csv\")\n",
        "df.head()"
      ]
    },
    {
      "cell_type": "markdown",
      "metadata": {
        "id": "YNUJqkL0XMmu"
      },
      "source": [
        "Para o arquivo não ficar muito grande, vamos limitar o produto para smartphone."
      ]
    },
    {
      "cell_type": "code",
      "execution_count": 66,
      "metadata": {
        "id": "MxE9yF6AN__C"
      },
      "outputs": [],
      "source": [
        "df.query(\"Pesquisa == 'smartphone'\").to_csv(\"smartphone_review.csv\")"
      ]
    },
    {
      "cell_type": "code",
      "execution_count": 75,
      "metadata": {
        "id": "viCPP_R4NTEc"
      },
      "outputs": [],
      "source": [
        "from langchain_openai import ChatOpenAI\n",
        "from langchain.document_loaders import CSVLoader\n",
        "from langchain.vectorstores import DocArrayInMemorySearch\n",
        "from langchain.indexes import VectorstoreIndexCreator\n",
        "from langchain_openai import OpenAIEmbeddings"
      ]
    },
    {
      "cell_type": "markdown",
      "metadata": {
        "id": "erxkgMZ4XK7i"
      },
      "source": [
        "Carregamos o arquivo no CSVLoader. Cada tipo de arquivo tem um loader diferente."
      ]
    },
    {
      "cell_type": "code",
      "execution_count": 70,
      "metadata": {
        "id": "zkKzSX2HNU0r"
      },
      "outputs": [],
      "source": [
        "loader = CSVLoader(file_path=\"smartphone_review.csv\")"
      ]
    },
    {
      "cell_type": "markdown",
      "metadata": {
        "id": "x03gbEN5XUkx"
      },
      "source": [
        "É criado um armazenamento vetorial, que são os embeddings com índices associados para as buscas."
      ]
    },
    {
      "cell_type": "code",
      "execution_count": 71,
      "metadata": {
        "colab": {
          "base_uri": "https://localhost:8080/"
        },
        "id": "n2hTN6kDNU5-",
        "outputId": "18fb2f1a-05dd-4560-cfd1-a1d5273c0ef2"
      },
      "outputs": [
        {
          "name": "stderr",
          "output_type": "stream",
          "text": [
            "/usr/local/lib/python3.10/dist-packages/langchain/indexes/vectorstore.py:129: UserWarning: Using InMemoryVectorStore as the default vectorstore.This memory store won't persist data. You should explicitlyspecify a vectorstore when using VectorstoreIndexCreator\n",
            "  warnings.warn(\n"
          ]
        }
      ],
      "source": [
        "embedding_model = OpenAIEmbeddings(chunk_size=10)\n",
        "index = VectorstoreIndexCreator(embedding=embedding_model).from_loaders([loader])"
      ]
    },
    {
      "cell_type": "code",
      "execution_count": 72,
      "metadata": {
        "id": "5bH8Lk_rOayq"
      },
      "outputs": [],
      "source": [
        "query = \"List as 3 piores revisões de clientes, listando com o modelo e o link do produto.\""
      ]
    },
    {
      "cell_type": "code",
      "execution_count": 76,
      "metadata": {
        "id": "0fzuGxssWWmK"
      },
      "outputs": [],
      "source": [
        "chat_openai = ChatOpenAI(temperature=0.0, model=model)"
      ]
    },
    {
      "cell_type": "code",
      "execution_count": 77,
      "metadata": {
        "colab": {
          "base_uri": "https://localhost:8080/"
        },
        "id": "E8YbpJK7Oa1S",
        "outputId": "eeddd91d-6a88-405e-ee27-64b82f42e22a"
      },
      "outputs": [
        {
          "name": "stdout",
          "output_type": "stream",
          "text": [
            "\n",
            "\n",
            "\u001b[1m> Entering new RetrievalQA chain...\u001b[0m\n",
            "\n",
            "\u001b[1m> Finished chain.\u001b[0m\n"
          ]
        }
      ],
      "source": [
        "response = index.query(query, verbose=True, llm=chat_openai)"
      ]
    },
    {
      "cell_type": "code",
      "execution_count": 78,
      "metadata": {
        "colab": {
          "base_uri": "https://localhost:8080/",
          "height": 249
        },
        "id": "shqpf6YeOa8k",
        "outputId": "b3fdfbb5-7b33-436c-9839-67a7cfa01794"
      },
      "outputs": [
        {
          "data": {
            "text/markdown": [
              "1. **Smartphone Moto E13 32gb Tela 6.5'' 2gb Ram Grafite Motorola**\n",
              "   - **Comentário:** O áudio do celular estar ruim e os vídeos sair ruim tbm.\n",
              "   - **Link:** [Smartphone Moto E13](https://produto.mercadolivre.com.br/MLB-3140442935-smartphone-moto-e13-32gb-tela-65-2gb-ram-grafite-motorola-_JM#position=54&search_layout=stack&type=item&tracking_id=4703b69b-1b0f-4cc2-b281-a641f81b3281)\n",
              "\n",
              "2. **Smartphone Motorola Moto G22 Dual 6,5 128gb 4gb Ram Azul**\n",
              "   - **Comentário:** O smartphone é muito lento, realmente se alguém tivesse me dito isso antes não teria comprado.\n",
              "   - **Link:** [Smartphone Motorola Moto G22](https://produto.mercadolivre.com.br/MLB-2660980219-smartphone-motorola-moto-g22-dual-65-128gb-4gb-ram-azul-_JM#position=48&search_layout=stack&type=item&tracking_id=4703b69b-1b0f-4cc2-b281-a641f81b3281)\n",
              "\n",
              "3. **Smartphone Samsung Galaxy A14 Dual 6.6 128gb Preto 4gb Ram**\n",
              "   - **Comentário:** Produto muito bom dei de presente pra meu filho ele tá amando só esperava vir ao menos com o fone de ouvido mais não veio mais do resto perfeito.\n",
              "   - **Link:** [Smartphone Samsung Galaxy A14](https://produto.mercadolivre.com.br/MLB-3315181641-smartphone-samsung-galaxy-a14-dual-66-128gb-preto-4gb-ram-_JM#position=46&search_layout=stack&type=item&tracking_id=4703b69b-1b0f-4cc2-b281-a641f81b3281)"
            ],
            "text/plain": [
              "<IPython.core.display.Markdown object>"
            ]
          },
          "execution_count": 78,
          "metadata": {},
          "output_type": "execute_result"
        }
      ],
      "source": [
        "display_markdown(response)"
      ]
    },
    {
      "cell_type": "markdown",
      "metadata": {
        "id": "9VY9TyTEXjWS"
      },
      "source": [
        "Também podemos citar as fontes dos documentos utilizados."
      ]
    },
    {
      "cell_type": "code",
      "execution_count": 79,
      "metadata": {
        "colab": {
          "base_uri": "https://localhost:8080/"
        },
        "id": "pBRLLGqOPUtK",
        "outputId": "7a1e3629-e989-4062-bbc3-aa93f989951c"
      },
      "outputs": [
        {
          "name": "stdout",
          "output_type": "stream",
          "text": [
            "\n",
            "\n",
            "\u001b[1m> Entering new RetrievalQAWithSourcesChain chain...\u001b[0m\n",
            "\n",
            "\u001b[1m> Finished chain.\u001b[0m\n"
          ]
        }
      ],
      "source": [
        "response = index.query_with_sources(query, verbose=True, llm=chat_openai)"
      ]
    },
    {
      "cell_type": "code",
      "execution_count": 80,
      "metadata": {
        "colab": {
          "base_uri": "https://localhost:8080/"
        },
        "id": "oBgqTT4gPYs9",
        "outputId": "569bf7ba-389e-4f22-ec42-e6dbfd786efb"
      },
      "outputs": [
        {
          "data": {
            "text/plain": [
              "{'question': 'List as 3 piores revisões de clientes, listando com o modelo e o link do produto.',\n",
              " 'answer': \"As 3 piores revisões de clientes são:\\n1. Modelo: Smartphone Moto E13 32gb Tela 6.5'' 2gb Ram Grafite Motorola\\n   Link: https://produto.mercadolivre.com.br/MLB-3140442935-smartphone-moto-e13-32gb-tela-65-2gb-ram-grafite-motorola-_JM#position=54&search_layout=stack&type=item&tracking_id=4703b69b-1b0f-4cc2-b281-a641f81b3281\\n   Comentário: O áudio do celular estar ruim e os vídeos sair ruim tbm.\\n\\n2. Modelo: Smartphone Motorola Moto G22 Dual 6,5 128gb 4gb Ram Azul\\n   Link: https://produto.mercadolivre.com.br/MLB-2660980219-smartphone-motorola-moto-g22-dual-65-128gb-4gb-ram-azul-_JM#position=48&search_layout=stack&type=item&tracking_id=4703b69b-1b0f-4cc2-b281-a641f81b3281\\n   Comentário: O smartphone é muito lento, realmente se alguém tivesse me dito isso antes não teria comprado.\\n\\n3. Modelo: Smartphone Samsung Galaxy A14 Dual 6.6 128gb Preto 4gb Ram\\n   Link: https://produto.mercadolivre.com.br/MLB-3315181641-smartphone-samsung-galaxy-a14-dual-66-128gb-preto-4gb-ram-_JM#position=46&search_layout=stack&type=item&tracking_id=4703b69b-1b0f-4cc2-b281-a641f81b3281\\n   Comentário: Produto muito bom dei de presente pra meu filho ele tá amando só esperava vir ao menos com o fone de ouvido mais não veio mais do resto perfeito.\\n\",\n",
              " 'sources': 'smartphone_review.csv'}"
            ]
          },
          "execution_count": 80,
          "metadata": {},
          "output_type": "execute_result"
        }
      ],
      "source": [
        "response"
      ]
    },
    {
      "cell_type": "code",
      "execution_count": 82,
      "metadata": {
        "id": "QKHAEHaHpdtm"
      },
      "outputs": [],
      "source": [
        "chat_openai = ChatOpenAI(temperature=0.0, model=model)"
      ]
    },
    {
      "cell_type": "markdown",
      "metadata": {
        "id": "kRr0XTflXpfF"
      },
      "source": [
        "Adicionamente podemos utilizar um loader de PDF e utilizar outros tipos de indexação offline."
      ]
    },
    {
      "cell_type": "code",
      "execution_count": 83,
      "metadata": {
        "colab": {
          "base_uri": "https://localhost:8080/"
        },
        "id": "C5CtuHC9QzKU",
        "outputId": "727293b2-5299-4908-851a-99cdc3b370df"
      },
      "outputs": [
        {
          "name": "stdout",
          "output_type": "stream",
          "text": [
            "Collecting pypdf\n",
            "  Downloading pypdf-4.2.0-py3-none-any.whl (290 kB)\n",
            "\u001b[2K     \u001b[90m━━━━━━━━━━━━━━━━━━━━━━━━━━━━━━━━━━━━━━━━\u001b[0m \u001b[32m290.4/290.4 kB\u001b[0m \u001b[31m5.4 MB/s\u001b[0m eta \u001b[36m0:00:00\u001b[0m\n",
            "\u001b[?25hCollecting faiss-cpu\n",
            "  Downloading faiss_cpu-1.8.0-cp310-cp310-manylinux_2_17_x86_64.manylinux2014_x86_64.whl (27.0 MB)\n",
            "\u001b[2K     \u001b[90m━━━━━━━━━━━━━━━━━━━━━━━━━━━━━━━━━━━━━━━━\u001b[0m \u001b[32m27.0/27.0 MB\u001b[0m \u001b[31m29.0 MB/s\u001b[0m eta \u001b[36m0:00:00\u001b[0m\n",
            "\u001b[?25hRequirement already satisfied: typing_extensions>=4.0 in /usr/local/lib/python3.10/dist-packages (from pypdf) (4.12.2)\n",
            "Requirement already satisfied: numpy in /usr/local/lib/python3.10/dist-packages (from faiss-cpu) (1.25.2)\n",
            "Installing collected packages: pypdf, faiss-cpu\n",
            "Successfully installed faiss-cpu-1.8.0 pypdf-4.2.0\n"
          ]
        }
      ],
      "source": [
        "!pip install pypdf faiss-cpu"
      ]
    },
    {
      "cell_type": "code",
      "execution_count": 86,
      "metadata": {
        "id": "GCBplqqQQ13W"
      },
      "outputs": [],
      "source": [
        "from langchain.document_loaders import PyPDFLoader\n",
        "\n",
        "loader = PyPDFLoader(\"docs/SM-A146M_Emb_BR_Rev.1.2.pdf\")\n",
        "pages = loader.load_and_split()"
      ]
    },
    {
      "cell_type": "markdown",
      "metadata": {
        "id": "1JiK-NDQXvhg"
      },
      "source": [
        "A indexação offline [FAISS](https://python.langchain.com/docs/integrations/vectorstores/faiss) é do Facebook para buscar similiaridade nos textos."
      ]
    },
    {
      "cell_type": "code",
      "execution_count": 87,
      "metadata": {
        "id": "7hkVwt5GRREu"
      },
      "outputs": [],
      "source": [
        "from langchain.vectorstores import FAISS\n",
        "from langchain_openai import OpenAIEmbeddings\n",
        "\n",
        "faiss_index = FAISS.from_documents(pages, OpenAIEmbeddings(chunk_size=10))"
      ]
    },
    {
      "cell_type": "code",
      "execution_count": 88,
      "metadata": {
        "colab": {
          "base_uri": "https://localhost:8080/"
        },
        "id": "zZ_DTqH8zz01",
        "outputId": "22fddae6-2402-45d5-dd0c-ac920983ec56"
      },
      "outputs": [
        {
          "data": {
            "text/plain": [
              "[Document(page_content='Primeiros passos\\n13\\nLigar ou desligar seu aparelho\\nSiga todos os avisos e instruções recomendadas pelo pessoal autorizado em áreas \\nonde aparelhos sem fio são proibidos, tais como aviões e hospitais.\\nTecla Lateral\\nLigar o aparelho\\nMantenha pressionada a Tecla Lateral por alguns segundos para ligar o aparelho.\\nDesligar o aparelho\\n1 Para desligar o aparelho, mantenha as teclas Lateral e Diminuir volume pressionadas \\nsimultaneamente. Como alternativa, abra o painel de notificações e toque em \\n .\\n2 Toque em Desligar .\\nPara reiniciar o aparelho, toque em Reiniciar .\\nForçar reinício\\nSe o seu aparelho estiver travado e sem operação, mantenha as teclas Lateral e Diminuir volume pressionadas simultaneamente por aproximadamente 7 segundos  \\npara reiniciá-lo.\\nConfiguração inicial\\nAo ligar pela primeira vez ou após executar uma restauração de dados, siga as instruções na tela para configurá-lo.\\nSe você não se conectar a uma rede Wi-Fi, você não conseguirá definir algumas \\nfunções do aparelho durante a configuração inicial.', metadata={'source': 'docs/SM-A146M_Emb_BR_Rev.1.2.pdf', 'page': 12}),\n",
              " Document(page_content='Apêndice\\n110\\nAs chamadas recebidas não são conectadas\\n• Certifique-se de que acessou a rede de telefonia correta.\\n• Certifique-se de que não configurou a restrição de chamada para o número que \\nestá ligando.\\n• Certifique-se de que você não configurou a restrição de chamada para o número que está recebendo a chamada.\\nAs pessoas não conseguem ouvi-lo durante uma chamada\\n• Certifique-se de que você não está bloqueando o microfone.\\n• Certifique-se de que o microfone está próximo à sua boca.\\n• Se você estiver utilizando um fone de ouvido, certifique-se de que ele está \\ncorretamente conectado.\\nO som ecoa durante uma chamada\\nAjuste o volume ao pressionar a Tecla Volume ou vá para outra área.\\nA rede móvel ou a internet é desconectada muitas vezes ou a \\nqualidade do áudio é ruim\\n• Certifique-se de que você não está bloqueando a antena interna do aparelho.\\n• Quando você está em áreas com sinal fraco ou recepção fraca, você pode perder a \\nrecepção do sinal. Você poderá ter problemas de conectividade devido a problemas com a estação rádio base da operadora. Vá para outra área e tente novamente.\\n• Quando utilizar o aparelho em movimento, os serviços de rede sem fio poderão ser desativados devido a problemas com a rede da operadora.\\nA bateria não carrega corretamente (Em caso de utilizar \\ncarregadores Samsung)\\n• Certifique-se de que o carregador está conectado corretamente.\\n• Visite um Centro de Serviços Samsung para trocar a bateria.\\n• Para carregadores não Samsung, contate o fabricante do carregador.', metadata={'source': 'docs/SM-A146M_Emb_BR_Rev.1.2.pdf', 'page': 109}),\n",
              " Document(page_content='Apêndice\\n108\\nApêndice\\nSolução de problemas\\nAntes de contatar a Central de Atendimento Samsung, tente as seguintes soluções. \\nAlgumas situações podem não se aplicar ao seu aparelho.\\nVocê também pode usar o Samsung Members para resolver qualquer problema que \\nencontre enquanto usa o aparelho.\\nAo ligar seu aparelho ou enquanto o usa, a inserção de um dos \\nseguintes códigos pode ser solicitada:\\n• Senha: quando a função de bloqueio do aparelho está ativada, você precisa inserir \\na senha que configurou para desbloqueá-lo .\\n• PIN: ao usar o aparelho pela primeira vez ou quando a solicitação de PIN está ativada, você precisa inserir o PIN fornecido com seu chip. Você pode desativar essa função. Na tela de configurações, toque em Segurança e privacidade  \\n→ \\nOutras config. de segurança  → Conf. bloqueio cartão SIM .\\n• PUK: seu chip bloqueia normalmente como resultado de inserir seu PIN incorretamente várias vezes. Você deve inserir o PUK fornecido pela sua operadora de serviços.\\n• PIN2: ao acessar um menu que requer o PIN2, precisa ser inserido o PIN2 fornecido com o chip. Para maiores detalhes, contate sua operadora de serviços.\\nSeu aparelho exibe mensagens de erro de rede ou falha no serviço\\n• Quando você está em áreas com sinal fraco ou recepção fraca, você pode perder a recepção do sinal. Vá para outra área e tente novamente. Ao se mover, mensagens de erro podem aparecer repetidamente.\\n• Você pode não acessar algumas opções sem um plano de dados. Para maiores detalhes, contate sua operadora de serviços.\\nSeu aparelho não liga\\nQuando a bateria estiver completamente descarregada, seu aparelho não ligará. Carregue a bateria completamente antes de ligar o aparelho.', metadata={'source': 'docs/SM-A146M_Emb_BR_Rev.1.2.pdf', 'page': 107}),\n",
              " Document(page_content='Primeiros passos\\n8\\n •Para economizar energia, desconecte o carregador da tomada quando não \\nestiver em uso. O carregador não possui um botão de liga e desliga, então você deve retirar da tomada para evitar desperdício de energia. O carregador deve permanecer na tomada e facilmente acessível enquanto carregar.\\n •Ao usar um carregador, é recomendável usar um aprovado que garanta o desempenho do carregamento.\\n •Se a bateria estiver completamente descarregada, você não conseguirá ligar o aparelho, \\nmesmo que o carregador esteja conectado. Aguarde a bateria carregar \\npor alguns minutos antes de tentar ligar o aparelho.\\n •Se utilizar vários aplicativos ao mesmo tempo, tais como aplicativos de rede ou aplicativos que precisem da conexão de outro aparelho, a bateria descarregará rapidamente. Para evitar desconexão da rede ou esgotar a bateria durante uma transferência de dados, use sempre esses aplicativos após carregar completamente a bateria.\\n •Usar uma fonte de energia diferente do carregador USB, por exemplo, um computador, pode resultar em lentidão ao carregar a bateria devido à corrente elétrica ser mais baixa.\\n •O aparelho pode ser utilizado enquanto carrega, porém pode levar mais tempo para carregar a bateria completamente.\\n •Se o aparelho receber uma fonte de alimentação instável enquanto carrega, o touch screen pode não funcionar. Se isto acontecer, desconecte o carregador.\\n •O aparelho pode aquecer enquanto carrega. Isto é normal e não deve afetar a vida útil ou desempenho dele. Se a bateria aquecer mais do que o normal, o carregador pode parar de funcionar .\\n •Se o seu aparelho não carregar adequadamente, leve para um Centro de Serviços Samsung.', metadata={'source': 'docs/SM-A146M_Emb_BR_Rev.1.2.pdf', 'page': 7})]"
            ]
          },
          "execution_count": 88,
          "metadata": {},
          "output_type": "execute_result"
        }
      ],
      "source": [
        "query = \"O que fazer se o aparelho não liga?\"\n",
        "docs = faiss_index.similarity_search(query)\n",
        "docs"
      ]
    },
    {
      "cell_type": "code",
      "execution_count": 89,
      "metadata": {
        "colab": {
          "base_uri": "https://localhost:8080/"
        },
        "id": "IOgfacfn0B_8",
        "outputId": "fc6971dd-9de1-45ef-82e0-b3d18da0fb8a"
      },
      "outputs": [
        {
          "name": "stdout",
          "output_type": "stream",
          "text": [
            "12: Primeiros passos\n",
            "13\n",
            "Ligar ou desligar seu aparelho\n",
            "Siga todos os avisos e instruções recomendadas pelo pessoal autorizado em áreas \n",
            "onde aparelhos sem fio são proibidos, tais como aviões e hospitais.\n",
            "Tecla Lateral\n",
            "Ligar o aparelho\n",
            "Mantenha pressionada a Tecla Lateral por alguns segundos para ligar o aparelho.\n",
            "Desligar o aparelho\n",
            "1 Para desligar o aparelho, mantenha as teclas Lateral e Diminuir volume pressionadas \n",
            "simultaneamente. Como alternativa, abra o painel de notificações e toque em \n",
            " .\n",
            "2 Toque em Desligar .\n",
            "Para reiniciar o aparelho, toque em Reiniciar .\n",
            "Forçar reinício\n",
            "Se o seu aparelho estiver travado e sem operação, mantenha as teclas Lateral e Diminuir volume pressionadas simultaneamente por aproximadamente 7 segundos  \n",
            "para reiniciá-lo.\n",
            "Configuração inicial\n",
            "Ao ligar pela primeira vez ou após executar uma restauração de dados, siga as instruções na tela para configurá-lo.\n",
            "Se você não se conectar a uma rede Wi-Fi, você não conseguirá definir algumas \n",
            "funções do aparelho durante a configuração inicial.\n",
            "109: Apêndice\n",
            "110\n",
            "As chamadas recebidas não são conectadas\n",
            "• Certifique-se de que acessou a rede de telefonia correta.\n",
            "• Certifique-se de que não configurou a restrição de chamada para o número que \n",
            "está ligando.\n",
            "• Certifique-se de que você não configurou a restrição de chamada para o número que está recebendo a chamada.\n",
            "As pessoas não conseguem ouvi-lo durante uma chamada\n",
            "• Certifique-se de que você não está bloqueando o microfone.\n",
            "• Certifique-se de que o microfone está próximo à sua boca.\n",
            "• Se você estiver utilizando um fone de ouvido, certifique-se de que ele está \n",
            "corretamente conectado.\n",
            "O som ecoa durante uma chamada\n",
            "Ajuste o volume ao pressionar a Tecla Volume ou vá para outra área.\n",
            "A rede móvel ou a internet é desconectada muitas vezes ou a \n",
            "qualidade do áudio é ruim\n",
            "• Certifique-se de que você não está bloqueando a antena interna do aparelho.\n",
            "• Quando você está em áreas com sinal fraco ou recepção fraca, você pode perder a \n",
            "recepção do sinal. Você poderá ter problemas de conectividade devido a problemas com a estação rádio base da operadora. Vá para outra área e tente novamente.\n",
            "• Quando utilizar o aparelho em movimento, os serviços de rede sem fio poderão ser desativados devido a problemas com a rede da operadora.\n",
            "A bateria não carrega corretamente (Em caso de utilizar \n",
            "carregadores Samsung)\n",
            "• Certifique-se de que o carregador está conectado corretamente.\n",
            "• Visite um Centro de Serviços Samsung para trocar a bateria.\n",
            "• Para carregadores não Samsung, contate o fabricante do carregador.\n",
            "107: Apêndice\n",
            "108\n",
            "Apêndice\n",
            "Solução de problemas\n",
            "Antes de contatar a Central de Atendimento Samsung, tente as seguintes soluções. \n",
            "Algumas situações podem não se aplicar ao seu aparelho.\n",
            "Você também pode usar o Samsung Members para resolver qualquer problema que \n",
            "encontre enquanto usa o aparelho.\n",
            "Ao ligar seu aparelho ou enquanto o usa, a inserção de um dos \n",
            "seguintes códigos pode ser solicitada:\n",
            "• Senha: quando a função de bloqueio do aparelho está ativada, você precisa inserir \n",
            "a senha que configurou para desbloqueá-lo .\n",
            "• PIN: ao usar o aparelho pela primeira vez ou quando a solicitação de PIN está ativada, você precisa inserir o PIN fornecido com seu chip. Você pode desativar essa função. Na tela de configurações, toque em Segurança e privacidade  \n",
            "→ \n",
            "Outras config. de segurança  → Conf. bloqueio cartão SIM .\n",
            "• PUK: seu chip bloqueia normalmente como resultado de inserir seu PIN incorretamente várias vezes. Você deve inserir o PUK fornecido pela sua operadora de serviços.\n",
            "• PIN2: ao acessar um menu que requer o PIN2, precisa ser inserido o PIN2 fornecido com o chip. Para maiores detalhes, contate sua operadora de serviços.\n",
            "Seu aparelho exibe mensagens de erro de rede ou falha no serviço\n",
            "• Quando você está em áreas com sinal fraco ou recepção fraca, você pode perder a recepção do sinal. Vá para outra área e tente novamente. Ao se mover, mensagens de erro podem aparecer repetidamente.\n",
            "• Você pode não acessar algumas opções sem um plano de dados. Para maiores detalhes, contate sua operadora de serviços.\n",
            "Seu aparelho não liga\n",
            "Quando a bateria estiver completamente descarregada, seu aparelho não ligará. Carregue a bateria completamente antes de ligar o aparelho.\n",
            "7: Primeiros passos\n",
            "8\n",
            " •Para economizar energia, desconecte o carregador da tomada quando não \n",
            "estiver em uso. O carregador não possui um botão de liga e desliga, então você deve retirar da tomada para evitar desperdício de energia. O carregador deve permanecer na tomada e facilmente acessível enquanto carregar.\n",
            " •Ao usar um carregador, é recomendável usar um aprovado que garanta o desempenho do carregamento.\n",
            " •Se a bateria estiver completamente descarregada, você não conseguirá ligar o aparelho, \n",
            "mesmo que o carregador esteja conectado. Aguarde a bateria carregar \n",
            "por alguns minutos antes de tentar ligar o aparelho.\n",
            " •Se utilizar vários aplicativos ao mesmo tempo, tais como aplicativos de rede ou aplicativos que precisem da conexão de outro aparelho, a bateria descarregará rapidamente. Para evitar desconexão da rede ou esgotar a bateria durante uma transferência de dados, use sempre esses aplicativos após carregar completamente a bateria.\n",
            " •Usar uma fonte de energia diferente do carregador USB, por exemplo, um computador, pode resultar em lentidão ao carregar a bateria devido à corrente elétrica ser mais baixa.\n",
            " •O aparelho pode ser utilizado enquanto carrega, porém pode levar mais tempo para carregar a bateria completamente.\n",
            " •Se o aparelho receber uma fonte de alimentação instável enquanto carrega, o touch screen pode não funcionar. Se isto acontecer, desconecte o carregador.\n",
            " •O aparelho pode aquecer enquanto carrega. Isto é normal e não deve afetar a vida útil ou desempenho dele. Se a bateria aquecer mais do que o normal, o carregador pode parar de funcionar .\n",
            " •Se o seu aparelho não carregar adequadamente, leve para um Centro de Serviços Samsung.\n"
          ]
        }
      ],
      "source": [
        "for doc in docs:\n",
        "    print(str(doc.metadata[\"page\"]) + \":\", doc.page_content)"
      ]
    },
    {
      "cell_type": "markdown",
      "metadata": {
        "id": "0ISjbxymX4IS"
      },
      "source": [
        "Ou podemos fazer a mesma coisa que fizemos com o arquivo CSV e criar os embeddings e depois buscar pelo índice, trazendo o modelo de LLM para ajudar na busca do mesmo."
      ]
    },
    {
      "cell_type": "code",
      "execution_count": 90,
      "metadata": {
        "colab": {
          "base_uri": "https://localhost:8080/"
        },
        "id": "6ch4anMRRRKH",
        "outputId": "36bd629c-3a06-4ba1-910c-e0508997b6c2"
      },
      "outputs": [
        {
          "name": "stderr",
          "output_type": "stream",
          "text": [
            "/usr/local/lib/python3.10/dist-packages/langchain/indexes/vectorstore.py:129: UserWarning: Using InMemoryVectorStore as the default vectorstore.This memory store won't persist data. You should explicitlyspecify a vectorstore when using VectorstoreIndexCreator\n",
            "  warnings.warn(\n"
          ]
        }
      ],
      "source": [
        "embedding_model = OpenAIEmbeddings(chunk_size=10)\n",
        "index = VectorstoreIndexCreator(embedding=embedding_model).from_loaders([loader])"
      ]
    },
    {
      "cell_type": "code",
      "execution_count": 91,
      "metadata": {
        "id": "2m5zu95HSnVm"
      },
      "outputs": [],
      "source": [
        "query = \"O que fazer se o aparelho não ligar?\""
      ]
    },
    {
      "cell_type": "code",
      "execution_count": 93,
      "metadata": {
        "id": "CWzC7QV8RRMe"
      },
      "outputs": [],
      "source": [
        "response = index.query(query, llm=chat_openai)"
      ]
    },
    {
      "cell_type": "code",
      "execution_count": 94,
      "metadata": {
        "colab": {
          "base_uri": "https://localhost:8080/",
          "height": 98
        },
        "id": "sQ-IjrxrSr2W",
        "outputId": "b6f3936a-ef03-44ae-aaad-6b0ed015202b"
      },
      "outputs": [
        {
          "data": {
            "text/markdown": [
              "Se o seu aparelho não ligar, mesmo estando conectado ao carregador, pode ser necessário aguardar alguns minutos para permitir que a bateria se recarregue antes de tentar ligá-lo novamente. Se isso não resolver o problema, você pode tentar reiniciar o aparelho mantendo as teclas Lateral e Diminuir volume pressionadas por mais de 7 segundos. Se ainda assim o problema persistir, pode ser necessário executar uma restauração para o padrão de fábrica. Lembre-se de fazer um backup de todos os dados importantes antes de realizar essa ação."
            ],
            "text/plain": [
              "<IPython.core.display.Markdown object>"
            ]
          },
          "execution_count": 94,
          "metadata": {},
          "output_type": "execute_result"
        }
      ],
      "source": [
        "display_markdown(response)"
      ]
    },
    {
      "cell_type": "code",
      "execution_count": 95,
      "metadata": {
        "id": "1fCrPWkHSzCO"
      },
      "outputs": [],
      "source": [
        "response = index.query_with_sources(query, llm=chat_openai)"
      ]
    },
    {
      "cell_type": "code",
      "execution_count": 96,
      "metadata": {
        "colab": {
          "base_uri": "https://localhost:8080/"
        },
        "id": "UgS5JemaSzJc",
        "outputId": "03b141d2-7904-43d1-9a97-ff708d0153f9"
      },
      "outputs": [
        {
          "data": {
            "text/plain": [
              "{'question': 'O que fazer se o aparelho não ligar?',\n",
              " 'answer': 'Se o aparelho não ligar, mantenha as teclas Lateral e Diminuir volume pressionadas por mais de 7 segundos para reiniciá-lo. Se o problema persistir, execute uma restauração para o padrão de fábrica. Antes de fazer isso, faça um backup de todos os dados importantes. \\n',\n",
              " 'sources': 'docs/SM-A146M_Emb_BR_Rev.1.2.pdf'}"
            ]
          },
          "execution_count": 96,
          "metadata": {},
          "output_type": "execute_result"
        }
      ],
      "source": [
        "response"
      ]
    },
    {
      "cell_type": "markdown",
      "metadata": {
        "id": "uXwNhHQDNqCy"
      },
      "source": [
        "## Agentes\n",
        "\n",
        "Os agentes são ações que podem ser disparados a partir dos modelos LLM.\n",
        "\n",
        "A idéia principal é que cada agente possui um \"pensamento\", uma determinação de qual \"ação\" realizar e depois delegar ao \"agente\" especificado, dentro das descrições passadas."
      ]
    },
    {
      "cell_type": "code",
      "execution_count": 97,
      "metadata": {
        "colab": {
          "base_uri": "https://localhost:8080/"
        },
        "id": "iS24ywdW6ld7",
        "outputId": "35b92a6c-9957-4fb1-f678-bad15af01394"
      },
      "outputs": [
        {
          "name": "stdout",
          "output_type": "stream",
          "text": [
            "Collecting langchainhub\n",
            "  Downloading langchainhub-0.1.20-py3-none-any.whl (5.0 kB)\n",
            "Requirement already satisfied: packaging<25,>=23.2 in /usr/local/lib/python3.10/dist-packages (from langchainhub) (24.1)\n",
            "Requirement already satisfied: requests<3,>=2 in /usr/local/lib/python3.10/dist-packages (from langchainhub) (2.31.0)\n",
            "Requirement already satisfied: types-requests<3.0.0.0,>=2.31.0.2 in /usr/local/lib/python3.10/dist-packages (from langchainhub) (2.32.0.20240622)\n",
            "Requirement already satisfied: charset-normalizer<4,>=2 in /usr/local/lib/python3.10/dist-packages (from requests<3,>=2->langchainhub) (3.3.2)\n",
            "Requirement already satisfied: idna<4,>=2.5 in /usr/local/lib/python3.10/dist-packages (from requests<3,>=2->langchainhub) (3.7)\n",
            "Requirement already satisfied: urllib3<3,>=1.21.1 in /usr/local/lib/python3.10/dist-packages (from requests<3,>=2->langchainhub) (2.0.7)\n",
            "Requirement already satisfied: certifi>=2017.4.17 in /usr/local/lib/python3.10/dist-packages (from requests<3,>=2->langchainhub) (2024.6.2)\n",
            "Installing collected packages: langchainhub\n",
            "Successfully installed langchainhub-0.1.20\n"
          ]
        }
      ],
      "source": [
        "!pip install langchainhub"
      ]
    },
    {
      "cell_type": "code",
      "execution_count": 98,
      "metadata": {
        "id": "4eOFJDdkNrsV"
      },
      "outputs": [],
      "source": [
        "from langchain.agents import load_tools\n",
        "from langchain.agents import AgentType, create_json_chat_agent, create_react_agent, AgentExecutor\n",
        "from langchain_openai import ChatOpenAI"
      ]
    },
    {
      "cell_type": "code",
      "execution_count": 99,
      "metadata": {
        "id": "P6f39KTkMcEj"
      },
      "outputs": [],
      "source": [
        "from langchain import hub\n",
        "\n",
        "prompt = hub.pull(\"hwchase17/react-chat-json\")"
      ]
    },
    {
      "cell_type": "code",
      "execution_count": 100,
      "metadata": {
        "id": "XcWX4u4RAsLH"
      },
      "outputs": [],
      "source": [
        "chat_openai = ChatOpenAI(temperature=0, model=model)"
      ]
    },
    {
      "cell_type": "markdown",
      "metadata": {
        "id": "LSSS0TgYYQxW"
      },
      "source": [
        "Vamos carregar a ferramenta (ou agente) para operações matemáticas."
      ]
    },
    {
      "cell_type": "code",
      "execution_count": 101,
      "metadata": {
        "id": "FptZBDmdAzgF"
      },
      "outputs": [],
      "source": [
        "tools = load_tools([\"llm-math\"], llm=chat_openai)"
      ]
    },
    {
      "cell_type": "code",
      "execution_count": 102,
      "metadata": {
        "id": "YEttIBDN7b2D"
      },
      "outputs": [],
      "source": [
        "agent = create_json_chat_agent(\n",
        "    chat_openai,\n",
        "    tools,\n",
        "    prompt)"
      ]
    },
    {
      "cell_type": "code",
      "execution_count": 103,
      "metadata": {
        "id": "dtTt2UviM-vw"
      },
      "outputs": [],
      "source": [
        "agent_executor = AgentExecutor(\n",
        "    agent=agent, tools=tools, verbose=True, handle_parsing_errors=True\n",
        ")"
      ]
    },
    {
      "cell_type": "code",
      "execution_count": 104,
      "metadata": {
        "colab": {
          "base_uri": "https://localhost:8080/"
        },
        "id": "dR-7m-npNCfa",
        "outputId": "8534436c-7f94-432c-b0cd-dd062fc6d28c"
      },
      "outputs": [
        {
          "name": "stdout",
          "output_type": "stream",
          "text": [
            "\n",
            "\n",
            "\u001b[1m> Entering new AgentExecutor chain...\u001b[0m\n",
            "\u001b[32;1m\u001b[1;3m```json\n",
            "{\n",
            "    \"action\": \"Calculator\",\n",
            "    \"action_input\": \"sqrt(5) - 0.75\"\n",
            "}\n",
            "```\u001b[0m\u001b[36;1m\u001b[1;3mAnswer: 1.4860679774997898\u001b[0m\u001b[32;1m\u001b[1;3m```json\n",
            "{\n",
            "    \"action\": \"Final Answer\",\n",
            "    \"action_input\": \"1.4860679774997898\"\n",
            "}\n",
            "```\u001b[0m\n",
            "\n",
            "\u001b[1m> Finished chain.\u001b[0m\n"
          ]
        },
        {
          "data": {
            "text/plain": [
              "{'input': 'Quanto é raiz quadrada de 5 menos 0,75?',\n",
              " 'output': '1.4860679774997898'}"
            ]
          },
          "execution_count": 104,
          "metadata": {},
          "output_type": "execute_result"
        }
      ],
      "source": [
        "agent_executor.invoke({\"input\": \"Quanto é raiz quadrada de 5 menos 0,75?\"})"
      ]
    },
    {
      "cell_type": "markdown",
      "metadata": {
        "id": "gsOf02KgYla3"
      },
      "source": [
        "Podemos escolher outra ferramenta, neste caso o Wikipedia, para interagir com os dados armazenados."
      ]
    },
    {
      "cell_type": "code",
      "execution_count": 105,
      "metadata": {
        "id": "7iicA-9jOSJq"
      },
      "outputs": [],
      "source": [
        "tools = load_tools([\"wikipedia\"], llm=chat_openai)"
      ]
    },
    {
      "cell_type": "code",
      "execution_count": 106,
      "metadata": {
        "id": "T8zGlR_DNyzB"
      },
      "outputs": [],
      "source": [
        "prompt = hub.pull(\"hwchase17/react\")"
      ]
    },
    {
      "cell_type": "code",
      "execution_count": 107,
      "metadata": {
        "id": "6ShsI5iINcb8"
      },
      "outputs": [],
      "source": [
        "agent = create_react_agent(\n",
        "    chat_openai,\n",
        "    tools,\n",
        "    prompt)"
      ]
    },
    {
      "cell_type": "code",
      "execution_count": 108,
      "metadata": {
        "id": "MpwxW5WLNcvy"
      },
      "outputs": [],
      "source": [
        "agent_executor = AgentExecutor(\n",
        "    agent=agent, tools=tools, verbose=True, handle_parsing_errors=True\n",
        ")"
      ]
    },
    {
      "cell_type": "code",
      "execution_count": 109,
      "metadata": {
        "colab": {
          "base_uri": "https://localhost:8080/"
        },
        "id": "QPWu3mXGPe1h",
        "outputId": "6c466f9e-54f9-4226-a2c3-8abebc5d2c4b"
      },
      "outputs": [
        {
          "name": "stdout",
          "output_type": "stream",
          "text": [
            "\n",
            "\n",
            "\u001b[1m> Entering new AgentExecutor chain...\u001b[0m\n",
            "\u001b[32;1m\u001b[1;3mI should search for the founder of Gurgel on Wikipedia.\n",
            "Action: wikipedia\n",
            "Action Input: Gurgel (empresa)\u001b[0m\u001b[36;1m\u001b[1;3mPage: Flávio Rocha\n",
            "Summary: Flávio Gurgel Rocha (born 14 February 1958) is a Brazilian former federal deputy and businessman, current CEO and Chairman of Lojas Riachuelo, one of the largest retailers in the country.\n",
            "\n",
            "Page: Automotive industry in Brazil\n",
            "Summary: The Brazilian automotive industry is coordinated by the Associação Nacional dos Fabricantes de Veículos Automotores (Anfavea), created in 1956, which includes automakers (cars, light vehicles, trucks, buses and agriculture machines) with factories in Brazil. Anfavea is part of the Organisation Internationale des Constructeurs d'Automobiles (OICA), based in Paris. In 2021, the annual production exceeded 2.2 million vehicles, the 8th largest in the world.\n",
            "Most large global automotive companies are present in Brazil, such as: BMW, BYD, Chery, Fiat, Ford, Geely, General Motors, Honda, Hyundai, JAC Motors, Kia, Land Rover, Lexus, Lifan, Mercedes-Benz, Mitsubishi, Nissan Motors, Renault, Stellantis, Subaru, Toyota, Volkswagen, Volvo Trucks, among others, as well as national companies such as Agrale, Marcopolo, Randon, and more. In the past there were national brands such as DKW Vemag, FNM, Gurgel, and Troller. Some traditionally produced modern equipped replicas of older models.\n",
            "\n",
            "Page: Social security in Brazil\n",
            "Summary: Social security in Brazil originated with the 1824 Constitution, more specifically in the so-called \"public aid\", which was carried out by private initiative through the Santa Casa de Misericórdia. Social security, along with public health and social assistance, is part of social welfare. The Instituto Nacional do Seguro Social (INSS) (National Social Security Institute in English), which is currently responsible for managing social security benefits, was created via Decree No. 99,350 of June 27, 1990, through the merger of the Instituto de Administração Financeira da Previdência e Assistência Social (IAPAS), created in 1977, and the Instituto Nacional de Previdência Social (INPS), created in 1966.\u001b[0m\u001b[32;1m\u001b[1;3mI now know the final answer\n",
            "Final Answer: Flávio Gurgel Rocha is the founder of Gurgel.\u001b[0m\n",
            "\n",
            "\u001b[1m> Finished chain.\u001b[0m\n"
          ]
        },
        {
          "data": {
            "text/plain": [
              "{'input': 'Quem é o fundador da Gurgel?',\n",
              " 'output': 'Flávio Gurgel Rocha is the founder of Gurgel.'}"
            ]
          },
          "execution_count": 109,
          "metadata": {},
          "output_type": "execute_result"
        }
      ],
      "source": [
        "agent_executor.invoke({\"input\": \"Quem é o fundador da Gurgel?\"})"
      ]
    },
    {
      "cell_type": "markdown",
      "metadata": {
        "id": "VhuECQOAYtIS"
      },
      "source": [
        "Existem diversos tipos de ferramentas que podem ser utilizadas, como por exemplo o acesso ao Pubmed, um repositório de artigos médicos."
      ]
    },
    {
      "cell_type": "code",
      "execution_count": 110,
      "metadata": {
        "id": "hmmzdVdIPwSz"
      },
      "outputs": [],
      "source": [
        "from langchain.tools import PubmedQueryRun"
      ]
    },
    {
      "cell_type": "code",
      "execution_count": 111,
      "metadata": {
        "colab": {
          "base_uri": "https://localhost:8080/",
          "height": 174
        },
        "id": "nIFkeCIBPx07",
        "outputId": "d9c6b086-677d-4f4b-9f09-dc892faf50e2"
      },
      "outputs": [
        {
          "data": {
            "application/vnd.google.colaboratory.intrinsic+json": {
              "type": "string"
            },
            "text/plain": [
              "'Published: 2017-03-23\\nTitle: Clinical outcomes and survival in AA amyloidosis patients.\\nCopyright Information: Copyright © 2017. Published by Elsevier Editora Ltda.\\nSummary::\\nAIM: Amyloid A amyloidosis is a rare complication of chronic inflammatory conditions. Most patients with amyloid A amyloidosis present with nephropathy and it leads to renal failure and death. We studied clinical characteristics and survival in patients with amyloid A amyloidosis.\\nMETHODS: A total of 81 patients (51 males, 30 females) with renal biopsy proven amyloid A amyloidosis were analyzed retrospectively. The patients were divided into good and poor outcomes groups according to survival results.\\nRESULTS: Most of the patients (55.6%) had nephrotic range proteinuria at diagnosis. Most frequent underlying disorders were familial Mediterranean fever (21.2%) and rheumatoid arthritis (10.6%) in the good outcome group and malignancy (20%) in the poor outcome group. Only diastolic blood pressure in the good outcome group and phosphorus level in the poor outcome group was higher. Serum creatinine levels increased after treatment in both groups, while proteinuria in the good outcome group decreased. Increase in serum creatinine and decrease in estimated glomerular filtration rate of the poor outcome group were more significant in the good outcome group. At the time of diagnosis 18.5% and 27.2% of all patients had advanced chronic kidney disease (stage 4 and 5, respectively). Median duration of renal survival was 65±3.54 months. Among all patients, 27.1% were started dialysis treatment during the follow-up period and 7.4% of all patients underwent kidney transplantation. Higher levels of systolic blood pressure [hazard ratios 1.03, 95% confidence interval: 1-1.06, p=0.036], serum creatinine (hazard ratios 1.25, 95% confidence interval: 1.07-1.46, p=0.006) and urinary protein excretion (hazard ratios 1.08, 95% confidence interval: 1.01-1.16, p=0.027) were predictors of end-stage renal disease. Median'"
            ]
          },
          "execution_count": 111,
          "metadata": {},
          "output_type": "execute_result"
        }
      ],
      "source": [
        "tool = PubmedQueryRun()\n",
        "\n",
        "tool.run(\"Febre Familiar do Mediterrâneo\")"
      ]
    },
    {
      "cell_type": "code",
      "execution_count": 112,
      "metadata": {
        "id": "Liy2b1uWN792"
      },
      "outputs": [],
      "source": [
        "prompt = hub.pull(\"hwchase17/react\")"
      ]
    },
    {
      "cell_type": "code",
      "execution_count": 113,
      "metadata": {
        "id": "NUS-mJ_qN-wx"
      },
      "outputs": [],
      "source": [
        "agent = create_react_agent(\n",
        "    chat_openai,\n",
        "    tools,\n",
        "    prompt)"
      ]
    },
    {
      "cell_type": "code",
      "execution_count": 114,
      "metadata": {
        "id": "KCJQ3vN5OBka"
      },
      "outputs": [],
      "source": [
        "agent_executor = AgentExecutor(\n",
        "    agent=agent, tools=tools, verbose=True, handle_parsing_errors=True\n",
        ")"
      ]
    },
    {
      "cell_type": "code",
      "execution_count": 116,
      "metadata": {
        "colab": {
          "base_uri": "https://localhost:8080/"
        },
        "id": "QVkbQB16QISn",
        "outputId": "3e48b947-c0ee-4f74-b873-826a43470beb"
      },
      "outputs": [
        {
          "name": "stdout",
          "output_type": "stream",
          "text": [
            "\n",
            "\n",
            "\u001b[1m> Entering new AgentExecutor chain...\u001b[0m\n",
            "\u001b[32;1m\u001b[1;3mVocê deve usar a ferramenta Wikipedia para encontrar informações específicas sobre a Febre Familiar do Mediterrâneo.\n",
            "Action: wikipedia\n",
            "Action Input: Febre Familiar do Mediterrâneo\u001b[0m\u001b[36;1m\u001b[1;3mPage: Sardinian language\n",
            "Summary: Sardinian or Sard (endonym: sardu, Sardinian: [ˈsaɾdu], limba sarda, Sardinian: [ˈlimba ˈzaɾda], or lìngua sarda, Sardinian: [ˈliŋɡwa ˈzaɾda]) is a Romance language spoken by the Sardinians on the Western Mediterranean island of Sardinia.\n",
            "Many Romance linguists consider it, together with Italian, as the language that is the closest to Latin among all Latin's descendants. However, it has also incorporated elements of Pre-Latin (mostly Paleo-Sardinian and, to a much lesser degree, Punic) substratum, as well as a Byzantine Greek, Catalan, Castilian, and Italian superstratum. These elements originate in the political history of Sardinia, whose indigenous society experienced for centuries competition and at times conflict with a series of colonizing newcomers: before the Middle Ages, the island was for a time a Byzantine possession; then, after a significant period of self-rule with the Judicates, when Sardinian was officially employed in accordance with documentary testimonies, it came during the late Middle Ages into the Iberian sphere of influence, during which Catalan and Castilian became the island's prestige languages and would remain so well into the 18th century. Finally, from the early 18th century onward, under the Savoyard and contemporary Italian one, following the country's linguistic policies which, to the detriment of Sardinian and the local Catalan, led to diglossia.\n",
            "The original character of the Sardinian language among the Romance idioms has long been known among linguists. After a long strife for the acknowledgement of the island's cultural patrimony, in 1997, Sardinian, along with the other languages spoken therein, managed to be recognized by regional law in Sardinia without challenge by the central government. In 1999, Sardinian and eleven other \"historical linguistic minorities\", i.e. locally indigenous, and not foreign-grown, minority languages of Italy (minoranze linguistiche storiche, as defined by the legislator) were similarly recognized as such by national law (specifically, Law No. 482/1999). Among these, Sardinian is notable as having, in terms of absolute numbers, the largest community of speakers.\n",
            "Although the Sardinian-speaking community can be said to share \"a high level of linguistic awareness\", policies eventually fostering language loss and assimilation have considerably affected Sardinian, whose actual speakers have become noticeably reduced in numbers over the last century. The Sardinian adult population today primarily uses Italian, and less than 15 percent of the younger generations were reported to have been passed down some residual Sardinian, usually in a deteriorated form described by linguist Roberto Bolognesi as \"an ungrammatical slang\".\n",
            "The rather fragile and precarious state in which the Sardinian language now finds itself, where its use has been discouraged and consequently reduced even within the family sphere, is illustrated by the Euromosaic report, in which Sardinian \"is in 43rd place in the ranking of the 50 languages taken into consideration and of which were analysed (a) use in the family, (b) cultural reproduction, (c) use in the community, (d) prestige, (e) use in institutions, (f) use in education\".\n",
            "As the Sardinians have almost been completely assimilated into the Italian national mores, including in terms of onomastics, and therefore now only happen to keep but a scant and fragmentary knowledge of their native and once first spoken language, limited in both scope and frequency of use, Sardinian has been classified by UNESCO as \"definitely endangered\". In fact, the intergenerational chain of transmission appears to have been broken since at least the 1960s, in such a way that the younger generations, who are predominantly Italian monolinguals, do not identify themselves with the indigenous tongue, which is now reduced to the memory of \"little more than the language of their grandparents\".\n",
            "As the long- to even medium-term future of the Sa\u001b[0m\u001b[32;1m\u001b[1;3mEssa não é a informação correta sobre a Febre Familiar do Mediterrâneo. Vamos tentar novamente.\n",
            "Action: wikipedia\n",
            "Action Input: Febre Familiar do Mediterrâneo\u001b[0m\u001b[36;1m\u001b[1;3mPage: Sardinian language\n",
            "Summary: Sardinian or Sard (endonym: sardu, Sardinian: [ˈsaɾdu], limba sarda, Sardinian: [ˈlimba ˈzaɾda], or lìngua sarda, Sardinian: [ˈliŋɡwa ˈzaɾda]) is a Romance language spoken by the Sardinians on the Western Mediterranean island of Sardinia.\n",
            "Many Romance linguists consider it, together with Italian, as the language that is the closest to Latin among all Latin's descendants. However, it has also incorporated elements of Pre-Latin (mostly Paleo-Sardinian and, to a much lesser degree, Punic) substratum, as well as a Byzantine Greek, Catalan, Castilian, and Italian superstratum. These elements originate in the political history of Sardinia, whose indigenous society experienced for centuries competition and at times conflict with a series of colonizing newcomers: before the Middle Ages, the island was for a time a Byzantine possession; then, after a significant period of self-rule with the Judicates, when Sardinian was officially employed in accordance with documentary testimonies, it came during the late Middle Ages into the Iberian sphere of influence, during which Catalan and Castilian became the island's prestige languages and would remain so well into the 18th century. Finally, from the early 18th century onward, under the Savoyard and contemporary Italian one, following the country's linguistic policies which, to the detriment of Sardinian and the local Catalan, led to diglossia.\n",
            "The original character of the Sardinian language among the Romance idioms has long been known among linguists. After a long strife for the acknowledgement of the island's cultural patrimony, in 1997, Sardinian, along with the other languages spoken therein, managed to be recognized by regional law in Sardinia without challenge by the central government. In 1999, Sardinian and eleven other \"historical linguistic minorities\", i.e. locally indigenous, and not foreign-grown, minority languages of Italy (minoranze linguistiche storiche, as defined by the legislator) were similarly recognized as such by national law (specifically, Law No. 482/1999). Among these, Sardinian is notable as having, in terms of absolute numbers, the largest community of speakers.\n",
            "Although the Sardinian-speaking community can be said to share \"a high level of linguistic awareness\", policies eventually fostering language loss and assimilation have considerably affected Sardinian, whose actual speakers have become noticeably reduced in numbers over the last century. The Sardinian adult population today primarily uses Italian, and less than 15 percent of the younger generations were reported to have been passed down some residual Sardinian, usually in a deteriorated form described by linguist Roberto Bolognesi as \"an ungrammatical slang\".\n",
            "The rather fragile and precarious state in which the Sardinian language now finds itself, where its use has been discouraged and consequently reduced even within the family sphere, is illustrated by the Euromosaic report, in which Sardinian \"is in 43rd place in the ranking of the 50 languages taken into consideration and of which were analysed (a) use in the family, (b) cultural reproduction, (c) use in the community, (d) prestige, (e) use in institutions, (f) use in education\".\n",
            "As the Sardinians have almost been completely assimilated into the Italian national mores, including in terms of onomastics, and therefore now only happen to keep but a scant and fragmentary knowledge of their native and once first spoken language, limited in both scope and frequency of use, Sardinian has been classified by UNESCO as \"definitely endangered\". In fact, the intergenerational chain of transmission appears to have been broken since at least the 1960s, in such a way that the younger generations, who are predominantly Italian monolinguals, do not identify themselves with the indigenous tongue, which is now reduced to the memory of \"little more than the language of their grandparents\".\n",
            "As the long- to even medium-term future of the Sa\u001b[0m\u001b[32;1m\u001b[1;3mA pesquisa não está retornando informações corretas sobre a Febre Familiar do Mediterrâneo. Vamos tentar novamente.\n",
            "Action: wikipedia\n",
            "Action Input: Familial Mediterranean Fever\u001b[0m"
          ]
        },
        {
          "name": "stderr",
          "output_type": "stream",
          "text": [
            "/usr/local/lib/python3.10/dist-packages/wikipedia/wikipedia.py:389: GuessedAtParserWarning: No parser was explicitly specified, so I'm using the best available HTML parser for this system (\"lxml\"). This usually isn't a problem, but if you run this code on another system, or in a different virtual environment, it may use a different parser and behave differently.\n",
            "\n",
            "The code that caused this warning is on line 389 of the file /usr/local/lib/python3.10/dist-packages/wikipedia/wikipedia.py. To get rid of this warning, pass the additional argument 'features=\"lxml\"' to the BeautifulSoup constructor.\n",
            "\n",
            "  lis = BeautifulSoup(html).find_all('li')\n"
          ]
        },
        {
          "name": "stdout",
          "output_type": "stream",
          "text": [
            "\u001b[36;1m\u001b[1;3mPage: Familial Mediterranean fever\n",
            "Summary: Familial Mediterranean fever (FMF) is a hereditary inflammatory disorder.: 149   FMF is an autoinflammatory disease caused by mutations in Mediterranean fever gene, which encodes a 781–amino acid protein called pyrin. While all ethnic groups are susceptible to FMF, it usually occurs in people of Mediterranean origin—including Sephardic Jews, Mizrahi Jews, Ashkenazi Jews, Assyrians, Armenians, Azerbaijanis, Druze, Levantines, Kurds, Greeks, Turks and Italians.\n",
            "The disorder has been given various names, including familial paroxysmal polyserositis, periodic peritonitis, recurrent polyserositis, benign paroxysmal peritonitis, periodic disease or periodic fever, Reimann periodic disease or Reimann syndrome, Siegal-Cattan-Mamou disease, and Wolff periodic disease. Note that \"periodic fever\" can also refer to any of the periodic fever syndromes.\n",
            "\n",
            "\n",
            "\n",
            "Page: Shar Pei\n",
            "Summary: The Shar Pei (Chinese: 沙皮; Cantonese Yale: shā pèih; pinyin: shā pí) is a dog breed from \n",
            "southern China. Traditionally kept as a property guardian, the shar pei was driven to the brink of extinction in the 20th century. The breed is known in the West for its deep wrinkles, while a traditional less wrinkled form is maintained in Hong Kong.\n",
            "\n",
            "\u001b[0m\u001b[32;1m\u001b[1;3mA pesquisa retornou informações corretas sobre a Febre Familiar do Mediterrâneo.\n",
            "Final Answer: A Febre Familiar do Mediterrâneo é uma doença inflamatória hereditária causada por mutações no gene da febre mediterrânea, que codifica uma proteína chamada pirina. A doença geralmente ocorre em pessoas de origem mediterrânea.\u001b[0m\n",
            "\n",
            "\u001b[1m> Finished chain.\u001b[0m\n"
          ]
        },
        {
          "data": {
            "text/plain": [
              "{'input': 'Busque somente um artigo sobre a Febre Familiar do Mediterrâneo.',\n",
              " 'output': 'A Febre Familiar do Mediterrâneo é uma doença inflamatória hereditária causada por mutações no gene da febre mediterrânea, que codifica uma proteína chamada pirina. A doença geralmente ocorre em pessoas de origem mediterrânea.'}"
            ]
          },
          "execution_count": 116,
          "metadata": {},
          "output_type": "execute_result"
        }
      ],
      "source": [
        "agent_executor.invoke({\"input\": \"Busque somente um artigo sobre a Febre Familiar do Mediterrâneo.\"})"
      ]
    },
    {
      "cell_type": "markdown",
      "metadata": {
        "id": "CoWcReHqY0Zl"
      },
      "source": [
        "E por fim, podemos criar nossa própria ferramenta.\n",
        "O exemplo a seguir será de consumir 2 APIs de testes (mock) que traz uma lista de produtos ou um produto individual, de acordo com um identificador."
      ]
    },
    {
      "cell_type": "code",
      "execution_count": 117,
      "metadata": {
        "id": "N1T6A0BAKMVC"
      },
      "outputs": [],
      "source": [
        "import requests\n",
        "from langchain.agents import tool"
      ]
    },
    {
      "cell_type": "markdown",
      "metadata": {
        "id": "vSC-JmQcZACq"
      },
      "source": [
        "Incluímos a anotação \"@tool\" na função e obrigatóriamente precisa ter entrada e saída em String.\n",
        "\n",
        "Se não for utiliar a entrada, envie um parâmetro vazio.\n",
        "\n",
        "Importante é detalhar no comentário da função sobre o que faz e qual parâmetro necessita."
      ]
    },
    {
      "cell_type": "code",
      "execution_count": 118,
      "metadata": {
        "colab": {
          "base_uri": "https://localhost:8080/"
        },
        "id": "Kz_01EqHKonS",
        "outputId": "6b8acc47-537d-4c5c-f147-7f612c0b1280"
      },
      "outputs": [
        {
          "data": {
            "text/plain": [
              "{'products': [{'id': 1,\n",
              "   'title': 'Essence Mascara Lash Princess',\n",
              "   'description': 'The Essence Mascara Lash Princess is a popular mascara known for its volumizing and lengthening effects. Achieve dramatic lashes with this long-lasting and cruelty-free formula.',\n",
              "   'category': 'beauty',\n",
              "   'price': 9.99,\n",
              "   'discountPercentage': 7.17,\n",
              "   'rating': 4.94,\n",
              "   'stock': 5,\n",
              "   'tags': ['beauty', 'mascara'],\n",
              "   'brand': 'Essence',\n",
              "   'sku': 'RCH45Q1A',\n",
              "   'weight': 2,\n",
              "   'dimensions': {'width': 23.17, 'height': 14.43, 'depth': 28.01},\n",
              "   'warrantyInformation': '1 month warranty',\n",
              "   'shippingInformation': 'Ships in 1 month',\n",
              "   'availabilityStatus': 'Low Stock',\n",
              "   'reviews': [{'rating': 2,\n",
              "     'comment': 'Very unhappy with my purchase!',\n",
              "     'date': '2024-05-23T08:56:21.618Z',\n",
              "     'reviewerName': 'John Doe',\n",
              "     'reviewerEmail': 'john.doe@x.dummyjson.com'},\n",
              "    {'rating': 2,\n",
              "     'comment': 'Not as described!',\n",
              "     'date': '2024-05-23T08:56:21.618Z',\n",
              "     'reviewerName': 'Nolan Gonzalez',\n",
              "     'reviewerEmail': 'nolan.gonzalez@x.dummyjson.com'},\n",
              "    {'rating': 5,\n",
              "     'comment': 'Very satisfied!',\n",
              "     'date': '2024-05-23T08:56:21.618Z',\n",
              "     'reviewerName': 'Scarlett Wright',\n",
              "     'reviewerEmail': 'scarlett.wright@x.dummyjson.com'}],\n",
              "   'returnPolicy': '30 days return policy',\n",
              "   'minimumOrderQuantity': 24,\n",
              "   'meta': {'createdAt': '2024-05-23T08:56:21.618Z',\n",
              "    'updatedAt': '2024-05-23T08:56:21.618Z',\n",
              "    'barcode': '9164035109868',\n",
              "    'qrCode': 'https://dummyjson.com/public/qr-code.png'},\n",
              "   'images': ['https://cdn.dummyjson.com/products/images/beauty/Essence%20Mascara%20Lash%20Princess/1.png'],\n",
              "   'thumbnail': 'https://cdn.dummyjson.com/products/images/beauty/Essence%20Mascara%20Lash%20Princess/thumbnail.png'},\n",
              "  {'id': 2,\n",
              "   'title': 'Eyeshadow Palette with Mirror',\n",
              "   'description': \"The Eyeshadow Palette with Mirror offers a versatile range of eyeshadow shades for creating stunning eye looks. With a built-in mirror, it's convenient for on-the-go makeup application.\",\n",
              "   'category': 'beauty',\n",
              "   'price': 19.99,\n",
              "   'discountPercentage': 5.5,\n",
              "   'rating': 3.28,\n",
              "   'stock': 44,\n",
              "   'tags': ['beauty', 'eyeshadow'],\n",
              "   'brand': 'Glamour Beauty',\n",
              "   'sku': 'MVCFH27F',\n",
              "   'weight': 3,\n",
              "   'dimensions': {'width': 12.42, 'height': 8.63, 'depth': 29.13},\n",
              "   'warrantyInformation': '1 year warranty',\n",
              "   'shippingInformation': 'Ships in 2 weeks',\n",
              "   'availabilityStatus': 'In Stock',\n",
              "   'reviews': [{'rating': 4,\n",
              "     'comment': 'Very satisfied!',\n",
              "     'date': '2024-05-23T08:56:21.618Z',\n",
              "     'reviewerName': 'Liam Garcia',\n",
              "     'reviewerEmail': 'liam.garcia@x.dummyjson.com'},\n",
              "    {'rating': 1,\n",
              "     'comment': 'Very disappointed!',\n",
              "     'date': '2024-05-23T08:56:21.618Z',\n",
              "     'reviewerName': 'Nora Russell',\n",
              "     'reviewerEmail': 'nora.russell@x.dummyjson.com'},\n",
              "    {'rating': 5,\n",
              "     'comment': 'Highly impressed!',\n",
              "     'date': '2024-05-23T08:56:21.618Z',\n",
              "     'reviewerName': 'Elena Baker',\n",
              "     'reviewerEmail': 'elena.baker@x.dummyjson.com'}],\n",
              "   'returnPolicy': '30 days return policy',\n",
              "   'minimumOrderQuantity': 32,\n",
              "   'meta': {'createdAt': '2024-05-23T08:56:21.618Z',\n",
              "    'updatedAt': '2024-05-23T08:56:21.618Z',\n",
              "    'barcode': '2817839095220',\n",
              "    'qrCode': 'https://dummyjson.com/public/qr-code.png'},\n",
              "   'images': ['https://cdn.dummyjson.com/products/images/beauty/Eyeshadow%20Palette%20with%20Mirror/1.png'],\n",
              "   'thumbnail': 'https://cdn.dummyjson.com/products/images/beauty/Eyeshadow%20Palette%20with%20Mirror/thumbnail.png'},\n",
              "  {'id': 3,\n",
              "   'title': 'Powder Canister',\n",
              "   'description': 'The Powder Canister is a finely milled setting powder designed to set makeup and control shine. With a lightweight and translucent formula, it provides a smooth and matte finish.',\n",
              "   'category': 'beauty',\n",
              "   'price': 14.99,\n",
              "   'discountPercentage': 18.14,\n",
              "   'rating': 3.82,\n",
              "   'stock': 59,\n",
              "   'tags': ['beauty', 'face powder'],\n",
              "   'brand': 'Velvet Touch',\n",
              "   'sku': '9EN8WLT2',\n",
              "   'weight': 8,\n",
              "   'dimensions': {'width': 24.16, 'height': 10.7, 'depth': 11.07},\n",
              "   'warrantyInformation': '2 year warranty',\n",
              "   'shippingInformation': 'Ships in 1-2 business days',\n",
              "   'availabilityStatus': 'In Stock',\n",
              "   'reviews': [{'rating': 5,\n",
              "     'comment': 'Very happy with my purchase!',\n",
              "     'date': '2024-05-23T08:56:21.618Z',\n",
              "     'reviewerName': 'Ethan Thompson',\n",
              "     'reviewerEmail': 'ethan.thompson@x.dummyjson.com'},\n",
              "    {'rating': 4,\n",
              "     'comment': 'Great value for money!',\n",
              "     'date': '2024-05-23T08:56:21.618Z',\n",
              "     'reviewerName': 'Levi Hicks',\n",
              "     'reviewerEmail': 'levi.hicks@x.dummyjson.com'},\n",
              "    {'rating': 5,\n",
              "     'comment': 'Highly impressed!',\n",
              "     'date': '2024-05-23T08:56:21.618Z',\n",
              "     'reviewerName': 'Hazel Gardner',\n",
              "     'reviewerEmail': 'hazel.gardner@x.dummyjson.com'}],\n",
              "   'returnPolicy': '60 days return policy',\n",
              "   'minimumOrderQuantity': 25,\n",
              "   'meta': {'createdAt': '2024-05-23T08:56:21.618Z',\n",
              "    'updatedAt': '2024-05-23T08:56:21.618Z',\n",
              "    'barcode': '0516267971277',\n",
              "    'qrCode': 'https://dummyjson.com/public/qr-code.png'},\n",
              "   'images': ['https://cdn.dummyjson.com/products/images/beauty/Powder%20Canister/1.png'],\n",
              "   'thumbnail': 'https://cdn.dummyjson.com/products/images/beauty/Powder%20Canister/thumbnail.png'},\n",
              "  {'id': 4,\n",
              "   'title': 'Red Lipstick',\n",
              "   'description': 'The Red Lipstick is a classic and bold choice for adding a pop of color to your lips. With a creamy and pigmented formula, it provides a vibrant and long-lasting finish.',\n",
              "   'category': 'beauty',\n",
              "   'price': 12.99,\n",
              "   'discountPercentage': 19.03,\n",
              "   'rating': 2.51,\n",
              "   'stock': 68,\n",
              "   'tags': ['beauty', 'lipstick'],\n",
              "   'brand': 'Chic Cosmetics',\n",
              "   'sku': 'O5IF1NTA',\n",
              "   'weight': 5,\n",
              "   'dimensions': {'width': 14.37, 'height': 13.94, 'depth': 14.6},\n",
              "   'warrantyInformation': 'Lifetime warranty',\n",
              "   'shippingInformation': 'Ships in 2 weeks',\n",
              "   'availabilityStatus': 'In Stock',\n",
              "   'reviews': [{'rating': 5,\n",
              "     'comment': 'Great product!',\n",
              "     'date': '2024-05-23T08:56:21.619Z',\n",
              "     'reviewerName': 'Leo Rivera',\n",
              "     'reviewerEmail': 'leo.rivera@x.dummyjson.com'},\n",
              "    {'rating': 4,\n",
              "     'comment': 'Very pleased!',\n",
              "     'date': '2024-05-23T08:56:21.619Z',\n",
              "     'reviewerName': 'Oscar Powers',\n",
              "     'reviewerEmail': 'oscar.powers@x.dummyjson.com'},\n",
              "    {'rating': 5,\n",
              "     'comment': 'Very pleased!',\n",
              "     'date': '2024-05-23T08:56:21.619Z',\n",
              "     'reviewerName': 'Carter Rivera',\n",
              "     'reviewerEmail': 'carter.rivera@x.dummyjson.com'}],\n",
              "   'returnPolicy': '90 days return policy',\n",
              "   'minimumOrderQuantity': 6,\n",
              "   'meta': {'createdAt': '2024-05-23T08:56:21.619Z',\n",
              "    'updatedAt': '2024-05-23T08:56:21.619Z',\n",
              "    'barcode': '9444582199406',\n",
              "    'qrCode': 'https://dummyjson.com/public/qr-code.png'},\n",
              "   'images': ['https://cdn.dummyjson.com/products/images/beauty/Red%20Lipstick/1.png'],\n",
              "   'thumbnail': 'https://cdn.dummyjson.com/products/images/beauty/Red%20Lipstick/thumbnail.png'},\n",
              "  {'id': 5,\n",
              "   'title': 'Red Nail Polish',\n",
              "   'description': 'The Red Nail Polish offers a rich and glossy red hue for vibrant and polished nails. With a quick-drying formula, it provides a salon-quality finish at home.',\n",
              "   'category': 'beauty',\n",
              "   'price': 8.99,\n",
              "   'discountPercentage': 2.46,\n",
              "   'rating': 3.91,\n",
              "   'stock': 71,\n",
              "   'tags': ['beauty', 'nail polish'],\n",
              "   'brand': 'Nail Couture',\n",
              "   'sku': 'YUIIIP4W',\n",
              "   'weight': 9,\n",
              "   'dimensions': {'width': 8.11, 'height': 10.89, 'depth': 29.06},\n",
              "   'warrantyInformation': '1 year warranty',\n",
              "   'shippingInformation': 'Ships in 1 week',\n",
              "   'availabilityStatus': 'In Stock',\n",
              "   'reviews': [{'rating': 5,\n",
              "     'comment': 'Very pleased!',\n",
              "     'date': '2024-05-23T08:56:21.619Z',\n",
              "     'reviewerName': 'Leo Rivera',\n",
              "     'reviewerEmail': 'leo.rivera@x.dummyjson.com'},\n",
              "    {'rating': 5,\n",
              "     'comment': 'Great product!',\n",
              "     'date': '2024-05-23T08:56:21.619Z',\n",
              "     'reviewerName': 'Evan Reed',\n",
              "     'reviewerEmail': 'evan.reed@x.dummyjson.com'},\n",
              "    {'rating': 4,\n",
              "     'comment': 'Highly recommended!',\n",
              "     'date': '2024-05-23T08:56:21.619Z',\n",
              "     'reviewerName': 'Evelyn Sanchez',\n",
              "     'reviewerEmail': 'evelyn.sanchez@x.dummyjson.com'}],\n",
              "   'returnPolicy': 'No return policy',\n",
              "   'minimumOrderQuantity': 46,\n",
              "   'meta': {'createdAt': '2024-05-23T08:56:21.619Z',\n",
              "    'updatedAt': '2024-05-23T08:56:21.619Z',\n",
              "    'barcode': '3212847902461',\n",
              "    'qrCode': 'https://dummyjson.com/public/qr-code.png'},\n",
              "   'images': ['https://cdn.dummyjson.com/products/images/beauty/Red%20Nail%20Polish/1.png'],\n",
              "   'thumbnail': 'https://cdn.dummyjson.com/products/images/beauty/Red%20Nail%20Polish/thumbnail.png'},\n",
              "  {'id': 6,\n",
              "   'title': 'Calvin Klein CK One',\n",
              "   'description': \"CK One by Calvin Klein is a classic unisex fragrance, known for its fresh and clean scent. It's a versatile fragrance suitable for everyday wear.\",\n",
              "   'category': 'fragrances',\n",
              "   'price': 49.99,\n",
              "   'discountPercentage': 0.32,\n",
              "   'rating': 4.85,\n",
              "   'stock': 17,\n",
              "   'tags': ['fragrances', 'perfumes'],\n",
              "   'brand': 'Calvin Klein',\n",
              "   'sku': 'DZM2JQZE',\n",
              "   'weight': 5,\n",
              "   'dimensions': {'width': 11.53, 'height': 14.44, 'depth': 6.81},\n",
              "   'warrantyInformation': '5 year warranty',\n",
              "   'shippingInformation': 'Ships overnight',\n",
              "   'availabilityStatus': 'In Stock',\n",
              "   'reviews': [{'rating': 5,\n",
              "     'comment': 'Great value for money!',\n",
              "     'date': '2024-05-23T08:56:21.619Z',\n",
              "     'reviewerName': 'Sophia Brown',\n",
              "     'reviewerEmail': 'sophia.brown@x.dummyjson.com'},\n",
              "    {'rating': 3,\n",
              "     'comment': 'Very disappointed!',\n",
              "     'date': '2024-05-23T08:56:21.619Z',\n",
              "     'reviewerName': 'Madison Collins',\n",
              "     'reviewerEmail': 'madison.collins@x.dummyjson.com'},\n",
              "    {'rating': 1,\n",
              "     'comment': 'Poor quality!',\n",
              "     'date': '2024-05-23T08:56:21.619Z',\n",
              "     'reviewerName': 'Maya Reed',\n",
              "     'reviewerEmail': 'maya.reed@x.dummyjson.com'}],\n",
              "   'returnPolicy': 'No return policy',\n",
              "   'minimumOrderQuantity': 20,\n",
              "   'meta': {'createdAt': '2024-05-23T08:56:21.619Z',\n",
              "    'updatedAt': '2024-05-23T08:56:21.619Z',\n",
              "    'barcode': '2210136215089',\n",
              "    'qrCode': 'https://dummyjson.com/public/qr-code.png'},\n",
              "   'images': ['https://cdn.dummyjson.com/products/images/fragrances/Calvin%20Klein%20CK%20One/1.png',\n",
              "    'https://cdn.dummyjson.com/products/images/fragrances/Calvin%20Klein%20CK%20One/2.png',\n",
              "    'https://cdn.dummyjson.com/products/images/fragrances/Calvin%20Klein%20CK%20One/3.png'],\n",
              "   'thumbnail': 'https://cdn.dummyjson.com/products/images/fragrances/Calvin%20Klein%20CK%20One/thumbnail.png'},\n",
              "  {'id': 7,\n",
              "   'title': 'Chanel Coco Noir Eau De',\n",
              "   'description': 'Coco Noir by Chanel is an elegant and mysterious fragrance, featuring notes of grapefruit, rose, and sandalwood. Perfect for evening occasions.',\n",
              "   'category': 'fragrances',\n",
              "   'price': 129.99,\n",
              "   'discountPercentage': 18.64,\n",
              "   'rating': 2.76,\n",
              "   'stock': 41,\n",
              "   'tags': ['fragrances', 'perfumes'],\n",
              "   'brand': 'Chanel',\n",
              "   'sku': 'K71HBCGS',\n",
              "   'weight': 4,\n",
              "   'dimensions': {'width': 21.27, 'height': 28, 'depth': 11.89},\n",
              "   'warrantyInformation': '1 week warranty',\n",
              "   'shippingInformation': 'Ships in 1 month',\n",
              "   'availabilityStatus': 'In Stock',\n",
              "   'reviews': [{'rating': 1,\n",
              "     'comment': 'Disappointing product!',\n",
              "     'date': '2024-05-23T08:56:21.619Z',\n",
              "     'reviewerName': 'Lincoln Kelly',\n",
              "     'reviewerEmail': 'lincoln.kelly@x.dummyjson.com'},\n",
              "    {'rating': 4,\n",
              "     'comment': 'Great product!',\n",
              "     'date': '2024-05-23T08:56:21.619Z',\n",
              "     'reviewerName': 'Lincoln Kelly',\n",
              "     'reviewerEmail': 'lincoln.kelly@x.dummyjson.com'},\n",
              "    {'rating': 4,\n",
              "     'comment': 'Excellent quality!',\n",
              "     'date': '2024-05-23T08:56:21.619Z',\n",
              "     'reviewerName': 'Lucas Allen',\n",
              "     'reviewerEmail': 'lucas.allen@x.dummyjson.com'}],\n",
              "   'returnPolicy': '60 days return policy',\n",
              "   'minimumOrderQuantity': 5,\n",
              "   'meta': {'createdAt': '2024-05-23T08:56:21.619Z',\n",
              "    'updatedAt': '2024-05-23T08:56:21.619Z',\n",
              "    'barcode': '1435582999795',\n",
              "    'qrCode': 'https://dummyjson.com/public/qr-code.png'},\n",
              "   'images': ['https://cdn.dummyjson.com/products/images/fragrances/Chanel%20Coco%20Noir%20Eau%20De/1.png',\n",
              "    'https://cdn.dummyjson.com/products/images/fragrances/Chanel%20Coco%20Noir%20Eau%20De/2.png',\n",
              "    'https://cdn.dummyjson.com/products/images/fragrances/Chanel%20Coco%20Noir%20Eau%20De/3.png'],\n",
              "   'thumbnail': 'https://cdn.dummyjson.com/products/images/fragrances/Chanel%20Coco%20Noir%20Eau%20De/thumbnail.png'},\n",
              "  {'id': 8,\n",
              "   'title': \"Dior J'adore\",\n",
              "   'description': \"J'adore by Dior is a luxurious and floral fragrance, known for its blend of ylang-ylang, rose, and jasmine. It embodies femininity and sophistication.\",\n",
              "   'category': 'fragrances',\n",
              "   'price': 89.99,\n",
              "   'discountPercentage': 17.44,\n",
              "   'rating': 3.31,\n",
              "   'stock': 91,\n",
              "   'tags': ['fragrances', 'perfumes'],\n",
              "   'brand': 'Dior',\n",
              "   'sku': 'E70NB03B',\n",
              "   'weight': 10,\n",
              "   'dimensions': {'width': 21.51, 'height': 7, 'depth': 26.51},\n",
              "   'warrantyInformation': 'Lifetime warranty',\n",
              "   'shippingInformation': 'Ships in 2 weeks',\n",
              "   'availabilityStatus': 'In Stock',\n",
              "   'reviews': [{'rating': 5,\n",
              "     'comment': 'Fast shipping!',\n",
              "     'date': '2024-05-23T08:56:21.619Z',\n",
              "     'reviewerName': 'Zoe Nicholson',\n",
              "     'reviewerEmail': 'zoe.nicholson@x.dummyjson.com'},\n",
              "    {'rating': 4,\n",
              "     'comment': 'Excellent quality!',\n",
              "     'date': '2024-05-23T08:56:21.619Z',\n",
              "     'reviewerName': 'Addison Wright',\n",
              "     'reviewerEmail': 'addison.wright@x.dummyjson.com'},\n",
              "    {'rating': 4,\n",
              "     'comment': 'Would buy again!',\n",
              "     'date': '2024-05-23T08:56:21.619Z',\n",
              "     'reviewerName': 'Clara Berry',\n",
              "     'reviewerEmail': 'clara.berry@x.dummyjson.com'}],\n",
              "   'returnPolicy': '7 days return policy',\n",
              "   'minimumOrderQuantity': 8,\n",
              "   'meta': {'createdAt': '2024-05-23T08:56:21.619Z',\n",
              "    'updatedAt': '2024-05-23T08:56:21.619Z',\n",
              "    'barcode': '0887083199279',\n",
              "    'qrCode': 'https://dummyjson.com/public/qr-code.png'},\n",
              "   'images': [\"https://cdn.dummyjson.com/products/images/fragrances/Dior%20J'adore/1.png\",\n",
              "    \"https://cdn.dummyjson.com/products/images/fragrances/Dior%20J'adore/2.png\",\n",
              "    \"https://cdn.dummyjson.com/products/images/fragrances/Dior%20J'adore/3.png\"],\n",
              "   'thumbnail': \"https://cdn.dummyjson.com/products/images/fragrances/Dior%20J'adore/thumbnail.png\"},\n",
              "  {'id': 9,\n",
              "   'title': 'Dolce Shine Eau de',\n",
              "   'description': \"Dolce Shine by Dolce & Gabbana is a vibrant and fruity fragrance, featuring notes of mango, jasmine, and blonde woods. It's a joyful and youthful scent.\",\n",
              "   'category': 'fragrances',\n",
              "   'price': 69.99,\n",
              "   'discountPercentage': 11.47,\n",
              "   'rating': 2.68,\n",
              "   'stock': 3,\n",
              "   'tags': ['fragrances', 'perfumes'],\n",
              "   'brand': 'Dolce & Gabbana',\n",
              "   'sku': '1NBFK980',\n",
              "   'weight': 5,\n",
              "   'dimensions': {'width': 17, 'height': 24.57, 'depth': 13.3},\n",
              "   'warrantyInformation': '5 year warranty',\n",
              "   'shippingInformation': 'Ships in 1-2 business days',\n",
              "   'availabilityStatus': 'Low Stock',\n",
              "   'reviews': [{'rating': 4,\n",
              "     'comment': 'Very satisfied!',\n",
              "     'date': '2024-05-23T08:56:21.619Z',\n",
              "     'reviewerName': 'Xavier Wright',\n",
              "     'reviewerEmail': 'xavier.wright@x.dummyjson.com'},\n",
              "    {'rating': 1,\n",
              "     'comment': 'Poor quality!',\n",
              "     'date': '2024-05-23T08:56:21.619Z',\n",
              "     'reviewerName': 'Mila Hernandez',\n",
              "     'reviewerEmail': 'mila.hernandez@x.dummyjson.com'},\n",
              "    {'rating': 5,\n",
              "     'comment': 'Very happy with my purchase!',\n",
              "     'date': '2024-05-23T08:56:21.619Z',\n",
              "     'reviewerName': 'Sophia Brown',\n",
              "     'reviewerEmail': 'sophia.brown@x.dummyjson.com'}],\n",
              "   'returnPolicy': '30 days return policy',\n",
              "   'minimumOrderQuantity': 9,\n",
              "   'meta': {'createdAt': '2024-05-23T08:56:21.619Z',\n",
              "    'updatedAt': '2024-05-23T08:56:21.619Z',\n",
              "    'barcode': '1939383392674',\n",
              "    'qrCode': 'https://dummyjson.com/public/qr-code.png'},\n",
              "   'images': ['https://cdn.dummyjson.com/products/images/fragrances/Dolce%20Shine%20Eau%20de/1.png',\n",
              "    'https://cdn.dummyjson.com/products/images/fragrances/Dolce%20Shine%20Eau%20de/2.png',\n",
              "    'https://cdn.dummyjson.com/products/images/fragrances/Dolce%20Shine%20Eau%20de/3.png'],\n",
              "   'thumbnail': 'https://cdn.dummyjson.com/products/images/fragrances/Dolce%20Shine%20Eau%20de/thumbnail.png'},\n",
              "  {'id': 10,\n",
              "   'title': 'Gucci Bloom Eau de',\n",
              "   'description': \"Gucci Bloom by Gucci is a floral and captivating fragrance, with notes of tuberose, jasmine, and Rangoon creeper. It's a modern and romantic scent.\",\n",
              "   'category': 'fragrances',\n",
              "   'price': 79.99,\n",
              "   'discountPercentage': 8.9,\n",
              "   'rating': 2.69,\n",
              "   'stock': 93,\n",
              "   'tags': ['fragrances', 'perfumes'],\n",
              "   'brand': 'Gucci',\n",
              "   'sku': 'FFKZ6HOF',\n",
              "   'weight': 10,\n",
              "   'dimensions': {'width': 22.28, 'height': 17.81, 'depth': 27.18},\n",
              "   'warrantyInformation': 'No warranty',\n",
              "   'shippingInformation': 'Ships in 2 weeks',\n",
              "   'availabilityStatus': 'In Stock',\n",
              "   'reviews': [{'rating': 5,\n",
              "     'comment': 'Great value for money!',\n",
              "     'date': '2024-05-23T08:56:21.620Z',\n",
              "     'reviewerName': 'Aria Parker',\n",
              "     'reviewerEmail': 'aria.parker@x.dummyjson.com'},\n",
              "    {'rating': 4,\n",
              "     'comment': 'Excellent quality!',\n",
              "     'date': '2024-05-23T08:56:21.620Z',\n",
              "     'reviewerName': 'Natalie Harris',\n",
              "     'reviewerEmail': 'natalie.harris@x.dummyjson.com'},\n",
              "    {'rating': 4,\n",
              "     'comment': 'Fast shipping!',\n",
              "     'date': '2024-05-23T08:56:21.620Z',\n",
              "     'reviewerName': 'Ava Harris',\n",
              "     'reviewerEmail': 'ava.harris@x.dummyjson.com'}],\n",
              "   'returnPolicy': 'No return policy',\n",
              "   'minimumOrderQuantity': 10,\n",
              "   'meta': {'createdAt': '2024-05-23T08:56:21.620Z',\n",
              "    'updatedAt': '2024-05-23T08:56:21.620Z',\n",
              "    'barcode': '8232190382069',\n",
              "    'qrCode': 'https://dummyjson.com/public/qr-code.png'},\n",
              "   'images': ['https://cdn.dummyjson.com/products/images/fragrances/Gucci%20Bloom%20Eau%20de/1.png',\n",
              "    'https://cdn.dummyjson.com/products/images/fragrances/Gucci%20Bloom%20Eau%20de/2.png',\n",
              "    'https://cdn.dummyjson.com/products/images/fragrances/Gucci%20Bloom%20Eau%20de/3.png'],\n",
              "   'thumbnail': 'https://cdn.dummyjson.com/products/images/fragrances/Gucci%20Bloom%20Eau%20de/thumbnail.png'},\n",
              "  {'id': 11,\n",
              "   'title': 'Annibale Colombo Bed',\n",
              "   'description': 'The Annibale Colombo Bed is a luxurious and elegant bed frame, crafted with high-quality materials for a comfortable and stylish bedroom.',\n",
              "   'category': 'furniture',\n",
              "   'price': 1899.99,\n",
              "   'discountPercentage': 0.29,\n",
              "   'rating': 4.14,\n",
              "   'stock': 47,\n",
              "   'tags': ['furniture', 'beds'],\n",
              "   'brand': 'Annibale Colombo',\n",
              "   'sku': '4KMDTZWF',\n",
              "   'weight': 3,\n",
              "   'dimensions': {'width': 28.75, 'height': 26.88, 'depth': 24.47},\n",
              "   'warrantyInformation': '2 year warranty',\n",
              "   'shippingInformation': 'Ships overnight',\n",
              "   'availabilityStatus': 'In Stock',\n",
              "   'reviews': [{'rating': 4,\n",
              "     'comment': 'Great value for money!',\n",
              "     'date': '2024-05-23T08:56:21.620Z',\n",
              "     'reviewerName': 'Julian Newton',\n",
              "     'reviewerEmail': 'julian.newton@x.dummyjson.com'},\n",
              "    {'rating': 5,\n",
              "     'comment': 'Would buy again!',\n",
              "     'date': '2024-05-23T08:56:21.620Z',\n",
              "     'reviewerName': 'Madison Collins',\n",
              "     'reviewerEmail': 'madison.collins@x.dummyjson.com'},\n",
              "    {'rating': 4,\n",
              "     'comment': 'Would buy again!',\n",
              "     'date': '2024-05-23T08:56:21.620Z',\n",
              "     'reviewerName': 'Clara Berry',\n",
              "     'reviewerEmail': 'clara.berry@x.dummyjson.com'}],\n",
              "   'returnPolicy': '7 days return policy',\n",
              "   'minimumOrderQuantity': 1,\n",
              "   'meta': {'createdAt': '2024-05-23T08:56:21.620Z',\n",
              "    'updatedAt': '2024-05-23T08:56:21.620Z',\n",
              "    'barcode': '7113807059215',\n",
              "    'qrCode': 'https://dummyjson.com/public/qr-code.png'},\n",
              "   'images': ['https://cdn.dummyjson.com/products/images/furniture/Annibale%20Colombo%20Bed/1.png',\n",
              "    'https://cdn.dummyjson.com/products/images/furniture/Annibale%20Colombo%20Bed/2.png',\n",
              "    'https://cdn.dummyjson.com/products/images/furniture/Annibale%20Colombo%20Bed/3.png'],\n",
              "   'thumbnail': 'https://cdn.dummyjson.com/products/images/furniture/Annibale%20Colombo%20Bed/thumbnail.png'},\n",
              "  {'id': 12,\n",
              "   'title': 'Annibale Colombo Sofa',\n",
              "   'description': 'The Annibale Colombo Sofa is a sophisticated and comfortable seating option, featuring exquisite design and premium upholstery for your living room.',\n",
              "   'category': 'furniture',\n",
              "   'price': 2499.99,\n",
              "   'discountPercentage': 18.54,\n",
              "   'rating': 3.08,\n",
              "   'stock': 16,\n",
              "   'tags': ['furniture', 'sofas'],\n",
              "   'brand': 'Annibale Colombo',\n",
              "   'sku': 'LUU95CQP',\n",
              "   'weight': 3,\n",
              "   'dimensions': {'width': 20.97, 'height': 19.11, 'depth': 25.81},\n",
              "   'warrantyInformation': '1 month warranty',\n",
              "   'shippingInformation': 'Ships overnight',\n",
              "   'availabilityStatus': 'In Stock',\n",
              "   'reviews': [{'rating': 5,\n",
              "     'comment': 'Very satisfied!',\n",
              "     'date': '2024-05-23T08:56:21.620Z',\n",
              "     'reviewerName': 'Tyler Davis',\n",
              "     'reviewerEmail': 'tyler.davis@x.dummyjson.com'},\n",
              "    {'rating': 5,\n",
              "     'comment': 'Excellent quality!',\n",
              "     'date': '2024-05-23T08:56:21.620Z',\n",
              "     'reviewerName': 'Hannah Robinson',\n",
              "     'reviewerEmail': 'hannah.robinson@x.dummyjson.com'},\n",
              "    {'rating': 3,\n",
              "     'comment': 'Waste of money!',\n",
              "     'date': '2024-05-23T08:56:21.620Z',\n",
              "     'reviewerName': 'Madison Collins',\n",
              "     'reviewerEmail': 'madison.collins@x.dummyjson.com'}],\n",
              "   'returnPolicy': '7 days return policy',\n",
              "   'minimumOrderQuantity': 1,\n",
              "   'meta': {'createdAt': '2024-05-23T08:56:21.620Z',\n",
              "    'updatedAt': '2024-05-23T08:56:21.620Z',\n",
              "    'barcode': '0426785817074',\n",
              "    'qrCode': 'https://dummyjson.com/public/qr-code.png'},\n",
              "   'images': ['https://cdn.dummyjson.com/products/images/furniture/Annibale%20Colombo%20Sofa/1.png',\n",
              "    'https://cdn.dummyjson.com/products/images/furniture/Annibale%20Colombo%20Sofa/2.png',\n",
              "    'https://cdn.dummyjson.com/products/images/furniture/Annibale%20Colombo%20Sofa/3.png'],\n",
              "   'thumbnail': 'https://cdn.dummyjson.com/products/images/furniture/Annibale%20Colombo%20Sofa/thumbnail.png'},\n",
              "  {'id': 13,\n",
              "   'title': 'Bedside Table African Cherry',\n",
              "   'description': 'The Bedside Table in African Cherry is a stylish and functional addition to your bedroom, providing convenient storage space and a touch of elegance.',\n",
              "   'category': 'furniture',\n",
              "   'price': 299.99,\n",
              "   'discountPercentage': 9.58,\n",
              "   'rating': 4.48,\n",
              "   'stock': 16,\n",
              "   'tags': ['furniture', 'bedside tables'],\n",
              "   'brand': 'Furniture Co.',\n",
              "   'sku': 'OWPLTZYX',\n",
              "   'weight': 10,\n",
              "   'dimensions': {'width': 25.43, 'height': 20.2, 'depth': 24.95},\n",
              "   'warrantyInformation': '6 months warranty',\n",
              "   'shippingInformation': 'Ships in 1-2 business days',\n",
              "   'availabilityStatus': 'In Stock',\n",
              "   'reviews': [{'rating': 5,\n",
              "     'comment': 'Very happy with my purchase!',\n",
              "     'date': '2024-05-23T08:56:21.620Z',\n",
              "     'reviewerName': 'John Doe',\n",
              "     'reviewerEmail': 'john.doe@x.dummyjson.com'},\n",
              "    {'rating': 4,\n",
              "     'comment': 'Highly recommended!',\n",
              "     'date': '2024-05-23T08:56:21.620Z',\n",
              "     'reviewerName': 'Avery Carter',\n",
              "     'reviewerEmail': 'avery.carter@x.dummyjson.com'},\n",
              "    {'rating': 4,\n",
              "     'comment': 'Very pleased!',\n",
              "     'date': '2024-05-23T08:56:21.620Z',\n",
              "     'reviewerName': 'Evelyn Sanchez',\n",
              "     'reviewerEmail': 'evelyn.sanchez@x.dummyjson.com'}],\n",
              "   'returnPolicy': 'No return policy',\n",
              "   'minimumOrderQuantity': 5,\n",
              "   'meta': {'createdAt': '2024-05-23T08:56:21.620Z',\n",
              "    'updatedAt': '2024-05-23T08:56:21.620Z',\n",
              "    'barcode': '2913244159666',\n",
              "    'qrCode': 'https://dummyjson.com/public/qr-code.png'},\n",
              "   'images': ['https://cdn.dummyjson.com/products/images/furniture/Bedside%20Table%20African%20Cherry/1.png',\n",
              "    'https://cdn.dummyjson.com/products/images/furniture/Bedside%20Table%20African%20Cherry/2.png',\n",
              "    'https://cdn.dummyjson.com/products/images/furniture/Bedside%20Table%20African%20Cherry/3.png'],\n",
              "   'thumbnail': 'https://cdn.dummyjson.com/products/images/furniture/Bedside%20Table%20African%20Cherry/thumbnail.png'},\n",
              "  {'id': 14,\n",
              "   'title': 'Knoll Saarinen Executive Conference Chair',\n",
              "   'description': 'The Knoll Saarinen Executive Conference Chair is a modern and ergonomic chair, perfect for your office or conference room with its timeless design.',\n",
              "   'category': 'furniture',\n",
              "   'price': 499.99,\n",
              "   'discountPercentage': 15.23,\n",
              "   'rating': 4.11,\n",
              "   'stock': 47,\n",
              "   'tags': ['furniture', 'office chairs'],\n",
              "   'brand': 'Knoll',\n",
              "   'sku': 'RKHVJ4FE',\n",
              "   'weight': 3,\n",
              "   'dimensions': {'width': 16.59, 'height': 21.46, 'depth': 29.07},\n",
              "   'warrantyInformation': 'Lifetime warranty',\n",
              "   'shippingInformation': 'Ships in 3-5 business days',\n",
              "   'availabilityStatus': 'In Stock',\n",
              "   'reviews': [{'rating': 4,\n",
              "     'comment': 'Very happy with my purchase!',\n",
              "     'date': '2024-05-23T08:56:21.620Z',\n",
              "     'reviewerName': 'Leah Gutierrez',\n",
              "     'reviewerEmail': 'leah.gutierrez@x.dummyjson.com'},\n",
              "    {'rating': 4,\n",
              "     'comment': 'Would buy again!',\n",
              "     'date': '2024-05-23T08:56:21.620Z',\n",
              "     'reviewerName': 'Nolan Gonzalez',\n",
              "     'reviewerEmail': 'nolan.gonzalez@x.dummyjson.com'},\n",
              "    {'rating': 2,\n",
              "     'comment': 'Waste of money!',\n",
              "     'date': '2024-05-23T08:56:21.620Z',\n",
              "     'reviewerName': 'Stella Morris',\n",
              "     'reviewerEmail': 'stella.morris@x.dummyjson.com'}],\n",
              "   'returnPolicy': '30 days return policy',\n",
              "   'minimumOrderQuantity': 5,\n",
              "   'meta': {'createdAt': '2024-05-23T08:56:21.620Z',\n",
              "    'updatedAt': '2024-05-23T08:56:21.620Z',\n",
              "    'barcode': '0726316339746',\n",
              "    'qrCode': 'https://dummyjson.com/public/qr-code.png'},\n",
              "   'images': ['https://cdn.dummyjson.com/products/images/furniture/Knoll%20Saarinen%20Executive%20Conference%20Chair/1.png',\n",
              "    'https://cdn.dummyjson.com/products/images/furniture/Knoll%20Saarinen%20Executive%20Conference%20Chair/2.png',\n",
              "    'https://cdn.dummyjson.com/products/images/furniture/Knoll%20Saarinen%20Executive%20Conference%20Chair/3.png'],\n",
              "   'thumbnail': 'https://cdn.dummyjson.com/products/images/furniture/Knoll%20Saarinen%20Executive%20Conference%20Chair/thumbnail.png'},\n",
              "  {'id': 15,\n",
              "   'title': 'Wooden Bathroom Sink With Mirror',\n",
              "   'description': 'The Wooden Bathroom Sink with Mirror is a unique and stylish addition to your bathroom, featuring a wooden sink countertop and a matching mirror.',\n",
              "   'category': 'furniture',\n",
              "   'price': 799.99,\n",
              "   'discountPercentage': 11.22,\n",
              "   'rating': 3.26,\n",
              "   'stock': 95,\n",
              "   'tags': ['furniture', 'bathroom'],\n",
              "   'brand': 'Bath Trends',\n",
              "   'sku': '7OLTIEVO',\n",
              "   'weight': 6,\n",
              "   'dimensions': {'width': 7.32, 'height': 22.64, 'depth': 12.37},\n",
              "   'warrantyInformation': '6 months warranty',\n",
              "   'shippingInformation': 'Ships in 3-5 business days',\n",
              "   'availabilityStatus': 'In Stock',\n",
              "   'reviews': [{'rating': 5,\n",
              "     'comment': 'Highly recommended!',\n",
              "     'date': '2024-05-23T08:56:21.620Z',\n",
              "     'reviewerName': 'Charlotte Lopez',\n",
              "     'reviewerEmail': 'charlotte.lopez@x.dummyjson.com'},\n",
              "    {'rating': 1,\n",
              "     'comment': 'Would not recommend!',\n",
              "     'date': '2024-05-23T08:56:21.620Z',\n",
              "     'reviewerName': 'William Gonzalez',\n",
              "     'reviewerEmail': 'william.gonzalez@x.dummyjson.com'},\n",
              "    {'rating': 2,\n",
              "     'comment': 'Not worth the price!',\n",
              "     'date': '2024-05-23T08:56:21.620Z',\n",
              "     'reviewerName': 'Ava Harrison',\n",
              "     'reviewerEmail': 'ava.harrison@x.dummyjson.com'}],\n",
              "   'returnPolicy': '7 days return policy',\n",
              "   'minimumOrderQuantity': 1,\n",
              "   'meta': {'createdAt': '2024-05-23T08:56:21.620Z',\n",
              "    'updatedAt': '2024-05-23T08:56:21.620Z',\n",
              "    'barcode': '7839797529453',\n",
              "    'qrCode': 'https://dummyjson.com/public/qr-code.png'},\n",
              "   'images': ['https://cdn.dummyjson.com/products/images/furniture/Wooden%20Bathroom%20Sink%20With%20Mirror/1.png',\n",
              "    'https://cdn.dummyjson.com/products/images/furniture/Wooden%20Bathroom%20Sink%20With%20Mirror/2.png',\n",
              "    'https://cdn.dummyjson.com/products/images/furniture/Wooden%20Bathroom%20Sink%20With%20Mirror/3.png'],\n",
              "   'thumbnail': 'https://cdn.dummyjson.com/products/images/furniture/Wooden%20Bathroom%20Sink%20With%20Mirror/thumbnail.png'},\n",
              "  {'id': 16,\n",
              "   'title': 'Apple',\n",
              "   'description': 'Fresh and crisp apples, perfect for snacking or incorporating into various recipes.',\n",
              "   'category': 'groceries',\n",
              "   'price': 1.99,\n",
              "   'discountPercentage': 1.97,\n",
              "   'rating': 2.96,\n",
              "   'stock': 9,\n",
              "   'tags': ['fruits'],\n",
              "   'sku': 'QTROUV79',\n",
              "   'weight': 8,\n",
              "   'dimensions': {'width': 8.29, 'height': 5.58, 'depth': 12.41},\n",
              "   'warrantyInformation': '2 year warranty',\n",
              "   'shippingInformation': 'Ships in 2 weeks',\n",
              "   'availabilityStatus': 'In Stock',\n",
              "   'reviews': [{'rating': 4,\n",
              "     'comment': 'Great product!',\n",
              "     'date': '2024-05-23T08:56:21.620Z',\n",
              "     'reviewerName': 'Logan Lee',\n",
              "     'reviewerEmail': 'logan.lee@x.dummyjson.com'},\n",
              "    {'rating': 4,\n",
              "     'comment': 'Great product!',\n",
              "     'date': '2024-05-23T08:56:21.620Z',\n",
              "     'reviewerName': 'Elena Long',\n",
              "     'reviewerEmail': 'elena.long@x.dummyjson.com'},\n",
              "    {'rating': 1,\n",
              "     'comment': 'Not as described!',\n",
              "     'date': '2024-05-23T08:56:21.620Z',\n",
              "     'reviewerName': 'Grayson Coleman',\n",
              "     'reviewerEmail': 'grayson.coleman@x.dummyjson.com'}],\n",
              "   'returnPolicy': '60 days return policy',\n",
              "   'minimumOrderQuantity': 44,\n",
              "   'meta': {'createdAt': '2024-05-23T08:56:21.620Z',\n",
              "    'updatedAt': '2024-05-23T08:56:21.620Z',\n",
              "    'barcode': '2517819903837',\n",
              "    'qrCode': 'https://dummyjson.com/public/qr-code.png'},\n",
              "   'images': ['https://cdn.dummyjson.com/products/images/groceries/Apple/1.png'],\n",
              "   'thumbnail': 'https://cdn.dummyjson.com/products/images/groceries/Apple/thumbnail.png'},\n",
              "  {'id': 17,\n",
              "   'title': 'Beef Steak',\n",
              "   'description': 'High-quality beef steak, great for grilling or cooking to your preferred level of doneness.',\n",
              "   'category': 'groceries',\n",
              "   'price': 12.99,\n",
              "   'discountPercentage': 17.99,\n",
              "   'rating': 2.83,\n",
              "   'stock': 96,\n",
              "   'tags': ['meat'],\n",
              "   'sku': 'BWWA2MSO',\n",
              "   'weight': 9,\n",
              "   'dimensions': {'width': 23.35, 'height': 13.48, 'depth': 26.4},\n",
              "   'warrantyInformation': '1 month warranty',\n",
              "   'shippingInformation': 'Ships overnight',\n",
              "   'availabilityStatus': 'In Stock',\n",
              "   'reviews': [{'rating': 4,\n",
              "     'comment': 'Very pleased!',\n",
              "     'date': '2024-05-23T08:56:21.620Z',\n",
              "     'reviewerName': 'Ethan Martinez',\n",
              "     'reviewerEmail': 'ethan.martinez@x.dummyjson.com'},\n",
              "    {'rating': 3,\n",
              "     'comment': 'Disappointing product!',\n",
              "     'date': '2024-05-23T08:56:21.620Z',\n",
              "     'reviewerName': 'Owen Fisher',\n",
              "     'reviewerEmail': 'owen.fisher@x.dummyjson.com'},\n",
              "    {'rating': 4,\n",
              "     'comment': 'Very happy with my purchase!',\n",
              "     'date': '2024-05-23T08:56:21.620Z',\n",
              "     'reviewerName': 'Scarlett Wright',\n",
              "     'reviewerEmail': 'scarlett.wright@x.dummyjson.com'}],\n",
              "   'returnPolicy': '90 days return policy',\n",
              "   'minimumOrderQuantity': 21,\n",
              "   'meta': {'createdAt': '2024-05-23T08:56:21.620Z',\n",
              "    'updatedAt': '2024-05-23T08:56:21.620Z',\n",
              "    'barcode': '8335515097879',\n",
              "    'qrCode': 'https://dummyjson.com/public/qr-code.png'},\n",
              "   'images': ['https://cdn.dummyjson.com/products/images/groceries/Beef%20Steak/1.png'],\n",
              "   'thumbnail': 'https://cdn.dummyjson.com/products/images/groceries/Beef%20Steak/thumbnail.png'},\n",
              "  {'id': 18,\n",
              "   'title': 'Cat Food',\n",
              "   'description': 'Nutritious cat food formulated to meet the dietary needs of your feline friend.',\n",
              "   'category': 'groceries',\n",
              "   'price': 8.99,\n",
              "   'discountPercentage': 9.57,\n",
              "   'rating': 2.88,\n",
              "   'stock': 13,\n",
              "   'tags': ['pet supplies', 'cat food'],\n",
              "   'sku': 'C3F8QN6O',\n",
              "   'weight': 9,\n",
              "   'dimensions': {'width': 15.4, 'height': 13.97, 'depth': 25.13},\n",
              "   'warrantyInformation': '3 months warranty',\n",
              "   'shippingInformation': 'Ships in 1-2 business days',\n",
              "   'availabilityStatus': 'In Stock',\n",
              "   'reviews': [{'rating': 5,\n",
              "     'comment': 'Very pleased!',\n",
              "     'date': '2024-05-23T08:56:21.620Z',\n",
              "     'reviewerName': 'Mateo Bennett',\n",
              "     'reviewerEmail': 'mateo.bennett@x.dummyjson.com'},\n",
              "    {'rating': 5,\n",
              "     'comment': 'Very pleased!',\n",
              "     'date': '2024-05-23T08:56:21.620Z',\n",
              "     'reviewerName': 'Aurora Barnes',\n",
              "     'reviewerEmail': 'aurora.barnes@x.dummyjson.com'},\n",
              "    {'rating': 5,\n",
              "     'comment': 'Great value for money!',\n",
              "     'date': '2024-05-23T08:56:21.620Z',\n",
              "     'reviewerName': 'Ellie Stewart',\n",
              "     'reviewerEmail': 'ellie.stewart@x.dummyjson.com'}],\n",
              "   'returnPolicy': '7 days return policy',\n",
              "   'minimumOrderQuantity': 48,\n",
              "   'meta': {'createdAt': '2024-05-23T08:56:21.620Z',\n",
              "    'updatedAt': '2024-05-23T08:56:21.620Z',\n",
              "    'barcode': '5503491330693',\n",
              "    'qrCode': 'https://dummyjson.com/public/qr-code.png'},\n",
              "   'images': ['https://cdn.dummyjson.com/products/images/groceries/Cat%20Food/1.png'],\n",
              "   'thumbnail': 'https://cdn.dummyjson.com/products/images/groceries/Cat%20Food/thumbnail.png'},\n",
              "  {'id': 19,\n",
              "   'title': 'Chicken Meat',\n",
              "   'description': 'Fresh and tender chicken meat, suitable for various culinary preparations.',\n",
              "   'category': 'groceries',\n",
              "   'price': 9.99,\n",
              "   'discountPercentage': 10.46,\n",
              "   'rating': 4.61,\n",
              "   'stock': 69,\n",
              "   'tags': ['meat'],\n",
              "   'sku': 'G5YEHW7B',\n",
              "   'weight': 7,\n",
              "   'dimensions': {'width': 15.96, 'height': 29.24, 'depth': 26.25},\n",
              "   'warrantyInformation': 'Lifetime warranty',\n",
              "   'shippingInformation': 'Ships in 1 month',\n",
              "   'availabilityStatus': 'In Stock',\n",
              "   'reviews': [{'rating': 5,\n",
              "     'comment': 'Very satisfied!',\n",
              "     'date': '2024-05-23T08:56:21.620Z',\n",
              "     'reviewerName': 'Sophia Jones',\n",
              "     'reviewerEmail': 'sophia.jones@x.dummyjson.com'},\n",
              "    {'rating': 5,\n",
              "     'comment': 'Great value for money!',\n",
              "     'date': '2024-05-23T08:56:21.620Z',\n",
              "     'reviewerName': 'Maya Reed',\n",
              "     'reviewerEmail': 'maya.reed@x.dummyjson.com'},\n",
              "    {'rating': 4,\n",
              "     'comment': 'Highly recommended!',\n",
              "     'date': '2024-05-23T08:56:21.620Z',\n",
              "     'reviewerName': 'Harper Turner',\n",
              "     'reviewerEmail': 'harper.turner@x.dummyjson.com'}],\n",
              "   'returnPolicy': '7 days return policy',\n",
              "   'minimumOrderQuantity': 46,\n",
              "   'meta': {'createdAt': '2024-05-23T08:56:21.620Z',\n",
              "    'updatedAt': '2024-05-23T08:56:21.620Z',\n",
              "    'barcode': '0966223559510',\n",
              "    'qrCode': 'https://dummyjson.com/public/qr-code.png'},\n",
              "   'images': ['https://cdn.dummyjson.com/products/images/groceries/Chicken%20Meat/1.png',\n",
              "    'https://cdn.dummyjson.com/products/images/groceries/Chicken%20Meat/2.png'],\n",
              "   'thumbnail': 'https://cdn.dummyjson.com/products/images/groceries/Chicken%20Meat/thumbnail.png'},\n",
              "  {'id': 20,\n",
              "   'title': 'Cooking Oil',\n",
              "   'description': 'Versatile cooking oil suitable for frying, sautéing, and various culinary applications.',\n",
              "   'category': 'groceries',\n",
              "   'price': 4.99,\n",
              "   'discountPercentage': 18.89,\n",
              "   'rating': 4.01,\n",
              "   'stock': 22,\n",
              "   'tags': ['cooking essentials'],\n",
              "   'sku': 'Q6ZP1UY8',\n",
              "   'weight': 8,\n",
              "   'dimensions': {'width': 8.18, 'height': 27.45, 'depth': 27.88},\n",
              "   'warrantyInformation': 'Lifetime warranty',\n",
              "   'shippingInformation': 'Ships in 1 month',\n",
              "   'availabilityStatus': 'In Stock',\n",
              "   'reviews': [{'rating': 5,\n",
              "     'comment': 'Would buy again!',\n",
              "     'date': '2024-05-23T08:56:21.620Z',\n",
              "     'reviewerName': 'Mason Parker',\n",
              "     'reviewerEmail': 'mason.parker@x.dummyjson.com'},\n",
              "    {'rating': 3,\n",
              "     'comment': 'Poor quality!',\n",
              "     'date': '2024-05-23T08:56:21.620Z',\n",
              "     'reviewerName': 'Jonathan Pierce',\n",
              "     'reviewerEmail': 'jonathan.pierce@x.dummyjson.com'},\n",
              "    {'rating': 5,\n",
              "     'comment': 'Would buy again!',\n",
              "     'date': '2024-05-23T08:56:21.620Z',\n",
              "     'reviewerName': 'Alexander Hernandez',\n",
              "     'reviewerEmail': 'alexander.hernandez@x.dummyjson.com'}],\n",
              "   'returnPolicy': '60 days return policy',\n",
              "   'minimumOrderQuantity': 2,\n",
              "   'meta': {'createdAt': '2024-05-23T08:56:21.620Z',\n",
              "    'updatedAt': '2024-05-23T08:56:21.620Z',\n",
              "    'barcode': '6707669443381',\n",
              "    'qrCode': 'https://dummyjson.com/public/qr-code.png'},\n",
              "   'images': ['https://cdn.dummyjson.com/products/images/groceries/Cooking%20Oil/1.png'],\n",
              "   'thumbnail': 'https://cdn.dummyjson.com/products/images/groceries/Cooking%20Oil/thumbnail.png'},\n",
              "  {'id': 21,\n",
              "   'title': 'Cucumber',\n",
              "   'description': 'Crisp and hydrating cucumbers, ideal for salads, snacks, or as a refreshing side.',\n",
              "   'category': 'groceries',\n",
              "   'price': 1.49,\n",
              "   'discountPercentage': 11.44,\n",
              "   'rating': 4.71,\n",
              "   'stock': 22,\n",
              "   'tags': ['vegetables'],\n",
              "   'sku': '6KGF2K6Z',\n",
              "   'weight': 9,\n",
              "   'dimensions': {'width': 11.04, 'height': 20.5, 'depth': 8.18},\n",
              "   'warrantyInformation': '5 year warranty',\n",
              "   'shippingInformation': 'Ships overnight',\n",
              "   'availabilityStatus': 'In Stock',\n",
              "   'reviews': [{'rating': 4,\n",
              "     'comment': 'Very satisfied!',\n",
              "     'date': '2024-05-23T08:56:21.620Z',\n",
              "     'reviewerName': 'Elijah Hill',\n",
              "     'reviewerEmail': 'elijah.hill@x.dummyjson.com'},\n",
              "    {'rating': 5,\n",
              "     'comment': 'Fast shipping!',\n",
              "     'date': '2024-05-23T08:56:21.620Z',\n",
              "     'reviewerName': 'Liam Garcia',\n",
              "     'reviewerEmail': 'liam.garcia@x.dummyjson.com'},\n",
              "    {'rating': 4,\n",
              "     'comment': 'Excellent quality!',\n",
              "     'date': '2024-05-23T08:56:21.620Z',\n",
              "     'reviewerName': 'Ella Cook',\n",
              "     'reviewerEmail': 'ella.cook@x.dummyjson.com'}],\n",
              "   'returnPolicy': '30 days return policy',\n",
              "   'minimumOrderQuantity': 7,\n",
              "   'meta': {'createdAt': '2024-05-23T08:56:21.620Z',\n",
              "    'updatedAt': '2024-05-23T08:56:21.620Z',\n",
              "    'barcode': '2597004869708',\n",
              "    'qrCode': 'https://dummyjson.com/public/qr-code.png'},\n",
              "   'images': ['https://cdn.dummyjson.com/products/images/groceries/Cucumber/1.png'],\n",
              "   'thumbnail': 'https://cdn.dummyjson.com/products/images/groceries/Cucumber/thumbnail.png'},\n",
              "  {'id': 22,\n",
              "   'title': 'Dog Food',\n",
              "   'description': 'Specially formulated dog food designed to provide essential nutrients for your canine companion.',\n",
              "   'category': 'groceries',\n",
              "   'price': 10.99,\n",
              "   'discountPercentage': 18.15,\n",
              "   'rating': 2.74,\n",
              "   'stock': 40,\n",
              "   'tags': ['pet supplies', 'dog food'],\n",
              "   'sku': 'A6QRCH37',\n",
              "   'weight': 2,\n",
              "   'dimensions': {'width': 29.39, 'height': 29.77, 'depth': 20.54},\n",
              "   'warrantyInformation': '1 year warranty',\n",
              "   'shippingInformation': 'Ships in 1 month',\n",
              "   'availabilityStatus': 'In Stock',\n",
              "   'reviews': [{'rating': 5,\n",
              "     'comment': 'Highly impressed!',\n",
              "     'date': '2024-05-23T08:56:21.620Z',\n",
              "     'reviewerName': 'Leo Rivera',\n",
              "     'reviewerEmail': 'leo.rivera@x.dummyjson.com'},\n",
              "    {'rating': 4,\n",
              "     'comment': 'Highly recommended!',\n",
              "     'date': '2024-05-23T08:56:21.620Z',\n",
              "     'reviewerName': 'Alexander Jones',\n",
              "     'reviewerEmail': 'alexander.jones@x.dummyjson.com'},\n",
              "    {'rating': 4,\n",
              "     'comment': 'Would buy again!',\n",
              "     'date': '2024-05-23T08:56:21.620Z',\n",
              "     'reviewerName': 'Addison Wright',\n",
              "     'reviewerEmail': 'addison.wright@x.dummyjson.com'}],\n",
              "   'returnPolicy': '90 days return policy',\n",
              "   'minimumOrderQuantity': 29,\n",
              "   'meta': {'createdAt': '2024-05-23T08:56:21.620Z',\n",
              "    'updatedAt': '2024-05-23T08:56:21.620Z',\n",
              "    'barcode': '7957222289508',\n",
              "    'qrCode': 'https://dummyjson.com/public/qr-code.png'},\n",
              "   'images': ['https://cdn.dummyjson.com/products/images/groceries/Dog%20Food/1.png'],\n",
              "   'thumbnail': 'https://cdn.dummyjson.com/products/images/groceries/Dog%20Food/thumbnail.png'},\n",
              "  {'id': 23,\n",
              "   'title': 'Eggs',\n",
              "   'description': 'Fresh eggs, a versatile ingredient for baking, cooking, or breakfast.',\n",
              "   'category': 'groceries',\n",
              "   'price': 2.99,\n",
              "   'discountPercentage': 5.8,\n",
              "   'rating': 4.46,\n",
              "   'stock': 10,\n",
              "   'tags': ['dairy'],\n",
              "   'sku': 'YA617RI7',\n",
              "   'weight': 4,\n",
              "   'dimensions': {'width': 12.3, 'height': 10.99, 'depth': 15.53},\n",
              "   'warrantyInformation': '3 year warranty',\n",
              "   'shippingInformation': 'Ships overnight',\n",
              "   'availabilityStatus': 'In Stock',\n",
              "   'reviews': [{'rating': 2,\n",
              "     'comment': 'Very unhappy with my purchase!',\n",
              "     'date': '2024-05-23T08:56:21.620Z',\n",
              "     'reviewerName': 'Mateo Perez',\n",
              "     'reviewerEmail': 'mateo.perez@x.dummyjson.com'},\n",
              "    {'rating': 4,\n",
              "     'comment': 'Very happy with my purchase!',\n",
              "     'date': '2024-05-23T08:56:21.620Z',\n",
              "     'reviewerName': 'Cameron Perez',\n",
              "     'reviewerEmail': 'cameron.perez@x.dummyjson.com'},\n",
              "    {'rating': 5,\n",
              "     'comment': 'Very happy with my purchase!',\n",
              "     'date': '2024-05-23T08:56:21.620Z',\n",
              "     'reviewerName': 'Aurora Barnes',\n",
              "     'reviewerEmail': 'aurora.barnes@x.dummyjson.com'}],\n",
              "   'returnPolicy': '30 days return policy',\n",
              "   'minimumOrderQuantity': 43,\n",
              "   'meta': {'createdAt': '2024-05-23T08:56:21.620Z',\n",
              "    'updatedAt': '2024-05-23T08:56:21.620Z',\n",
              "    'barcode': '7095702028776',\n",
              "    'qrCode': 'https://dummyjson.com/public/qr-code.png'},\n",
              "   'images': ['https://cdn.dummyjson.com/products/images/groceries/Eggs/1.png'],\n",
              "   'thumbnail': 'https://cdn.dummyjson.com/products/images/groceries/Eggs/thumbnail.png'},\n",
              "  {'id': 24,\n",
              "   'title': 'Fish Steak',\n",
              "   'description': 'Quality fish steak, suitable for grilling, baking, or pan-searing.',\n",
              "   'category': 'groceries',\n",
              "   'price': 14.99,\n",
              "   'discountPercentage': 7,\n",
              "   'rating': 4.83,\n",
              "   'stock': 99,\n",
              "   'tags': ['seafood'],\n",
              "   'sku': 'XNIH1MTA',\n",
              "   'weight': 8,\n",
              "   'dimensions': {'width': 20.14, 'height': 8.4, 'depth': 10.01},\n",
              "   'warrantyInformation': '1 year warranty',\n",
              "   'shippingInformation': 'Ships in 1 month',\n",
              "   'availabilityStatus': 'In Stock',\n",
              "   'reviews': [{'rating': 5,\n",
              "     'comment': 'Great value for money!',\n",
              "     'date': '2024-05-23T08:56:21.620Z',\n",
              "     'reviewerName': 'Michael Johnson',\n",
              "     'reviewerEmail': 'michael.johnson@x.dummyjson.com'},\n",
              "    {'rating': 4,\n",
              "     'comment': 'Would buy again!',\n",
              "     'date': '2024-05-23T08:56:21.620Z',\n",
              "     'reviewerName': 'Julian Newton',\n",
              "     'reviewerEmail': 'julian.newton@x.dummyjson.com'},\n",
              "    {'rating': 5,\n",
              "     'comment': 'Excellent quality!',\n",
              "     'date': '2024-05-23T08:56:21.620Z',\n",
              "     'reviewerName': 'Lila Hudson',\n",
              "     'reviewerEmail': 'lila.hudson@x.dummyjson.com'}],\n",
              "   'returnPolicy': '30 days return policy',\n",
              "   'minimumOrderQuantity': 49,\n",
              "   'meta': {'createdAt': '2024-05-23T08:56:21.620Z',\n",
              "    'updatedAt': '2024-05-23T08:56:21.620Z',\n",
              "    'barcode': '4250692197342',\n",
              "    'qrCode': 'https://dummyjson.com/public/qr-code.png'},\n",
              "   'images': ['https://cdn.dummyjson.com/products/images/groceries/Fish%20Steak/1.png'],\n",
              "   'thumbnail': 'https://cdn.dummyjson.com/products/images/groceries/Fish%20Steak/thumbnail.png'},\n",
              "  {'id': 25,\n",
              "   'title': 'Green Bell Pepper',\n",
              "   'description': 'Fresh and vibrant green bell pepper, perfect for adding color and flavor to your dishes.',\n",
              "   'category': 'groceries',\n",
              "   'price': 1.29,\n",
              "   'discountPercentage': 15.5,\n",
              "   'rating': 4.28,\n",
              "   'stock': 89,\n",
              "   'tags': ['vegetables'],\n",
              "   'sku': 'HU7S7VQ0',\n",
              "   'weight': 7,\n",
              "   'dimensions': {'width': 7.32, 'height': 14.31, 'depth': 21.38},\n",
              "   'warrantyInformation': '5 year warranty',\n",
              "   'shippingInformation': 'Ships overnight',\n",
              "   'availabilityStatus': 'In Stock',\n",
              "   'reviews': [{'rating': 4,\n",
              "     'comment': 'Excellent quality!',\n",
              "     'date': '2024-05-23T08:56:21.620Z',\n",
              "     'reviewerName': 'Maya Reed',\n",
              "     'reviewerEmail': 'maya.reed@x.dummyjson.com'},\n",
              "    {'rating': 4,\n",
              "     'comment': 'Would buy again!',\n",
              "     'date': '2024-05-23T08:56:21.620Z',\n",
              "     'reviewerName': 'Madison Collins',\n",
              "     'reviewerEmail': 'madison.collins@x.dummyjson.com'},\n",
              "    {'rating': 5,\n",
              "     'comment': 'Would buy again!',\n",
              "     'date': '2024-05-23T08:56:21.620Z',\n",
              "     'reviewerName': 'Ethan Thompson',\n",
              "     'reviewerEmail': 'ethan.thompson@x.dummyjson.com'}],\n",
              "   'returnPolicy': '30 days return policy',\n",
              "   'minimumOrderQuantity': 1,\n",
              "   'meta': {'createdAt': '2024-05-23T08:56:21.620Z',\n",
              "    'updatedAt': '2024-05-23T08:56:21.620Z',\n",
              "    'barcode': '7583442707568',\n",
              "    'qrCode': 'https://dummyjson.com/public/qr-code.png'},\n",
              "   'images': ['https://cdn.dummyjson.com/products/images/groceries/Green%20Bell%20Pepper/1.png'],\n",
              "   'thumbnail': 'https://cdn.dummyjson.com/products/images/groceries/Green%20Bell%20Pepper/thumbnail.png'},\n",
              "  {'id': 26,\n",
              "   'title': 'Green Chili Pepper',\n",
              "   'description': 'Spicy green chili pepper, ideal for adding heat to your favorite recipes.',\n",
              "   'category': 'groceries',\n",
              "   'price': 0.99,\n",
              "   'discountPercentage': 18.51,\n",
              "   'rating': 4.43,\n",
              "   'stock': 8,\n",
              "   'tags': ['vegetables'],\n",
              "   'sku': 'Y4RM3JCB',\n",
              "   'weight': 2,\n",
              "   'dimensions': {'width': 18.67, 'height': 21.17, 'depth': 25.26},\n",
              "   'warrantyInformation': 'No warranty',\n",
              "   'shippingInformation': 'Ships in 1-2 business days',\n",
              "   'availabilityStatus': 'In Stock',\n",
              "   'reviews': [{'rating': 2,\n",
              "     'comment': 'Disappointing product!',\n",
              "     'date': '2024-05-23T08:56:21.620Z',\n",
              "     'reviewerName': 'Mateo Bennett',\n",
              "     'reviewerEmail': 'mateo.bennett@x.dummyjson.com'},\n",
              "    {'rating': 5,\n",
              "     'comment': 'Very pleased!',\n",
              "     'date': '2024-05-23T08:56:21.620Z',\n",
              "     'reviewerName': 'Natalie Price',\n",
              "     'reviewerEmail': 'natalie.price@x.dummyjson.com'},\n",
              "    {'rating': 4,\n",
              "     'comment': 'Very satisfied!',\n",
              "     'date': '2024-05-23T08:56:21.620Z',\n",
              "     'reviewerName': 'Avery Barnes',\n",
              "     'reviewerEmail': 'avery.barnes@x.dummyjson.com'}],\n",
              "   'returnPolicy': '30 days return policy',\n",
              "   'minimumOrderQuantity': 43,\n",
              "   'meta': {'createdAt': '2024-05-23T08:56:21.620Z',\n",
              "    'updatedAt': '2024-05-23T08:56:21.620Z',\n",
              "    'barcode': '8400326844874',\n",
              "    'qrCode': 'https://dummyjson.com/public/qr-code.png'},\n",
              "   'images': ['https://cdn.dummyjson.com/products/images/groceries/Green%20Chili%20Pepper/1.png'],\n",
              "   'thumbnail': 'https://cdn.dummyjson.com/products/images/groceries/Green%20Chili%20Pepper/thumbnail.png'},\n",
              "  {'id': 27,\n",
              "   'title': 'Honey Jar',\n",
              "   'description': 'Pure and natural honey in a convenient jar, perfect for sweetening beverages or drizzling over food.',\n",
              "   'category': 'groceries',\n",
              "   'price': 6.99,\n",
              "   'discountPercentage': 1.91,\n",
              "   'rating': 3.5,\n",
              "   'stock': 25,\n",
              "   'tags': ['condiments'],\n",
              "   'sku': 'BTBNIIOU',\n",
              "   'weight': 9,\n",
              "   'dimensions': {'width': 26.53, 'height': 27.11, 'depth': 6.63},\n",
              "   'warrantyInformation': '2 year warranty',\n",
              "   'shippingInformation': 'Ships overnight',\n",
              "   'availabilityStatus': 'In Stock',\n",
              "   'reviews': [{'rating': 4,\n",
              "     'comment': 'Fast shipping!',\n",
              "     'date': '2024-05-23T08:56:21.620Z',\n",
              "     'reviewerName': 'Nicholas Bailey',\n",
              "     'reviewerEmail': 'nicholas.bailey@x.dummyjson.com'},\n",
              "    {'rating': 5,\n",
              "     'comment': 'Awesome product!',\n",
              "     'date': '2024-05-23T08:56:21.620Z',\n",
              "     'reviewerName': 'Gabriel Hayes',\n",
              "     'reviewerEmail': 'gabriel.hayes@x.dummyjson.com'},\n",
              "    {'rating': 5,\n",
              "     'comment': 'Highly impressed!',\n",
              "     'date': '2024-05-23T08:56:21.620Z',\n",
              "     'reviewerName': 'James Garcia',\n",
              "     'reviewerEmail': 'james.garcia@x.dummyjson.com'}],\n",
              "   'returnPolicy': '90 days return policy',\n",
              "   'minimumOrderQuantity': 1,\n",
              "   'meta': {'createdAt': '2024-05-23T08:56:21.620Z',\n",
              "    'updatedAt': '2024-05-23T08:56:21.620Z',\n",
              "    'barcode': '0668665656044',\n",
              "    'qrCode': 'https://dummyjson.com/public/qr-code.png'},\n",
              "   'images': ['https://cdn.dummyjson.com/products/images/groceries/Honey%20Jar/1.png'],\n",
              "   'thumbnail': 'https://cdn.dummyjson.com/products/images/groceries/Honey%20Jar/thumbnail.png'},\n",
              "  {'id': 28,\n",
              "   'title': 'Ice Cream',\n",
              "   'description': 'Creamy and delicious ice cream, available in various flavors for a delightful treat.',\n",
              "   'category': 'groceries',\n",
              "   'price': 5.49,\n",
              "   'discountPercentage': 7.58,\n",
              "   'rating': 3.77,\n",
              "   'stock': 76,\n",
              "   'tags': ['desserts'],\n",
              "   'sku': 'VEZMU1EQ',\n",
              "   'weight': 5,\n",
              "   'dimensions': {'width': 17.66, 'height': 24.49, 'depth': 25.98},\n",
              "   'warrantyInformation': '2 year warranty',\n",
              "   'shippingInformation': 'Ships in 2 weeks',\n",
              "   'availabilityStatus': 'In Stock',\n",
              "   'reviews': [{'rating': 5,\n",
              "     'comment': 'Great product!',\n",
              "     'date': '2024-05-23T08:56:21.620Z',\n",
              "     'reviewerName': 'Elena Baker',\n",
              "     'reviewerEmail': 'elena.baker@x.dummyjson.com'},\n",
              "    {'rating': 5,\n",
              "     'comment': 'Highly impressed!',\n",
              "     'date': '2024-05-23T08:56:21.620Z',\n",
              "     'reviewerName': 'Madeline Simpson',\n",
              "     'reviewerEmail': 'madeline.simpson@x.dummyjson.com'},\n",
              "    {'rating': 5,\n",
              "     'comment': 'Very happy with my purchase!',\n",
              "     'date': '2024-05-23T08:56:21.620Z',\n",
              "     'reviewerName': 'Caleb Nelson',\n",
              "     'reviewerEmail': 'caleb.nelson@x.dummyjson.com'}],\n",
              "   'returnPolicy': 'No return policy',\n",
              "   'minimumOrderQuantity': 19,\n",
              "   'meta': {'createdAt': '2024-05-23T08:56:21.620Z',\n",
              "    'updatedAt': '2024-05-23T08:56:21.620Z',\n",
              "    'barcode': '9603960319256',\n",
              "    'qrCode': 'https://dummyjson.com/public/qr-code.png'},\n",
              "   'images': ['https://cdn.dummyjson.com/products/images/groceries/Ice%20Cream/1.png',\n",
              "    'https://cdn.dummyjson.com/products/images/groceries/Ice%20Cream/2.png',\n",
              "    'https://cdn.dummyjson.com/products/images/groceries/Ice%20Cream/3.png',\n",
              "    'https://cdn.dummyjson.com/products/images/groceries/Ice%20Cream/4.png'],\n",
              "   'thumbnail': 'https://cdn.dummyjson.com/products/images/groceries/Ice%20Cream/thumbnail.png'},\n",
              "  {'id': 29,\n",
              "   'title': 'Juice',\n",
              "   'description': 'Refreshing fruit juice, packed with vitamins and great for staying hydrated.',\n",
              "   'category': 'groceries',\n",
              "   'price': 3.99,\n",
              "   'discountPercentage': 5.45,\n",
              "   'rating': 3.41,\n",
              "   'stock': 99,\n",
              "   'tags': ['beverages'],\n",
              "   'sku': 'M2K19S06',\n",
              "   'weight': 2,\n",
              "   'dimensions': {'width': 8.97, 'height': 12.26, 'depth': 15.05},\n",
              "   'warrantyInformation': '1 week warranty',\n",
              "   'shippingInformation': 'Ships in 1-2 business days',\n",
              "   'availabilityStatus': 'In Stock',\n",
              "   'reviews': [{'rating': 4,\n",
              "     'comment': 'Very satisfied!',\n",
              "     'date': '2024-05-23T08:56:21.620Z',\n",
              "     'reviewerName': 'Leo Rivera',\n",
              "     'reviewerEmail': 'leo.rivera@x.dummyjson.com'},\n",
              "    {'rating': 2,\n",
              "     'comment': 'Not worth the price!',\n",
              "     'date': '2024-05-23T08:56:21.620Z',\n",
              "     'reviewerName': 'Ethan Martinez',\n",
              "     'reviewerEmail': 'ethan.martinez@x.dummyjson.com'},\n",
              "    {'rating': 4,\n",
              "     'comment': 'Excellent quality!',\n",
              "     'date': '2024-05-23T08:56:21.620Z',\n",
              "     'reviewerName': 'Max Parker',\n",
              "     'reviewerEmail': 'max.parker@x.dummyjson.com'}],\n",
              "   'returnPolicy': '90 days return policy',\n",
              "   'minimumOrderQuantity': 26,\n",
              "   'meta': {'createdAt': '2024-05-23T08:56:21.620Z',\n",
              "    'updatedAt': '2024-05-23T08:56:21.620Z',\n",
              "    'barcode': '8546824122355',\n",
              "    'qrCode': 'https://dummyjson.com/public/qr-code.png'},\n",
              "   'images': ['https://cdn.dummyjson.com/products/images/groceries/Juice/1.png'],\n",
              "   'thumbnail': 'https://cdn.dummyjson.com/products/images/groceries/Juice/thumbnail.png'},\n",
              "  {'id': 30,\n",
              "   'title': 'Kiwi',\n",
              "   'description': 'Nutrient-rich kiwi, perfect for snacking or adding a tropical twist to your dishes.',\n",
              "   'category': 'groceries',\n",
              "   'price': 2.49,\n",
              "   'discountPercentage': 10.32,\n",
              "   'rating': 4.37,\n",
              "   'stock': 1,\n",
              "   'tags': ['fruits'],\n",
              "   'sku': '0X3NORB9',\n",
              "   'weight': 8,\n",
              "   'dimensions': {'width': 27.3, 'height': 7.48, 'depth': 15.08},\n",
              "   'warrantyInformation': '6 months warranty',\n",
              "   'shippingInformation': 'Ships in 3-5 business days',\n",
              "   'availabilityStatus': 'Low Stock',\n",
              "   'reviews': [{'rating': 5,\n",
              "     'comment': 'Very pleased!',\n",
              "     'date': '2024-05-23T08:56:21.620Z',\n",
              "     'reviewerName': 'Nora Russell',\n",
              "     'reviewerEmail': 'nora.russell@x.dummyjson.com'},\n",
              "    {'rating': 5,\n",
              "     'comment': 'Very pleased!',\n",
              "     'date': '2024-05-23T08:56:21.620Z',\n",
              "     'reviewerName': 'Dylan Wells',\n",
              "     'reviewerEmail': 'dylan.wells@x.dummyjson.com'},\n",
              "    {'rating': 5,\n",
              "     'comment': 'Great product!',\n",
              "     'date': '2024-05-23T08:56:21.620Z',\n",
              "     'reviewerName': 'Noah Hernandez',\n",
              "     'reviewerEmail': 'noah.hernandez@x.dummyjson.com'}],\n",
              "   'returnPolicy': '7 days return policy',\n",
              "   'minimumOrderQuantity': 8,\n",
              "   'meta': {'createdAt': '2024-05-23T08:56:21.620Z',\n",
              "    'updatedAt': '2024-05-23T08:56:21.620Z',\n",
              "    'barcode': '3325493172934',\n",
              "    'qrCode': 'https://dummyjson.com/public/qr-code.png'},\n",
              "   'images': ['https://cdn.dummyjson.com/products/images/groceries/Kiwi/1.png'],\n",
              "   'thumbnail': 'https://cdn.dummyjson.com/products/images/groceries/Kiwi/thumbnail.png'}],\n",
              " 'total': 194,\n",
              " 'skip': 0,\n",
              " 'limit': 30}"
            ]
          },
          "execution_count": 118,
          "metadata": {},
          "output_type": "execute_result"
        }
      ],
      "source": [
        "retorno = requests.get(\"https://dummyjson.com/products\")\n",
        "products = json.loads(retorno.content)\n",
        "products"
      ]
    },
    {
      "cell_type": "code",
      "execution_count": 119,
      "metadata": {
        "id": "l98JFXMDBA4h"
      },
      "outputs": [],
      "source": [
        "import requests\n",
        "\n",
        "@tool\n",
        "def products(text: str) -> str:\n",
        "    \"\"\"Retorna lista de produtos de uma loja de\n",
        "    comércio eletrônico chamada ShopAI.\n",
        "    Não requer parâmetro de entrada, se necessário informe vazio.\n",
        "    O resultado será na forma JSON somente com o campo title e price.\"\"\"\n",
        "\n",
        "    retorno = requests.get(\"https://dummyjson.com/products\")\n",
        "    items = json.loads(retorno.content)\n",
        "    items = items[\"products\"][:3]\n",
        "\n",
        "    return items"
      ]
    },
    {
      "cell_type": "code",
      "execution_count": 120,
      "metadata": {
        "colab": {
          "base_uri": "https://localhost:8080/"
        },
        "id": "Obxe6dILKaSv",
        "outputId": "66876720-4da9-49b0-a460-eaac7b67892f"
      },
      "outputs": [
        {
          "name": "stderr",
          "output_type": "stream",
          "text": [
            "/usr/local/lib/python3.10/dist-packages/langchain_core/_api/deprecation.py:139: LangChainDeprecationWarning: The method `BaseTool.__call__` was deprecated in langchain-core 0.1.47 and will be removed in 0.3.0. Use invoke instead.\n",
            "  warn_deprecated(\n"
          ]
        },
        {
          "data": {
            "text/plain": [
              "[{'id': 1,\n",
              "  'title': 'Essence Mascara Lash Princess',\n",
              "  'description': 'The Essence Mascara Lash Princess is a popular mascara known for its volumizing and lengthening effects. Achieve dramatic lashes with this long-lasting and cruelty-free formula.',\n",
              "  'category': 'beauty',\n",
              "  'price': 9.99,\n",
              "  'discountPercentage': 7.17,\n",
              "  'rating': 4.94,\n",
              "  'stock': 5,\n",
              "  'tags': ['beauty', 'mascara'],\n",
              "  'brand': 'Essence',\n",
              "  'sku': 'RCH45Q1A',\n",
              "  'weight': 2,\n",
              "  'dimensions': {'width': 23.17, 'height': 14.43, 'depth': 28.01},\n",
              "  'warrantyInformation': '1 month warranty',\n",
              "  'shippingInformation': 'Ships in 1 month',\n",
              "  'availabilityStatus': 'Low Stock',\n",
              "  'reviews': [{'rating': 2,\n",
              "    'comment': 'Very unhappy with my purchase!',\n",
              "    'date': '2024-05-23T08:56:21.618Z',\n",
              "    'reviewerName': 'John Doe',\n",
              "    'reviewerEmail': 'john.doe@x.dummyjson.com'},\n",
              "   {'rating': 2,\n",
              "    'comment': 'Not as described!',\n",
              "    'date': '2024-05-23T08:56:21.618Z',\n",
              "    'reviewerName': 'Nolan Gonzalez',\n",
              "    'reviewerEmail': 'nolan.gonzalez@x.dummyjson.com'},\n",
              "   {'rating': 5,\n",
              "    'comment': 'Very satisfied!',\n",
              "    'date': '2024-05-23T08:56:21.618Z',\n",
              "    'reviewerName': 'Scarlett Wright',\n",
              "    'reviewerEmail': 'scarlett.wright@x.dummyjson.com'}],\n",
              "  'returnPolicy': '30 days return policy',\n",
              "  'minimumOrderQuantity': 24,\n",
              "  'meta': {'createdAt': '2024-05-23T08:56:21.618Z',\n",
              "   'updatedAt': '2024-05-23T08:56:21.618Z',\n",
              "   'barcode': '9164035109868',\n",
              "   'qrCode': 'https://dummyjson.com/public/qr-code.png'},\n",
              "  'images': ['https://cdn.dummyjson.com/products/images/beauty/Essence%20Mascara%20Lash%20Princess/1.png'],\n",
              "  'thumbnail': 'https://cdn.dummyjson.com/products/images/beauty/Essence%20Mascara%20Lash%20Princess/thumbnail.png'},\n",
              " {'id': 2,\n",
              "  'title': 'Eyeshadow Palette with Mirror',\n",
              "  'description': \"The Eyeshadow Palette with Mirror offers a versatile range of eyeshadow shades for creating stunning eye looks. With a built-in mirror, it's convenient for on-the-go makeup application.\",\n",
              "  'category': 'beauty',\n",
              "  'price': 19.99,\n",
              "  'discountPercentage': 5.5,\n",
              "  'rating': 3.28,\n",
              "  'stock': 44,\n",
              "  'tags': ['beauty', 'eyeshadow'],\n",
              "  'brand': 'Glamour Beauty',\n",
              "  'sku': 'MVCFH27F',\n",
              "  'weight': 3,\n",
              "  'dimensions': {'width': 12.42, 'height': 8.63, 'depth': 29.13},\n",
              "  'warrantyInformation': '1 year warranty',\n",
              "  'shippingInformation': 'Ships in 2 weeks',\n",
              "  'availabilityStatus': 'In Stock',\n",
              "  'reviews': [{'rating': 4,\n",
              "    'comment': 'Very satisfied!',\n",
              "    'date': '2024-05-23T08:56:21.618Z',\n",
              "    'reviewerName': 'Liam Garcia',\n",
              "    'reviewerEmail': 'liam.garcia@x.dummyjson.com'},\n",
              "   {'rating': 1,\n",
              "    'comment': 'Very disappointed!',\n",
              "    'date': '2024-05-23T08:56:21.618Z',\n",
              "    'reviewerName': 'Nora Russell',\n",
              "    'reviewerEmail': 'nora.russell@x.dummyjson.com'},\n",
              "   {'rating': 5,\n",
              "    'comment': 'Highly impressed!',\n",
              "    'date': '2024-05-23T08:56:21.618Z',\n",
              "    'reviewerName': 'Elena Baker',\n",
              "    'reviewerEmail': 'elena.baker@x.dummyjson.com'}],\n",
              "  'returnPolicy': '30 days return policy',\n",
              "  'minimumOrderQuantity': 32,\n",
              "  'meta': {'createdAt': '2024-05-23T08:56:21.618Z',\n",
              "   'updatedAt': '2024-05-23T08:56:21.618Z',\n",
              "   'barcode': '2817839095220',\n",
              "   'qrCode': 'https://dummyjson.com/public/qr-code.png'},\n",
              "  'images': ['https://cdn.dummyjson.com/products/images/beauty/Eyeshadow%20Palette%20with%20Mirror/1.png'],\n",
              "  'thumbnail': 'https://cdn.dummyjson.com/products/images/beauty/Eyeshadow%20Palette%20with%20Mirror/thumbnail.png'},\n",
              " {'id': 3,\n",
              "  'title': 'Powder Canister',\n",
              "  'description': 'The Powder Canister is a finely milled setting powder designed to set makeup and control shine. With a lightweight and translucent formula, it provides a smooth and matte finish.',\n",
              "  'category': 'beauty',\n",
              "  'price': 14.99,\n",
              "  'discountPercentage': 18.14,\n",
              "  'rating': 3.82,\n",
              "  'stock': 59,\n",
              "  'tags': ['beauty', 'face powder'],\n",
              "  'brand': 'Velvet Touch',\n",
              "  'sku': '9EN8WLT2',\n",
              "  'weight': 8,\n",
              "  'dimensions': {'width': 24.16, 'height': 10.7, 'depth': 11.07},\n",
              "  'warrantyInformation': '2 year warranty',\n",
              "  'shippingInformation': 'Ships in 1-2 business days',\n",
              "  'availabilityStatus': 'In Stock',\n",
              "  'reviews': [{'rating': 5,\n",
              "    'comment': 'Very happy with my purchase!',\n",
              "    'date': '2024-05-23T08:56:21.618Z',\n",
              "    'reviewerName': 'Ethan Thompson',\n",
              "    'reviewerEmail': 'ethan.thompson@x.dummyjson.com'},\n",
              "   {'rating': 4,\n",
              "    'comment': 'Great value for money!',\n",
              "    'date': '2024-05-23T08:56:21.618Z',\n",
              "    'reviewerName': 'Levi Hicks',\n",
              "    'reviewerEmail': 'levi.hicks@x.dummyjson.com'},\n",
              "   {'rating': 5,\n",
              "    'comment': 'Highly impressed!',\n",
              "    'date': '2024-05-23T08:56:21.618Z',\n",
              "    'reviewerName': 'Hazel Gardner',\n",
              "    'reviewerEmail': 'hazel.gardner@x.dummyjson.com'}],\n",
              "  'returnPolicy': '60 days return policy',\n",
              "  'minimumOrderQuantity': 25,\n",
              "  'meta': {'createdAt': '2024-05-23T08:56:21.618Z',\n",
              "   'updatedAt': '2024-05-23T08:56:21.618Z',\n",
              "   'barcode': '0516267971277',\n",
              "   'qrCode': 'https://dummyjson.com/public/qr-code.png'},\n",
              "  'images': ['https://cdn.dummyjson.com/products/images/beauty/Powder%20Canister/1.png'],\n",
              "  'thumbnail': 'https://cdn.dummyjson.com/products/images/beauty/Powder%20Canister/thumbnail.png'}]"
            ]
          },
          "execution_count": 120,
          "metadata": {},
          "output_type": "execute_result"
        }
      ],
      "source": [
        "products(\"\")"
      ]
    },
    {
      "cell_type": "code",
      "execution_count": 121,
      "metadata": {
        "id": "bX2FyvI3NG0U"
      },
      "outputs": [],
      "source": [
        "@tool\n",
        "def product(text: str) -> str:\n",
        "    \"\"\"Retorna o produto baseado na sua identificação.\n",
        "    Ela é numérica, mas deve ser enviado no formato texto e é obrigatória ser passado.\n",
        "    Esse é um produto do comércio eletrônico chamada ShopAI.\n",
        "    O resultado será na forma JSON ou dicionário.\"\"\"\n",
        "\n",
        "    retorno = requests.get(\"https://dummyjson.com/products/\"+text)\n",
        "    item = json.loads(retorno.content)\n",
        "\n",
        "    return item"
      ]
    },
    {
      "cell_type": "code",
      "execution_count": 122,
      "metadata": {
        "colab": {
          "base_uri": "https://localhost:8080/"
        },
        "id": "U3GgM3AtNeV1",
        "outputId": "d5599c7c-a424-4777-dbfb-7107c8823b6a"
      },
      "outputs": [
        {
          "data": {
            "text/plain": [
              "{'id': 1,\n",
              " 'title': 'Essence Mascara Lash Princess',\n",
              " 'description': 'The Essence Mascara Lash Princess is a popular mascara known for its volumizing and lengthening effects. Achieve dramatic lashes with this long-lasting and cruelty-free formula.',\n",
              " 'category': 'beauty',\n",
              " 'price': 9.99,\n",
              " 'discountPercentage': 7.17,\n",
              " 'rating': 4.94,\n",
              " 'stock': 5,\n",
              " 'tags': ['beauty', 'mascara'],\n",
              " 'brand': 'Essence',\n",
              " 'sku': 'RCH45Q1A',\n",
              " 'weight': 2,\n",
              " 'dimensions': {'width': 23.17, 'height': 14.43, 'depth': 28.01},\n",
              " 'warrantyInformation': '1 month warranty',\n",
              " 'shippingInformation': 'Ships in 1 month',\n",
              " 'availabilityStatus': 'Low Stock',\n",
              " 'reviews': [{'rating': 2,\n",
              "   'comment': 'Very unhappy with my purchase!',\n",
              "   'date': '2024-05-23T08:56:21.618Z',\n",
              "   'reviewerName': 'John Doe',\n",
              "   'reviewerEmail': 'john.doe@x.dummyjson.com'},\n",
              "  {'rating': 2,\n",
              "   'comment': 'Not as described!',\n",
              "   'date': '2024-05-23T08:56:21.618Z',\n",
              "   'reviewerName': 'Nolan Gonzalez',\n",
              "   'reviewerEmail': 'nolan.gonzalez@x.dummyjson.com'},\n",
              "  {'rating': 5,\n",
              "   'comment': 'Very satisfied!',\n",
              "   'date': '2024-05-23T08:56:21.618Z',\n",
              "   'reviewerName': 'Scarlett Wright',\n",
              "   'reviewerEmail': 'scarlett.wright@x.dummyjson.com'}],\n",
              " 'returnPolicy': '30 days return policy',\n",
              " 'minimumOrderQuantity': 24,\n",
              " 'meta': {'createdAt': '2024-05-23T08:56:21.618Z',\n",
              "  'updatedAt': '2024-05-23T08:56:21.618Z',\n",
              "  'barcode': '9164035109868',\n",
              "  'qrCode': 'https://dummyjson.com/public/qr-code.png'},\n",
              " 'images': ['https://cdn.dummyjson.com/products/images/beauty/Essence%20Mascara%20Lash%20Princess/1.png'],\n",
              " 'thumbnail': 'https://cdn.dummyjson.com/products/images/beauty/Essence%20Mascara%20Lash%20Princess/thumbnail.png'}"
            ]
          },
          "execution_count": 122,
          "metadata": {},
          "output_type": "execute_result"
        }
      ],
      "source": [
        "product(\"1\")"
      ]
    },
    {
      "cell_type": "markdown",
      "metadata": {
        "id": "XO1_qPmeZSPp"
      },
      "source": [
        "Iniciamos o agente como os anteriores."
      ]
    },
    {
      "cell_type": "code",
      "execution_count": 123,
      "metadata": {
        "id": "07wJZAVuOiIV"
      },
      "outputs": [],
      "source": [
        "prompt = hub.pull(\"hwchase17/react\")"
      ]
    },
    {
      "cell_type": "code",
      "execution_count": 124,
      "metadata": {
        "id": "4KVbNrXLOoxL"
      },
      "outputs": [],
      "source": [
        "tools = [products, product]"
      ]
    },
    {
      "cell_type": "code",
      "execution_count": 125,
      "metadata": {
        "id": "B8TEi5-WOiq7"
      },
      "outputs": [],
      "source": [
        "agent = create_react_agent(\n",
        "    chat_openai,\n",
        "    tools,\n",
        "    prompt)"
      ]
    },
    {
      "cell_type": "code",
      "execution_count": 126,
      "metadata": {
        "id": "wLpTndUyOivG"
      },
      "outputs": [],
      "source": [
        "agent_executor = AgentExecutor(\n",
        "    agent=agent, tools=tools, verbose=True, handle_parsing_errors=True\n",
        ")"
      ]
    },
    {
      "cell_type": "markdown",
      "metadata": {
        "id": "g6asjKJcZUtF"
      },
      "source": [
        "Pelas descrições, o modelo LLM será capaz de realizar um \"planejamento\" sobre que ação tomar e quais dados precisa para cada ação."
      ]
    },
    {
      "cell_type": "code",
      "execution_count": 127,
      "metadata": {
        "colab": {
          "base_uri": "https://localhost:8080/"
        },
        "id": "Jhjy4RlNOt_Q",
        "outputId": "6af59384-c75c-4a7e-ed7a-b3ac0c1f724a"
      },
      "outputs": [
        {
          "name": "stdout",
          "output_type": "stream",
          "text": [
            "\n",
            "\n",
            "\u001b[1m> Entering new AgentExecutor chain...\u001b[0m\n",
            "\u001b[32;1m\u001b[1;3mPreciso usar a função products para obter a lista de produtos da loja ShopAI.\n",
            "Action: products\n",
            "Action Input: \u001b[0m\u001b[36;1m\u001b[1;3m[{'id': 1, 'title': 'Essence Mascara Lash Princess', 'description': 'The Essence Mascara Lash Princess is a popular mascara known for its volumizing and lengthening effects. Achieve dramatic lashes with this long-lasting and cruelty-free formula.', 'category': 'beauty', 'price': 9.99, 'discountPercentage': 7.17, 'rating': 4.94, 'stock': 5, 'tags': ['beauty', 'mascara'], 'brand': 'Essence', 'sku': 'RCH45Q1A', 'weight': 2, 'dimensions': {'width': 23.17, 'height': 14.43, 'depth': 28.01}, 'warrantyInformation': '1 month warranty', 'shippingInformation': 'Ships in 1 month', 'availabilityStatus': 'Low Stock', 'reviews': [{'rating': 2, 'comment': 'Very unhappy with my purchase!', 'date': '2024-05-23T08:56:21.618Z', 'reviewerName': 'John Doe', 'reviewerEmail': 'john.doe@x.dummyjson.com'}, {'rating': 2, 'comment': 'Not as described!', 'date': '2024-05-23T08:56:21.618Z', 'reviewerName': 'Nolan Gonzalez', 'reviewerEmail': 'nolan.gonzalez@x.dummyjson.com'}, {'rating': 5, 'comment': 'Very satisfied!', 'date': '2024-05-23T08:56:21.618Z', 'reviewerName': 'Scarlett Wright', 'reviewerEmail': 'scarlett.wright@x.dummyjson.com'}], 'returnPolicy': '30 days return policy', 'minimumOrderQuantity': 24, 'meta': {'createdAt': '2024-05-23T08:56:21.618Z', 'updatedAt': '2024-05-23T08:56:21.618Z', 'barcode': '9164035109868', 'qrCode': 'https://dummyjson.com/public/qr-code.png'}, 'images': ['https://cdn.dummyjson.com/products/images/beauty/Essence%20Mascara%20Lash%20Princess/1.png'], 'thumbnail': 'https://cdn.dummyjson.com/products/images/beauty/Essence%20Mascara%20Lash%20Princess/thumbnail.png'}, {'id': 2, 'title': 'Eyeshadow Palette with Mirror', 'description': \"The Eyeshadow Palette with Mirror offers a versatile range of eyeshadow shades for creating stunning eye looks. With a built-in mirror, it's convenient for on-the-go makeup application.\", 'category': 'beauty', 'price': 19.99, 'discountPercentage': 5.5, 'rating': 3.28, 'stock': 44, 'tags': ['beauty', 'eyeshadow'], 'brand': 'Glamour Beauty', 'sku': 'MVCFH27F', 'weight': 3, 'dimensions': {'width': 12.42, 'height': 8.63, 'depth': 29.13}, 'warrantyInformation': '1 year warranty', 'shippingInformation': 'Ships in 2 weeks', 'availabilityStatus': 'In Stock', 'reviews': [{'rating': 4, 'comment': 'Very satisfied!', 'date': '2024-05-23T08:56:21.618Z', 'reviewerName': 'Liam Garcia', 'reviewerEmail': 'liam.garcia@x.dummyjson.com'}, {'rating': 1, 'comment': 'Very disappointed!', 'date': '2024-05-23T08:56:21.618Z', 'reviewerName': 'Nora Russell', 'reviewerEmail': 'nora.russell@x.dummyjson.com'}, {'rating': 5, 'comment': 'Highly impressed!', 'date': '2024-05-23T08:56:21.618Z', 'reviewerName': 'Elena Baker', 'reviewerEmail': 'elena.baker@x.dummyjson.com'}], 'returnPolicy': '30 days return policy', 'minimumOrderQuantity': 32, 'meta': {'createdAt': '2024-05-23T08:56:21.618Z', 'updatedAt': '2024-05-23T08:56:21.618Z', 'barcode': '2817839095220', 'qrCode': 'https://dummyjson.com/public/qr-code.png'}, 'images': ['https://cdn.dummyjson.com/products/images/beauty/Eyeshadow%20Palette%20with%20Mirror/1.png'], 'thumbnail': 'https://cdn.dummyjson.com/products/images/beauty/Eyeshadow%20Palette%20with%20Mirror/thumbnail.png'}, {'id': 3, 'title': 'Powder Canister', 'description': 'The Powder Canister is a finely milled setting powder designed to set makeup and control shine. With a lightweight and translucent formula, it provides a smooth and matte finish.', 'category': 'beauty', 'price': 14.99, 'discountPercentage': 18.14, 'rating': 3.82, 'stock': 59, 'tags': ['beauty', 'face powder'], 'brand': 'Velvet Touch', 'sku': '9EN8WLT2', 'weight': 8, 'dimensions': {'width': 24.16, 'height': 10.7, 'depth': 11.07}, 'warrantyInformation': '2 year warranty', 'shippingInformation': 'Ships in 1-2 business days', 'availabilityStatus': 'In Stock', 'reviews': [{'rating': 5, 'comment': 'Very happy with my purchase!', 'date': '2024-05-23T08:56:21.618Z', 'reviewerName': 'Ethan Thompson', 'reviewerEmail': 'ethan.thompson@x.dummyjson.com'}, {'rating': 4, 'comment': 'Great value for money!', 'date': '2024-05-23T08:56:21.618Z', 'reviewerName': 'Levi Hicks', 'reviewerEmail': 'levi.hicks@x.dummyjson.com'}, {'rating': 5, 'comment': 'Highly impressed!', 'date': '2024-05-23T08:56:21.618Z', 'reviewerName': 'Hazel Gardner', 'reviewerEmail': 'hazel.gardner@x.dummyjson.com'}], 'returnPolicy': '60 days return policy', 'minimumOrderQuantity': 25, 'meta': {'createdAt': '2024-05-23T08:56:21.618Z', 'updatedAt': '2024-05-23T08:56:21.618Z', 'barcode': '0516267971277', 'qrCode': 'https://dummyjson.com/public/qr-code.png'}, 'images': ['https://cdn.dummyjson.com/products/images/beauty/Powder%20Canister/1.png'], 'thumbnail': 'https://cdn.dummyjson.com/products/images/beauty/Powder%20Canister/thumbnail.png'}]\u001b[0m\u001b[32;1m\u001b[1;3mA lista de produtos da loja ShopAI foi retornada com sucesso.\n",
            "Final Answer: [{'title': 'Essence Mascara Lash Princess', 'price': 9.99}, {'title': 'Eyeshadow Palette with Mirror', 'price': 19.99}, {'title': 'Powder Canister', 'price': 14.99}]\u001b[0m\n",
            "\n",
            "\u001b[1m> Finished chain.\u001b[0m\n"
          ]
        },
        {
          "data": {
            "text/plain": [
              "{'input': 'Traga a lista de produtos da loja ShopAI.',\n",
              " 'output': \"[{'title': 'Essence Mascara Lash Princess', 'price': 9.99}, {'title': 'Eyeshadow Palette with Mirror', 'price': 19.99}, {'title': 'Powder Canister', 'price': 14.99}]\"}"
            ]
          },
          "execution_count": 127,
          "metadata": {},
          "output_type": "execute_result"
        }
      ],
      "source": [
        "agent_executor.invoke({\"input\": \"Traga a lista de produtos da loja ShopAI.\"})"
      ]
    },
    {
      "cell_type": "code",
      "execution_count": 128,
      "metadata": {
        "colab": {
          "base_uri": "https://localhost:8080/"
        },
        "id": "1U08B0j6EJfi",
        "outputId": "985558c3-ba58-4a10-c1cb-1746cfcbaa82"
      },
      "outputs": [
        {
          "name": "stdout",
          "output_type": "stream",
          "text": [
            "\n",
            "\n",
            "\u001b[1m> Entering new AgentExecutor chain...\u001b[0m\n",
            "\u001b[32;1m\u001b[1;3mPreciso usar a função product para encontrar o produto com a identificação 1.\n",
            "Action: product\n",
            "Action Input: \"1\"\u001b[0m\u001b[33;1m\u001b[1;3m{'id': 1, 'title': 'Essence Mascara Lash Princess', 'description': 'The Essence Mascara Lash Princess is a popular mascara known for its volumizing and lengthening effects. Achieve dramatic lashes with this long-lasting and cruelty-free formula.', 'category': 'beauty', 'price': 9.99, 'discountPercentage': 7.17, 'rating': 4.94, 'stock': 5, 'tags': ['beauty', 'mascara'], 'brand': 'Essence', 'sku': 'RCH45Q1A', 'weight': 2, 'dimensions': {'width': 23.17, 'height': 14.43, 'depth': 28.01}, 'warrantyInformation': '1 month warranty', 'shippingInformation': 'Ships in 1 month', 'availabilityStatus': 'Low Stock', 'reviews': [{'rating': 2, 'comment': 'Very unhappy with my purchase!', 'date': '2024-05-23T08:56:21.618Z', 'reviewerName': 'John Doe', 'reviewerEmail': 'john.doe@x.dummyjson.com'}, {'rating': 2, 'comment': 'Not as described!', 'date': '2024-05-23T08:56:21.618Z', 'reviewerName': 'Nolan Gonzalez', 'reviewerEmail': 'nolan.gonzalez@x.dummyjson.com'}, {'rating': 5, 'comment': 'Very satisfied!', 'date': '2024-05-23T08:56:21.618Z', 'reviewerName': 'Scarlett Wright', 'reviewerEmail': 'scarlett.wright@x.dummyjson.com'}], 'returnPolicy': '30 days return policy', 'minimumOrderQuantity': 24, 'meta': {'createdAt': '2024-05-23T08:56:21.618Z', 'updatedAt': '2024-05-23T08:56:21.618Z', 'barcode': '9164035109868', 'qrCode': 'https://dummyjson.com/public/qr-code.png'}, 'images': ['https://cdn.dummyjson.com/products/images/beauty/Essence%20Mascara%20Lash%20Princess/1.png'], 'thumbnail': 'https://cdn.dummyjson.com/products/images/beauty/Essence%20Mascara%20Lash%20Princess/thumbnail.png'}\u001b[0m\u001b[32;1m\u001b[1;3mEu tenho todas as informações do produto com identificação 1.\n",
            "Final Answer: {'id': 1, 'title': 'Essence Mascara Lash Princess', 'description': 'The Essence Mascara Lash Princess is a popular mascara known for its volumizing and lengthening effects. Achieve dramatic lashes with this long-lasting and cruelty-free formula.', 'category': 'beauty', 'price': 9.99, 'discountPercentage': 7.17, 'rating': 4.94, 'stock': 5, 'tags': ['beauty', 'mascara'], 'brand': 'Essence', 'sku': 'RCH45Q1A', 'weight': 2, 'dimensions': {'width': 23.17, 'height': 14.43, 'depth': 28.01}, 'warrantyInformation': '1 month warranty', 'shippingInformation': 'Ships in 1 month', 'availabilityStatus': 'Low Stock', 'reviews': [{'rating': 2, 'comment': 'Very unhappy with my purchase!', 'date': '2024-05-23T08:56:21.618Z', 'reviewerName': 'John Doe', 'reviewerEmail': 'john.doe@x.dummyjson.com'}, {'rating': 2, 'comment': 'Not as described!', 'date': '2024-05-23T08:56:21.618Z', 'reviewerName': 'Nolan Gonzalez', 'reviewerEmail': 'nolan.gonzalez@x.dummyjson.com'}, {'rating': 5, 'comment': 'Very satisfied!', 'date': '2024-05-23T08:56:21.618Z', 'reviewerName': 'Scarlett Wright', 'reviewerEmail': 'scarlett.wright@x.dummyjson.com'}], 'returnPolicy': '30 days return policy', 'minimumOrderQuantity': 24, 'meta': {'createdAt': '2024-05-23T08:56:21.618Z', 'updatedAt': '2024-05-23T08:56:21.618Z', 'barcode': '9164035109868', 'qrCode': 'https://dummyjson.com/public/qr-code.png'}, 'images': ['https://cdn.dummyjson.com/products/images/beauty/Essence%20Mascara%20Lash%20Princess/1.png'], 'thumbnail': 'https://cdn.dummyjson.com/products/images/beauty/Essence%20Mascara%20Lash%20Princess/thumbnail.png'}\u001b[0m\n",
            "\n",
            "\u001b[1m> Finished chain.\u001b[0m\n"
          ]
        },
        {
          "data": {
            "text/plain": [
              "{'input': 'Traga o produto com identificação 1 da loja ShopAI.',\n",
              " 'output': \"{'id': 1, 'title': 'Essence Mascara Lash Princess', 'description': 'The Essence Mascara Lash Princess is a popular mascara known for its volumizing and lengthening effects. Achieve dramatic lashes with this long-lasting and cruelty-free formula.', 'category': 'beauty', 'price': 9.99, 'discountPercentage': 7.17, 'rating': 4.94, 'stock': 5, 'tags': ['beauty', 'mascara'], 'brand': 'Essence', 'sku': 'RCH45Q1A', 'weight': 2, 'dimensions': {'width': 23.17, 'height': 14.43, 'depth': 28.01}, 'warrantyInformation': '1 month warranty', 'shippingInformation': 'Ships in 1 month', 'availabilityStatus': 'Low Stock', 'reviews': [{'rating': 2, 'comment': 'Very unhappy with my purchase!', 'date': '2024-05-23T08:56:21.618Z', 'reviewerName': 'John Doe', 'reviewerEmail': 'john.doe@x.dummyjson.com'}, {'rating': 2, 'comment': 'Not as described!', 'date': '2024-05-23T08:56:21.618Z', 'reviewerName': 'Nolan Gonzalez', 'reviewerEmail': 'nolan.gonzalez@x.dummyjson.com'}, {'rating': 5, 'comment': 'Very satisfied!', 'date': '2024-05-23T08:56:21.618Z', 'reviewerName': 'Scarlett Wright', 'reviewerEmail': 'scarlett.wright@x.dummyjson.com'}], 'returnPolicy': '30 days return policy', 'minimumOrderQuantity': 24, 'meta': {'createdAt': '2024-05-23T08:56:21.618Z', 'updatedAt': '2024-05-23T08:56:21.618Z', 'barcode': '9164035109868', 'qrCode': 'https://dummyjson.com/public/qr-code.png'}, 'images': ['https://cdn.dummyjson.com/products/images/beauty/Essence%20Mascara%20Lash%20Princess/1.png'], 'thumbnail': 'https://cdn.dummyjson.com/products/images/beauty/Essence%20Mascara%20Lash%20Princess/thumbnail.png'}\"}"
            ]
          },
          "execution_count": 128,
          "metadata": {},
          "output_type": "execute_result"
        }
      ],
      "source": [
        "agent_executor.invoke({\"input\": \"Traga o produto com identificação 1 da loja ShopAI.\"})"
      ]
    }
  ],
  "metadata": {
    "colab": {
      "provenance": [],
      "toc_visible": true
    },
    "kernelspec": {
      "display_name": "Python 3",
      "name": "python3"
    },
    "language_info": {
      "codemirror_mode": {
        "name": "ipython",
        "version": 3
      },
      "file_extension": ".py",
      "mimetype": "text/x-python",
      "name": "python",
      "nbconvert_exporter": "python",
      "pygments_lexer": "ipython3",
      "version": "3.10.8"
    }
  },
  "nbformat": 4,
  "nbformat_minor": 0
}
